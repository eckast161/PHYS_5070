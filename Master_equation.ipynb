{
 "cells": [
  {
   "cell_type": "markdown",
   "metadata": {},
   "source": [
    "# Model Description"
   ]
  },
  {
   "cell_type": "markdown",
   "metadata": {},
   "source": [
    "\\begin{align}\n",
    "H_{{\\rm S}} & =\\sum_{i}\\overrightarrow{h_{i}}\\cdot\\overrightarrow{\\sigma_{i}}+\\sum_{ij\\alpha\\beta}A_{ij}\\sigma_{i}^{\\alpha}\\sigma_{j}^{\\beta},\\\\\n",
    "\\overrightarrow{\\sigma_{i}} & =\\left(\\sigma_{i}^{x},\\sigma_{i}^{y},\\sigma_{i}^{z}\\right),\\\\\n",
    "\\alpha,\\beta & \\in\\left\\{ x,y,z\\right\\} ,\\\\\n",
    "\\sigma_{i}^{x} & =\\begin{pmatrix}0 & 1\\\\\n",
    "1 & 0\n",
    "\\end{pmatrix},\\\\\n",
    "\\sigma_{i}^{y} & =\\begin{pmatrix}0 & -{\\rm i}\\\\\n",
    "{\\rm i} & 0\n",
    "\\end{pmatrix},\\\\\n",
    "\\sigma_{i}^{z} & =\\begin{pmatrix}1 & 0\\\\\n",
    "0 & -1\n",
    "\\end{pmatrix},\\\\\n",
    "\\mathcal{L} & \\Rightarrow\\sqrt{\\gamma_{+}}\\sigma_{i}^{+},\\sqrt{\\gamma_{-}}\\sigma_{i}^{-},\\sqrt{\\gamma_{z}}\\sigma_{i}^{z},\\\\\n",
    "\\sigma_{i}^{+} & =\\begin{pmatrix}0 & 1\\\\\n",
    "0 & 0\n",
    "\\end{pmatrix},\\\\\n",
    "\\sigma_{i}^{-} & =\\begin{pmatrix}0 & 0\\\\\n",
    "1 & 0\n",
    "\\end{pmatrix},\\\\\n",
    "\\sigma_{i}^{z} & =\\begin{pmatrix}1 & 0\\\\\n",
    "0 & -1\n",
    "\\end{pmatrix},\\\\\n",
    "{\\rm i}\\frac{\\partial\\rho}{\\partial t} & =\\left[H,\\rho\\right]+\\mathcal{L}\\left[\\rho\\right],\\\\\n",
    "\\mathcal{L}\\left[\\rho\\right] & =-\\sum_{i,\\eta}\\gamma_{\\eta}\\left(\\rho A_{\\eta}^{\\dagger i}A_{\\eta}^{i}+A_{\\eta}^{\\dagger i}A_{\\eta}^{i}\\rho-2A_{\\eta}^{i}\\rho A_{\\eta}^{\\dagger i}\\right),\\\\\n",
    "A_{\\eta}^{i} & =\\sigma_{i}^{\\eta},,\\eta\\!\\in\\!\\left\\{ +,-,z\\right\\} ,\\\\\n",
    "\\frac{\\partial\\rho}{\\partial t} & =-{\\rm i}\\left[H_{{\\rm S}},\\rho\\right]-\\sum_{i,\\eta}\\gamma_{\\eta}\\left(\\rho A_{\\eta}^{\\dagger i}A_{\\eta}^{i}+A_{\\eta}^{\\dagger i}A_{\\eta}^{i}\\rho-2A_{\\eta}^{i}\\rho A_{\\eta}^{\\dagger i}\\right)\\\\\n",
    " & =-{\\rm i}\\left[H_{{\\rm S}},\\rho\\right]-\\sum_{i,\\eta}\\gamma_{\\eta}\\left(\\left\\{ \\rho,A_{\\eta}^{\\dagger i}A_{\\eta}^{i}\\right\\} -2A_{\\eta}^{i}\\rho A_{\\eta}^{\\dagger i}\\right),\\\\\n",
    "A_{+}^{\\dagger i}A_{+}^{i} & =\\begin{pmatrix}0 & 1\\\\\n",
    "0 & 0\n",
    "\\end{pmatrix}^{\\dagger}\\begin{pmatrix}0 & 1\\\\\n",
    "0 & 0\n",
    "\\end{pmatrix}\\\\\n",
    " & =\\begin{pmatrix}0 & 0\\\\\n",
    "0 & 1\n",
    "\\end{pmatrix},\\\\\n",
    "A_{-}^{\\dagger i}A_{-}^{i} & =\\begin{pmatrix}0 & 0\\\\\n",
    "1 & 0\n",
    "\\end{pmatrix}^{\\dagger}\\begin{pmatrix}0 & 0\\\\\n",
    "1 & 0\n",
    "\\end{pmatrix}\\\\\n",
    " & =\\begin{pmatrix}1 & 0\\\\\n",
    "0 & 0\n",
    "\\end{pmatrix},\\\\\n",
    "A_{z}^{\\dagger i}A_{z}^{i} & =\\begin{pmatrix}1 & 0\\\\\n",
    "0 & 1\n",
    "\\end{pmatrix},\\\\\n",
    "\\sum_{\\eta}\\gamma_{\\eta}A_{\\eta}^{\\dagger i}A_{\\eta}^{i} & =\\begin{pmatrix}\\gamma_{z}+\\gamma_{-} & 0\\\\\n",
    "0 & \\gamma_{z}+\\gamma_{+}\n",
    "\\end{pmatrix},\\\\\n",
    "\\frac{\\partial\\rho}{\\partial t} & =-{\\rm i}\\left[H_{{\\rm S}},\\rho\\right]-\\sum_{i,\\eta}\\gamma_{\\eta}\\left\\{ \\rho,A_{\\eta}^{\\dagger i}A_{\\eta}^{i}\\right\\} +2\\sum_{i,\\eta}\\gamma_{\\eta}A_{\\eta}^{i}\\rho A_{\\eta}^{\\dagger i}\\\\\n",
    " & =-{\\rm i}\\left[H_{{\\rm S}},\\rho\\right]-\\left\\{ \\rho,\\sum_{i,\\eta}\\gamma_{\\eta}A_{\\eta}^{\\dagger i}A_{\\eta}^{i}\\right\\} +2\\sum_{i,\\eta}\\gamma_{\\eta}A_{\\eta}^{i}\\rho A_{\\eta}^{\\dagger i}\\\\\n",
    " & =-{\\rm i}\\left[H_{{\\rm S}},\\rho\\right]-\\left\\{ \\rho,\\sum_{i}\\begin{pmatrix}\\gamma_{z}+\\gamma_{-} & 0\\\\\n",
    "0 & \\gamma_{z}+\\gamma_{+}\n",
    "\\end{pmatrix}_{i}\\right\\} +2\\sum_{i,\\eta}\\gamma_{\\eta}A_{\\eta}^{i}\\rho A_{\\eta}^{\\dagger i}\n",
    "\\end{align}"
   ]
  },
  {
   "cell_type": "code",
   "execution_count": 149,
   "metadata": {},
   "outputs": [],
   "source": [
    "import numpy as np\n",
    "import qutip.testing as qt\n",
    "#qt.run()\n",
    "from qutip import *\n",
    "import numpy as np\n",
    "import matplotlib.pyplot as plt\n",
    "import pandas as pd\n",
    "from neupy import plots\n",
    "import time\n",
    "from sympy import *\n",
    "from qutip import tensor"
   ]
  },
  {
   "cell_type": "markdown",
   "metadata": {},
   "source": [
    "We construct at first the term $\\Sigma_i\\overrightarrow{h_{i}}\\cdot\\overrightarrow{\\sigma_{i}}$."
   ]
  },
  {
   "cell_type": "code",
   "execution_count": 150,
   "metadata": {},
   "outputs": [
    {
     "name": "stdout",
     "output_type": "stream",
     "text": [
      "0.040960073471069336\n"
     ]
    },
    {
     "data": {
      "image/png": "[encoded data removed]",
      "text/plain": [
       "<Figure size 576x432 with 2 Axes>"
      ]
     },
     "metadata": {
      "needs_background": "light"
     },
     "output_type": "display_data"
    }
   ],
   "source": [
    "# Matrix of vectors Nx3. This will be set by the user.\n",
    "Total_time=0\n",
    "#--------------------------------------------------------------------------------------------\n",
    "\n",
    "#code_block\n",
    "N=1 #Number of spins to be considered starting from the position 0\n",
    "\n",
    "#Matr_h=[[0,-1,0.2],[0.4,0.2,-0.1],[0.2,-0.4,0.1],[-1,1,1]]   #Matrix for N=4 shown as example\n",
    "\n",
    "Matr_h=np.random.randn(N, 3) #The user can set this matrix which summarizes the vectors\n",
    "\n",
    "#Vector form of Pauli matrices\n",
    "\n",
    "def dot_arr_matr(f):\n",
    "    return f[0]*sigmax()+f[1]*sigmay()+f[2]*sigmaz()\n",
    "\n",
    "def Pauli(i):\n",
    "    if i==1:\n",
    "        return sigmax()\n",
    "    elif i==2:\n",
    "        return sigmay()\n",
    "    elif i==3:\n",
    "        return sigmaz()\n",
    "\n",
    "#--------------------------------------------------------------------------------------------\n",
    "\n",
    "# Matrix of vectors Nx3. This will be set by the user.\n",
    "\n",
    "t0 = time.time()\n",
    "#--------------------------------------------------------------------------------------------\n",
    "\n",
    "# Independent hamiltonian of the system\n",
    "H_ind=[]\n",
    "\n",
    "for j in range(N):\n",
    "    H_ind.append(dot_arr_matr(Matr_h[j])) \n",
    "\n",
    "H=tensor(H_ind)  \n",
    "\n",
    "\n",
    "t1 = time.time()\n",
    "\n",
    "hinton(H)\n",
    "\n",
    "#--------------------------------------------------------------------------------------------\n",
    "\n",
    "\n",
    "t2 = time.time()\n",
    "\n",
    "\n",
    "Total_time=Total_time+t2-t0\n",
    "print(t2-t0)"
   ]
  },
  {
   "cell_type": "code",
   "execution_count": 151,
   "metadata": {},
   "outputs": [
    {
     "name": "stdout",
     "output_type": "stream",
     "text": [
      "0.03800344467163086\n"
     ]
    },
    {
     "data": {
      "image/png": "[encoded data removed]",
      "text/plain": [
       "<Figure size 576x432 with 2 Axes>"
      ]
     },
     "metadata": {
      "needs_background": "light"
     },
     "output_type": "display_data"
    }
   ],
   "source": [
    "# Matrix of vectors Nx3. This will be set by the user.\n",
    "\n",
    "t0 = time.time()\n",
    "#--------------------------------------------------------------------------------------------\n",
    "\n",
    "\n",
    "\n",
    "A=np.random.randn(N, N)  #The user can set also the interaction matrix which contains information of the interaction between the spins.\n",
    "Sum_Pauli=Pauli(1)+Pauli(2)+Pauli(3)\n",
    "\n",
    "\n",
    "System_inter=[]\n",
    "for j in range(N): \n",
    "    System_inter.append(0*qeye(2)) \n",
    "    \n",
    "def sum_ar(A,B):\n",
    "    C=[]\n",
    "    for j in range(N): \n",
    "        C.append(qeye(2)) \n",
    "    for j in range(len(A)):\n",
    "        C[j]=A[j]+B[j]\n",
    "    return C\n",
    "\n",
    "    \n",
    "    \n",
    "def Contr_int(i,j):\n",
    "    C=[]\n",
    "    for j in range(N): \n",
    "        C.append(qeye(2))\n",
    "    if i==j:    \n",
    "        C[i]=3*qeye(2)\n",
    "    elif i!=j:\n",
    "        C[i]=Sum_Pauli\n",
    "        C[j]=Sum_Pauli\n",
    "    return C\n",
    "\n",
    "for j in range(N):\n",
    "    for i in range(N):\n",
    "        System_inter=sum_ar(System_inter,np.multiply(Contr_int(i,j),A[i][j]))   \n",
    "    #Actually to have a better visualization we can consider the application A---->A/(3*max(A))\n",
    "        \n",
    "Hint=tensor(System_inter)\n",
    "\n",
    "t1 = time.time()\n",
    "\n",
    "#--------------------------------------------------------------------------------------------\n",
    "\n",
    "H=H+Hint  #System Hamiltonian\n",
    "hinton(H)   #Uncomment to increase the code speed\n",
    "\n",
    "\n",
    "t2 = time.time()\n",
    "\n",
    "\n",
    "Total_time=Total_time+t2-t0\n",
    "\n",
    "print(t2-t0)"
   ]
  },
  {
   "cell_type": "code",
   "execution_count": 152,
   "metadata": {},
   "outputs": [
    {
     "name": "stdout",
     "output_type": "stream",
     "text": [
      "0.0019674301147460938\n"
     ]
    }
   ],
   "source": [
    "#Generalized gamma operator\n",
    "\n",
    "Gamma_coef=[0.2, 0.3, 0.1]  #User can set this feature\n",
    "A_set=[Qobj([[0,1],[0,0]]),Qobj([[0,0],[1,0]]),Qobj([[1,0],[0,-1]])]\n",
    "\n",
    "\n",
    "t0=time.time()\n",
    "#---------------------------------------------------------------------------------\n",
    "\n",
    "\n",
    "Gamma_matrix=Qobj([[Gamma_coef[2]+Gamma_coef[1],0],[0,Gamma_coef[2]+Gamma_coef[0]]])\n",
    "\n",
    "def Gamma_i(i):\n",
    "    C=[]\n",
    "    for j in range(N): \n",
    "        C.append(qeye(2)) \n",
    "    C[i]=Gamma_matrix\n",
    "    return C\n",
    "\n",
    "\n",
    "Gamma_gen=0\n",
    "for j in range(N):\n",
    "    Gamma_gen=Gamma_gen+tensor(Gamma_i(j))\n",
    "    \n",
    "    \n",
    "#-----------------------------------------------------------------------------------\n",
    "\n",
    "\n",
    "t1=time.time()\n",
    "\n",
    "\n",
    "Total_time=Total_time+t1-t0\n",
    "print(t1-t0)"
   ]
  },
  {
   "cell_type": "markdown",
   "metadata": {},
   "source": [
    "In the previous cell we constructed $\\gamma_{{\\rm gen}}=\\sum_{i}\\begin{pmatrix}\\gamma_{z}+\\gamma_{-} & 0\\\\\n",
    "0 & \\gamma_{z}+\\gamma_{+}\n",
    "\\end{pmatrix}_{i},$"
   ]
  },
  {
   "cell_type": "code",
   "execution_count": 153,
   "metadata": {},
   "outputs": [],
   "source": [
    "def A_oper(rho,i,eta):  #i goes from 0 to N-1 and j goes from 0 to 2\n",
    "    C=[]\n",
    "    for w in range(N): \n",
    "        C.append(qeye(2))    \n",
    "    C[i]=A_set[eta]\n",
    "    return Gamma_coef[eta]*(tensor(C).full())*rho*(np.transpose(np.conjugate(tensor(C))))"
   ]
  },
  {
   "cell_type": "markdown",
   "metadata": {},
   "source": [
    "We constructed the term $\\gamma_{\\eta}A_{\\eta}^{i}\\rho A_{\\eta}^{\\dagger i}$ in the previous cell"
   ]
  },
  {
   "cell_type": "code",
   "execution_count": 154,
   "metadata": {},
   "outputs": [],
   "source": [
    "def Density_matrix(N):\n",
    "    Rho_list=[]\n",
    "    for j in range((2**N)*(2**N)):\n",
    "        w=symbols('rho'+str(j),real=True)\n",
    "        Rho_list.append(w)#,real=True)\n",
    "    Matr_Rho_Sup=Matrix(np.zeros((2**N, 2**N)))\n",
    "    count=0\n",
    "    for i in range(2**N):\n",
    "        for j in range(0,i+1):\n",
    "            if i==j:\n",
    "                count=count+1\n",
    "            else:\n",
    "                Matr_Rho_Sup[(2**N)*i+j]=Rho_list[count]-1j*Rho_list[count+1]\n",
    "                count=count+2\n",
    "    Matr_Rho_Inf=Matrix(np.zeros((2**N, 2**N)))\n",
    "    count=0\n",
    "    for i in range(2**N):\n",
    "        for j in range(0,i+1):\n",
    "            if i==j:\n",
    "                Matr_Rho_Inf[(2**N)*i+j]=Rho_list[count]\n",
    "                count=count+1\n",
    "            else:\n",
    "                Matr_Rho_Inf[(2**N)*i+j]=Rho_list[count]+1j*Rho_list[count+1]\n",
    "                count=count+2\n",
    "    return Matr_Rho_Inf+transpose(Matr_Rho_Sup)"
   ]
  },
  {
   "cell_type": "code",
   "execution_count": 155,
   "metadata": {},
   "outputs": [
    {
     "name": "stdout",
     "output_type": "stream",
     "text": [
      "0.012996196746826172\n"
     ]
    }
   ],
   "source": [
    "t0=time.time()\n",
    "#---------------------------------------------------------------------------------\n",
    "rho_sys=Density_matrix(N)\n",
    "\n",
    "rho_central= np.zeros((2**N, 2**N))\n",
    "for i in range(N):\n",
    "    for eta in range(3):\n",
    "        rho_central=rho_central+A_oper(rho_sys,i,eta)\n",
    "        \n",
    "\n",
    "#---------------------------------------------------------------------------------\n",
    "t1=time.time()\n",
    "\n",
    "Total_time=Total_time+t1-t0\n",
    "\n",
    "print(t1-t0)        "
   ]
  },
  {
   "cell_type": "markdown",
   "metadata": {},
   "source": [
    "We constructed the term $\\sum_{\\eta,i}\\gamma_{\\eta}A_{\\eta}^{i}\\rho A_{\\eta}^{\\dagger i}$ in the previous cell for an explicit $\\rho$. For solving the master equation we will come back to this function"
   ]
  },
  {
   "cell_type": "code",
   "execution_count": 156,
   "metadata": {},
   "outputs": [
    {
     "name": "stdout",
     "output_type": "stream",
     "text": [
      "0.027001380920410156\n"
     ]
    }
   ],
   "source": [
    "t0=time.time()\n",
    "\n",
    "RHS_me=-1j*(H*rho_sys-rho_sys*H)-(rho_sys*Gamma_gen+Gamma_gen*rho_sys)+2*rho_central\n",
    "\n",
    "t1=time.time()\n",
    "\n",
    "Total_time=Total_time+t1-t0\n",
    "print(t1-t0)"
   ]
  },
  {
   "cell_type": "markdown",
   "metadata": {},
   "source": [
    "The previous cell generated using symbolic algebra the right hand side of the master equation given by:\n",
    "\n",
    "$-{\\rm i}\\left[H_{{\\rm S}},\\rho\\right]-\\left\\{ \\rho,\\sum_{i}\\begin{pmatrix}\\gamma_{z}+\\gamma_{-} & 0\\\\\n",
    "0 & \\gamma_{z}+\\gamma_{+}\n",
    "\\end{pmatrix}_{i}\\right\\} +2\\sum_{i,\\eta}\\gamma_{\\eta}A_{\\eta}^{i}\\rho A_{\\eta}^{\\dagger i},$\n",
    "\n",
    "If we want we can visualize the real and imaginary parts of the previous expression, which could be used to solve the ODE via (re(RHS_me) and im(RHS_me))"
   ]
  },
  {
   "cell_type": "code",
   "execution_count": 157,
   "metadata": {},
   "outputs": [
    {
     "data": {
      "text/plain": [
       "0.12092852592468262"
      ]
     },
     "execution_count": 157,
     "metadata": {},
     "output_type": "execute_result"
    }
   ],
   "source": [
    "Total_time   #Total time needed to prepare the Righ-hand-side of the master equation"
   ]
  },
  {
   "cell_type": "code",
   "execution_count": 158,
   "metadata": {},
   "outputs": [],
   "source": [
    "def Vectorization(Matr):\n",
    "    Rho_vector=[]\n",
    "    for j in range(2**N):\n",
    "        for i in range(0,j+1):\n",
    "            Rho_vector.append(Matr[(2**N)*j+i])\n",
    "    return Rho_vector\n",
    "  \n",
    "\n",
    "    \n",
    "def remove_zeros(A):\n",
    "    C=[]\n",
    "    for j in A:\n",
    "        if j!=0:\n",
    "            C.append(j)\n",
    "    return C    "
   ]
  },
  {
   "cell_type": "code",
   "execution_count": 159,
   "metadata": {},
   "outputs": [],
   "source": [
    "Rho_list=[]\n",
    "for j in range((2**N)*(2**N)):\n",
    "    w=symbols('rho'+str(j),real=True)\n",
    "    Rho_list.append(w)#,real=True)"
   ]
  },
  {
   "cell_type": "code",
   "execution_count": 160,
   "metadata": {},
   "outputs": [],
   "source": [
    "hu=remove_zeros(Vectorization(re(rho_sys))+Vectorization(im(rho_sys)))\n",
    "rhshu=remove_zeros(Vectorization(re(RHS_me))+Vectorization(im(RHS_me)))"
   ]
  },
  {
   "cell_type": "code",
   "execution_count": 161,
   "metadata": {},
   "outputs": [
    {
     "data": {
      "text/plain": [
       "[rho0, rho1, rho3, 1.0*rho2]"
      ]
     },
     "execution_count": 161,
     "metadata": {},
     "output_type": "execute_result"
    }
   ],
   "source": [
    "hu"
   ]
  },
  {
   "cell_type": "code",
   "execution_count": 162,
   "metadata": {},
   "outputs": [
    {
     "data": {
      "text/plain": [
       "[-0.6*rho0 - 1.84968604733656*rho1 + 0.659198039245831*rho2 + 0.4*rho3,\n",
       " 0.924843023668278*rho0 - 0.9*rho1 - 1.45972679862947*rho2 - 0.924843023668278*rho3,\n",
       " 0.6*rho0 + 1.84968604733656*rho1 - 0.659198039245831*rho2 - 0.4*rho3,\n",
       " -0.329599019622915*rho0 + 1.45972679862947*rho1 - 0.9*rho2 + 0.329599019622915*rho3]"
      ]
     },
     "execution_count": 162,
     "metadata": {},
     "output_type": "execute_result"
    }
   ],
   "source": [
    "rhshu\n",
    "            "
   ]
  },
  {
   "cell_type": "code",
   "execution_count": 163,
   "metadata": {},
   "outputs": [],
   "source": [
    "import numpy as np\n",
    "import matplotlib.pyplot as plt\n",
    "from scipy.integrate import odeint\n",
    "\n",
    "\n",
    "\n",
    "def f(y, t):\n",
    "    [rho0, rho1, rho3, rho2]= y      # unpack current values of y\n",
    "    Q, d, Omega = params  # unpack parameters\n",
    "    G=[-0.6*rho0 + 0.677102314650945*rho1 + 4.71053360760262*rho2 + 0.4*rho3,\n",
    " -0.338551157325473*rho0 - 0.9*rho1 - 1.94323155332333*rho2 + 0.338551157325473*rho3,\n",
    " 0.6*rho0 - 0.677102314650945*rho1 - 4.71053360760262*rho2 - 0.4*rho3,\n",
    " -2.35526680380131*rho0 + 1.94323155332333*rho1 - 0.9*rho2 + 2.35526680380131*rho3]\n",
    "    derivs =G\n",
    "    return derivs\n",
    "\n",
    "theta0 = 1     # initial angular displacement\n",
    "omega0 = 0\n",
    "\n",
    "\n",
    "y0 = [1,0,0,0]\n",
    "\n",
    "params = [0, 0, 0]\n",
    "\n",
    "tStop = 4000\n",
    "tInc = 0.05\n",
    "t = np.arange(0., tStop, tInc)\n",
    "\n",
    "\n",
    "psoln = odeint(f, y0, t)"
   ]
  },
  {
   "cell_type": "code",
   "execution_count": 164,
   "metadata": {},
   "outputs": [
    {
     "name": "stderr",
     "output_type": "stream",
     "text": [
      "<ipython-input-164-31e4c2b8216e>:11: MatplotlibDeprecationWarning: Adding an axes using the same arguments as a previous axes currently reuses the earlier instance.  In a future version, a new instance will always be created and returned.  Meanwhile, this warning can be suppressed, and the future behavior ensured, by passing a unique label to each axes instance.\n",
      "  ax2 = fig.add_subplot(311)\n",
      "<ipython-input-164-31e4c2b8216e>:15: MatplotlibDeprecationWarning: Adding an axes using the same arguments as a previous axes currently reuses the earlier instance.  In a future version, a new instance will always be created and returned.  Meanwhile, this warning can be suppressed, and the future behavior ensured, by passing a unique label to each axes instance.\n",
      "  ax3 = fig.add_subplot(311)\n",
      "<ipython-input-164-31e4c2b8216e>:18: MatplotlibDeprecationWarning: Adding an axes using the same arguments as a previous axes currently reuses the earlier instance.  In a future version, a new instance will always be created and returned.  Meanwhile, this warning can be suppressed, and the future behavior ensured, by passing a unique label to each axes instance.\n",
      "  ax4 = fig.add_subplot(311)\n"
     ]
    },
    {
     "data": {
      "text/plain": [
       "[<matplotlib.lines.Line2D at 0x2cdc0ff3d60>]"
      ]
     },
     "execution_count": 164,
     "metadata": {},
     "output_type": "execute_result"
    },
    {
     "data": {
      "image/png": "[encoded data removed]",
      "text/plain": [
       "<Figure size 576x576 with 1 Axes>"
      ]
     },
     "metadata": {
      "needs_background": "light"
     },
     "output_type": "display_data"
    }
   ],
   "source": [
    "# Plot results\n",
    "fig = plt.figure(1, figsize=(8,8))\n",
    "\n",
    "# Plot theta as a function of time\n",
    "ax1 = fig.add_subplot(311)\n",
    "ax1.plot(t, psoln[:,0])\n",
    "ax1.set_xlabel('time')\n",
    "ax1.set_ylabel('theta')\n",
    "\n",
    "# Plot omega as a function of time\n",
    "ax2 = fig.add_subplot(311)\n",
    "ax2.plot(t, psoln[:,1])\n",
    "\n",
    "\n",
    "ax3 = fig.add_subplot(311)\n",
    "ax3.plot(t, psoln[:,2])\n",
    "\n",
    "ax4 = fig.add_subplot(311)\n",
    "ax4.plot(t, psoln[:,3])"
   ]
  },
  {
   "cell_type": "code",
   "execution_count": null,
   "metadata": {},
   "outputs": [],
   "source": []
  },
  {
   "cell_type": "code",
   "execution_count": null,
   "metadata": {},
   "outputs": [],
   "source": []
  },
  {
   "cell_type": "code",
   "execution_count": 165,
   "metadata": {},
   "outputs": [
    {
     "data": {
      "image/png": "[encoded data removed]",
      "text/plain": [
       "<Figure size 576x576 with 3 Axes>"
      ]
     },
     "metadata": {
      "needs_background": "light"
     },
     "output_type": "display_data"
    }
   ],
   "source": [
    "import numpy as np\n",
    "import matplotlib.pyplot as plt\n",
    "from scipy.integrate import odeint\n",
    "\n",
    "def f(y, t, params):\n",
    "    theta, omega = y      # unpack current values of y\n",
    "    Q, d, Omega = params  # unpack parameters\n",
    "    derivs = [omega,      # list of dy/dt=f functions\n",
    "             -omega/Q + np.sin(theta) + d*np.cos(Omega*t)]\n",
    "    return derivs\n",
    "\n",
    "# Parameters\n",
    "Q = 2.0          # quality factor (inverse damping)\n",
    "d = 1.5          # forcing amplitude\n",
    "Omega = 0.65     # drive frequency\n",
    "\n",
    "# Initial values\n",
    "theta0 = 0.0     # initial angular displacement\n",
    "omega0 = 0.0     # initial angular velocity\n",
    "\n",
    "# Bundle parameters for ODE solver\n",
    "params = [Q, d, Omega]\n",
    "\n",
    "# Bundle initial conditions for ODE solver\n",
    "y0 = [theta0, omega0]\n",
    "\n",
    "# Make time array for solution\n",
    "tStop = 200.\n",
    "tInc = 0.05\n",
    "t = np.arange(0., tStop, tInc)\n",
    "\n",
    "# Call the ODE solver\n",
    "psoln = odeint(f, y0, t, args=(params,))\n",
    "\n",
    "# Plot results\n",
    "fig = plt.figure(1, figsize=(8,8))\n",
    "\n",
    "# Plot theta as a function of time\n",
    "ax1 = fig.add_subplot(311)\n",
    "ax1.plot(t, psoln[:,0])\n",
    "ax1.set_xlabel('time')\n",
    "ax1.set_ylabel('theta')\n",
    "\n",
    "# Plot omega as a function of time\n",
    "ax2 = fig.add_subplot(312)\n",
    "ax2.plot(t, psoln[:,1])\n",
    "ax2.set_xlabel('time')\n",
    "ax2.set_ylabel('omega')\n",
    "\n",
    "# Plot omega vs theta\n",
    "ax3 = fig.add_subplot(313)\n",
    "twopi = 2.0*np.pi\n",
    "ax3.plot(psoln[:,0]%twopi, psoln[:,1], '.', ms=1)\n",
    "ax3.set_xlabel('theta')\n",
    "ax3.set_ylabel('omega')\n",
    "ax3.set_xlim(0., twopi)\n",
    "\n",
    "plt.tight_layout()\n",
    "plt.show()"
   ]
  },
  {
   "cell_type": "code",
   "execution_count": 166,
   "metadata": {},
   "outputs": [
    {
     "data": {
      "text/plain": [
       "array([[0.32959902, 0.92484302, 0.7298634 ]])"
      ]
     },
     "execution_count": 166,
     "metadata": {},
     "output_type": "execute_result"
    }
   ],
   "source": [
    "Matr_h"
   ]
  },
  {
   "cell_type": "code",
   "execution_count": 167,
   "metadata": {},
   "outputs": [
    {
     "data": {
      "text/latex": [
       "Quantum object: dims = [[2], [2]], shape = (2, 2), type = oper, isherm = True\\begin{equation*}\\left(\\begin{array}{*{11}c}0.730 & (0.330-0.925j)\\\\(0.330+0.925j) & -0.730\\\\\\end{array}\\right)\\end{equation*}"
      ],
      "text/plain": [
       "Quantum object: dims = [[2], [2]], shape = (2, 2), type = oper, isherm = True\n",
       "Qobj data =\n",
       "[[ 0.7298634 +0.j          0.32959902-0.92484302j]\n",
       " [ 0.32959902+0.92484302j -0.7298634 +0.j        ]]"
      ]
     },
     "execution_count": 167,
     "metadata": {},
     "output_type": "execute_result"
    }
   ],
   "source": [
    "sigmax()*Matr_h[0][0]+sigmay()*Matr_h[0][1]+sigmaz()*Matr_h[0][2]"
   ]
  },
  {
   "cell_type": "code",
   "execution_count": 168,
   "metadata": {},
   "outputs": [
    {
     "data": {
      "text/latex": [
       "Quantum object: dims = [[2], [2]], shape = (2, 2), type = oper, isherm = True\\begin{equation*}\\left(\\begin{array}{*{11}c}0.730 & (0.330-0.925j)\\\\(0.330+0.925j) & -0.730\\\\\\end{array}\\right)\\end{equation*}"
      ],
      "text/plain": [
       "Quantum object: dims = [[2], [2]], shape = (2, 2), type = oper, isherm = True\n",
       "Qobj data =\n",
       "[[ 0.7298634 +0.j          0.32959902-0.92484302j]\n",
       " [ 0.32959902+0.92484302j -0.7298634 +0.j        ]]"
      ]
     },
     "execution_count": 168,
     "metadata": {},
     "output_type": "execute_result"
    }
   ],
   "source": [
    "tensor(H_ind)"
   ]
  },
  {
   "cell_type": "code",
   "execution_count": 169,
   "metadata": {},
   "outputs": [
    {
     "data": {
      "text/plain": [
       "array([[-0.20123128]])"
      ]
     },
     "execution_count": 169,
     "metadata": {},
     "output_type": "execute_result"
    }
   ],
   "source": [
    "A"
   ]
  },
  {
   "cell_type": "code",
   "execution_count": 170,
   "metadata": {},
   "outputs": [
    {
     "data": {
      "text/latex": [
       "Quantum object: dims = [[2], [2]], shape = (2, 2), type = oper, isherm = True\\begin{equation*}\\left(\\begin{array}{*{11}c}-0.604 & 0.0\\\\0.0 & -0.604\\\\\\end{array}\\right)\\end{equation*}"
      ],
      "text/plain": [
       "Quantum object: dims = [[2], [2]], shape = (2, 2), type = oper, isherm = True\n",
       "Qobj data =\n",
       "[[-0.60369383  0.        ]\n",
       " [ 0.         -0.60369383]]"
      ]
     },
     "execution_count": 170,
     "metadata": {},
     "output_type": "execute_result"
    }
   ],
   "source": [
    "Hint"
   ]
  },
  {
   "cell_type": "code",
   "execution_count": 171,
   "metadata": {},
   "outputs": [
    {
     "data": {
      "text/latex": [
       "Quantum object: dims = [[2], [2]], shape = (2, 2), type = oper, isherm = True\\begin{equation*}\\left(\\begin{array}{*{11}c}0.730 & (0.330-0.925j)\\\\(0.330+0.925j) & -0.730\\\\\\end{array}\\right)\\end{equation*}"
      ],
      "text/plain": [
       "Quantum object: dims = [[2], [2]], shape = (2, 2), type = oper, isherm = True\n",
       "Qobj data =\n",
       "[[ 0.7298634 +0.j          0.32959902-0.92484302j]\n",
       " [ 0.32959902+0.92484302j -0.7298634 +0.j        ]]"
      ]
     },
     "execution_count": 171,
     "metadata": {},
     "output_type": "execute_result"
    }
   ],
   "source": [
    "tensor(H_ind)  "
   ]
  },
  {
   "cell_type": "code",
   "execution_count": 172,
   "metadata": {},
   "outputs": [
    {
     "data": {
      "text/latex": [
       "Quantum object: dims = [[2], [2]], shape = (2, 2), type = oper, isherm = True\\begin{equation*}\\left(\\begin{array}{*{11}c}0.126 & (0.330-0.925j)\\\\(0.330+0.925j) & -1.334\\\\\\end{array}\\right)\\end{equation*}"
      ],
      "text/plain": [
       "Quantum object: dims = [[2], [2]], shape = (2, 2), type = oper, isherm = True\n",
       "Qobj data =\n",
       "[[ 0.12616957+0.j          0.32959902-0.92484302j]\n",
       " [ 0.32959902+0.92484302j -1.33355723+0.j        ]]"
      ]
     },
     "execution_count": 172,
     "metadata": {},
     "output_type": "execute_result"
    }
   ],
   "source": [
    "H"
   ]
  },
  {
   "cell_type": "code",
   "execution_count": 173,
   "metadata": {},
   "outputs": [
    {
     "data": {
      "text/latex": [
       "Quantum object: dims = [[2], [2]], shape = (2, 2), type = oper, isherm = True\\begin{equation*}\\left(\\begin{array}{*{11}c}0.400 & 0.0\\\\0.0 & 0.300\\\\\\end{array}\\right)\\end{equation*}"
      ],
      "text/plain": [
       "Quantum object: dims = [[2], [2]], shape = (2, 2), type = oper, isherm = True\n",
       "Qobj data =\n",
       "[[0.4 0. ]\n",
       " [0.  0.3]]"
      ]
     },
     "execution_count": 173,
     "metadata": {},
     "output_type": "execute_result"
    }
   ],
   "source": [
    "Gamma_gen"
   ]
  },
  {
   "cell_type": "code",
   "execution_count": 174,
   "metadata": {},
   "outputs": [
    {
     "data": {
      "text/latex": [
       "$\\displaystyle \\left[\\begin{matrix}\\rho_{0} & \\rho_{1} - 1.0 i \\rho_{2}\\\\\\rho_{1} + 1.0 i \\rho_{2} & \\rho_{3}\\end{matrix}\\right]$"
      ],
      "text/plain": [
       "Matrix([\n",
       "[             rho0, rho1 - 1.0*I*rho2],\n",
       "[rho1 + 1.0*I*rho2,              rho3]])"
      ]
     },
     "execution_count": 174,
     "metadata": {},
     "output_type": "execute_result"
    }
   ],
   "source": [
    "rho_sys"
   ]
  },
  {
   "cell_type": "code",
   "execution_count": 175,
   "metadata": {},
   "outputs": [
    {
     "data": {
      "text/latex": [
       "$\\displaystyle \\left[\\begin{matrix}0.1 \\rho_{0} + 0.2 \\rho_{3} & - 0.1 \\rho_{1} + 0.1 i \\rho_{2}\\\\- 0.1 \\rho_{1} - 0.1 i \\rho_{2} & 0.3 \\rho_{0} + 0.1 \\rho_{3}\\end{matrix}\\right]$"
      ],
      "text/plain": [
       "Matrix([\n",
       "[   0.1*rho0 + 0.2*rho3, -0.1*rho1 + 0.1*I*rho2],\n",
       "[-0.1*rho1 - 0.1*I*rho2,    0.3*rho0 + 0.1*rho3]])"
      ]
     },
     "execution_count": 175,
     "metadata": {},
     "output_type": "execute_result"
    }
   ],
   "source": [
    "rho_central"
   ]
  },
  {
   "cell_type": "code",
   "execution_count": 176,
   "metadata": {},
   "outputs": [
    {
     "data": {
      "text/plain": [
       "[0.2, 0.3, 0.1]"
      ]
     },
     "execution_count": 176,
     "metadata": {},
     "output_type": "execute_result"
    }
   ],
   "source": [
    "Gamma_coef"
   ]
  },
  {
   "cell_type": "code",
   "execution_count": 177,
   "metadata": {},
   "outputs": [
    {
     "data": {
      "text/latex": [
       "Quantum object: dims = [[2], [2]], shape = (2, 2), type = oper, isherm = True\\begin{equation*}\\left(\\begin{array}{*{11}c}0.730 & (0.330-0.925j)\\\\(0.330+0.925j) & -0.730\\\\\\end{array}\\right)\\end{equation*}"
      ],
      "text/plain": [
       "Quantum object: dims = [[2], [2]], shape = (2, 2), type = oper, isherm = True\n",
       "Qobj data =\n",
       "[[ 0.7298634 +0.j          0.32959902-0.92484302j]\n",
       " [ 0.32959902+0.92484302j -0.7298634 +0.j        ]]"
      ]
     },
     "execution_count": 177,
     "metadata": {},
     "output_type": "execute_result"
    }
   ],
   "source": [
    "tensor(H_ind)"
   ]
  },
  {
   "cell_type": "code",
   "execution_count": 178,
   "metadata": {},
   "outputs": [
    {
     "data": {
      "text/latex": [
       "Quantum object: dims = [[2], [2]], shape = (2, 2), type = oper, isherm = True\\begin{equation*}\\left(\\begin{array}{*{11}c}-0.604 & 0.0\\\\0.0 & -0.604\\\\\\end{array}\\right)\\end{equation*}"
      ],
      "text/plain": [
       "Quantum object: dims = [[2], [2]], shape = (2, 2), type = oper, isherm = True\n",
       "Qobj data =\n",
       "[[-0.60369383  0.        ]\n",
       " [ 0.         -0.60369383]]"
      ]
     },
     "execution_count": 178,
     "metadata": {},
     "output_type": "execute_result"
    }
   ],
   "source": [
    "Hint"
   ]
  },
  {
   "cell_type": "code",
   "execution_count": 179,
   "metadata": {},
   "outputs": [
    {
     "data": {
      "text/latex": [
       "Quantum object: dims = [[2], [2]], shape = (2, 2), type = oper, isherm = True\\begin{equation*}\\left(\\begin{array}{*{11}c}0.126 & (0.330-0.925j)\\\\(0.330+0.925j) & -1.334\\\\\\end{array}\\right)\\end{equation*}"
      ],
      "text/plain": [
       "Quantum object: dims = [[2], [2]], shape = (2, 2), type = oper, isherm = True\n",
       "Qobj data =\n",
       "[[ 0.12616957+0.j          0.32959902-0.92484302j]\n",
       " [ 0.32959902+0.92484302j -1.33355723+0.j        ]]"
      ]
     },
     "execution_count": 179,
     "metadata": {},
     "output_type": "execute_result"
    }
   ],
   "source": [
    "H"
   ]
  },
  {
   "cell_type": "code",
   "execution_count": 180,
   "metadata": {},
   "outputs": [],
   "source": [
    "Aui=-1j*(H*rho_sys-rho_sys*H)-(rho_sys*Gamma_gen+Gamma_gen*rho_sys)+2*rho_central"
   ]
  },
  {
   "cell_type": "code",
   "execution_count": 181,
   "metadata": {},
   "outputs": [
    {
     "name": "stdout",
     "output_type": "stream",
     "text": [
      "True\n"
     ]
    }
   ],
   "source": [
    "print(RHS_me==Aui)"
   ]
  },
  {
   "cell_type": "code",
   "execution_count": 183,
   "metadata": {},
   "outputs": [
    {
     "data": {
      "text/plain": [
       "[-0.6*rho0 + 0.4*rho3 - 1.0*I*(-(0.329599019622915 + 0.924843023668278*I)*(rho1 - 1.0*I*rho2) + (0.329599019622915 - 0.924843023668278*I)*(rho1 + 1.0*I*rho2)),\n",
       " -0.9*rho1 - 0.9*I*rho2 - 1.0*I*(rho0*(0.329599019622915 + 0.924843023668278*I) - 1.45972679862947*rho1 - 1.45972679862947*I*rho2 - rho3*(0.329599019622915 + 0.924843023668278*I)),\n",
       " 0.6*rho0 - 0.4*rho3 - 1.0*I*((0.329599019622915 + 0.924843023668278*I)*(rho1 - 1.0*I*rho2) - (0.329599019622915 - 0.924843023668278*I)*(rho1 + 1.0*I*rho2))]"
      ]
     },
     "execution_count": 183,
     "metadata": {},
     "output_type": "execute_result"
    }
   ],
   "source": [
    "Vectorization(Aui)"
   ]
  },
  {
   "cell_type": "code",
   "execution_count": null,
   "metadata": {},
   "outputs": [],
   "source": [
    "[-0.6*rho0 + 0.4*rho3 - 1.0*I*(-(0.329599019622915 + 0.924843023668278*I)*(rho1 - 1.0*I*rho2) + (0.329599019622915 - 0.924843023668278*I)*(rho1 + 1.0*I*rho2)),\n",
    " -0.9*rho1 - 0.9*I*rho2 - 1.0*I*(rho0*(0.329599019622915 + 0.924843023668278*I) - 1.45972679862947*rho1 - 1.45972679862947*I*rho2 - rho3*(0.329599019622915 + 0.924843023668278*I)),\n",
    " 0.6*rho0 - 0.4*rho3 - 1.0*I*((0.329599019622915 + 0.924843023668278*I)*(rho1 - 1.0*I*rho2) - (0.329599019622915 - 0.924843023668278*I)*(rho1 + 1.0*I*rho2))]"
   ]
  }
 ],
 "metadata": {
  "kernelspec": {
   "display_name": "Python 3",
   "language": "python",
   "name": "python3"
  },
  "language_info": {
   "codemirror_mode": {
    "name": "ipython",
    "version": 3
   },
   "file_extension": ".py",
   "mimetype": "text/x-python",
   "name": "python",
   "nbconvert_exporter": "python",
   "pygments_lexer": "ipython3",
   "version": "3.8.3"
  }
 },
 "nbformat": 4,
 "nbformat_minor": 4
}
