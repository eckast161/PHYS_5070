{
 "cells": [
  {
   "cell_type": "code",
   "execution_count": 494,
   "metadata": {},
   "outputs": [],
   "source": [
    "import time\n",
    "import numpy as np\n",
    "from scipy.integrate import odeint\n",
    "\n",
    "\n",
    "def odeintz(func, z0, t, **kwargs):\n",
    "    \"\"\"An odeint-like function for complex valued differential equations.\"\"\"\n",
    "\n",
    "    # Disallow Jacobian-related arguments.\n",
    "    _unsupported_odeint_args = ['Dfun', 'col_deriv', 'ml', 'mu']\n",
    "    bad_args = [arg for arg in kwargs if arg in _unsupported_odeint_args]\n",
    "    if len(bad_args) > 0:\n",
    "        raise ValueError(\"The odeint argument %r is not supported by \"\n",
    "                         \"odeintz.\" % (bad_args[0],))\n",
    "\n",
    "    # Make sure z0 is a numpy array of type np.complex128.\n",
    "    z0 = np.array(z0, dtype=np.complex128, ndmin=1)\n",
    "\n",
    "    def realfunc(x, t, *args):\n",
    "        z = x.view(np.complex128)\n",
    "        dzdt = func(z, t, *args)\n",
    "        # func might return a python list, so convert its return\n",
    "        # value to an array with type np.complex128, and then return\n",
    "        # a np.float64 view of that array.\n",
    "        return np.asarray(dzdt, dtype=np.complex128).view(np.float64)\n",
    "\n",
    "    result = odeint(realfunc, z0.view(np.float64), t, **kwargs)\n",
    "\n",
    "    if kwargs.get('full_output', False):\n",
    "        z = result[0].view(np.complex128)\n",
    "        infodict = result[1]\n",
    "        return z, infodict\n",
    "    else:\n",
    "        z = result.view(np.complex128)\n",
    "        return z"
   ]
  },
  {
   "cell_type": "raw",
   "metadata": {
    "scrolled": true
   },
   "source": [
    "import time\n",
    "\n",
    "t0=time.time()\n",
    "\n",
    "import numpy as np\n",
    "from scipy.integrate import odeint\n",
    "import matplotlib.pyplot as plt\n",
    "\n",
    "\n",
    "def computeIJ(N):\n",
    "    i = np.arange(N)\n",
    "    theta = (2*np.pi)*i/N\n",
    "\n",
    "    I0 = 0.5\n",
    "    I1 = 0.001\n",
    "    I = I0 + I1*np.cos(theta)\n",
    "\n",
    "    J0 = 0.5\n",
    "    J1 = 2.5\n",
    "    delta_theta = np.subtract.outer(theta, theta)\n",
    "    J = J0 + J1*np.cos(delta_theta)\n",
    "    return I, J / N\n",
    "\n",
    "\n",
    "def vectors2(r, t, I, J):\n",
    "    s = J @ r  #Vector multiplication\n",
    "    drdt = -r+ np.maximum(I + s, 0)\n",
    "    drdt[-1]=-r[1]*r[-1]\n",
    "    return drdt\n",
    "\n",
    "\n",
    "N = 400\n",
    "\n",
    "I, J = computeIJ(N)\n",
    "\n",
    "np.random.seed(123)\n",
    "r0 = np.random.rand(N)\n",
    "t = np.linspace(0, 20, 1000)\n",
    "\n",
    "r = odeint(vectors2, r0, t, args=(I, J))\n",
    "\n",
    "for i in [0, 100, 200, 300, 399]:\n",
    "    plt.plot(t, r[:, i], label='i = %d' % i)\n",
    "\n",
    "plt.xlabel('t')\n",
    "plt.legend(shadow=True)\n",
    "plt.grid()\n",
    "\n",
    "plt.show()\n",
    "\n",
    "t1=time.time()"
   ]
  },
  {
   "cell_type": "code",
   "execution_count": 495,
   "metadata": {},
   "outputs": [],
   "source": [
    "#print(t1-t0)"
   ]
  },
  {
   "cell_type": "code",
   "execution_count": 496,
   "metadata": {},
   "outputs": [],
   "source": [
    "#r = odeint(vectors2, r0, t, args=(I, J))\n",
    "#r = ode(f, jac).set_integrator('zvode', method='bdf').set_initial_value(r0, 0)"
   ]
  },
  {
   "cell_type": "code",
   "execution_count": 497,
   "metadata": {},
   "outputs": [],
   "source": [
    "#r.set_initial_value(r0, 0)#.set_f_params(2.0).set_jac_params(2.0)"
   ]
  },
  {
   "cell_type": "code",
   "execution_count": null,
   "metadata": {},
   "outputs": [],
   "source": []
  },
  {
   "cell_type": "code",
   "execution_count": 564,
   "metadata": {},
   "outputs": [],
   "source": [
    "Gamma_ud=0.4\n",
    "Gamma_du=0.2\n",
    "Gamma_el=1.6\n",
    "\n",
    "\n",
    "gammaplus=Gamma_du/2\n",
    "gammaminus=Gamma_ud/2\n",
    "gammaz=Gamma_el/8\n",
    "\n",
    "\n",
    "Dissipation_factor=1\n",
    "\n",
    "\n",
    "Gamma=np.array(Dissipation_factor*[gammaplus,gammaminus,gammaz])  #[gamma+,gamma-,gammaz]"
   ]
  },
  {
   "cell_type": "code",
   "execution_count": 565,
   "metadata": {},
   "outputs": [],
   "source": [
    "rho_init0=np.array([[1/2,1/2],[1/2,1/2]])    #density matrix |+><+|\n",
    "\n",
    "\n",
    "def trace(A):\n",
    "    return np.trace(A)\n",
    "\n",
    "def matmu(A,B):\n",
    "    return np.matmul(A,B)\n",
    "\n",
    "#rho_init1=np.array([[1,0],[0,0]])    #By default\n",
    "#rho_init2=np.array([[1,0],[0,0]])    #By default\n",
    "\n",
    "\n",
    "\n",
    "\n",
    "N=30\n",
    "\n",
    "\n",
    "\n",
    "\n",
    "sigma_p= np.array([[0,1],[0,0]])\n",
    "sigma_m= np.array([[0,0],[1,0]])\n",
    "sigma_z= np.array([[1,0],[0,-1]])\n",
    "\n",
    "\n",
    "##Initial values one operator\n",
    "\n",
    "sp_init0=trace(matmu(rho_init0,sigma_p))\n",
    "sz_init0=trace(matmu(rho_init0,sigma_z))\n",
    "sm_init0=trace(matmu(rho_init0,sigma_m))\n",
    "\n",
    "Genit=[sp_init0,sz_init0,sm_init0]\n",
    "\n",
    "\n",
    "r0=[]\n",
    "fact=int(N*(N-1)/2)\n",
    "\n",
    "r0=[Genit[0]]*N+[Genit[1]]*N+[Genit[0]**2]*fact+[Genit[0]*Genit[2]]*fact+[Genit[0]*Genit[1]]*2*fact+[Genit[1]**2]*fact"
   ]
  },
  {
   "cell_type": "code",
   "execution_count": 566,
   "metadata": {},
   "outputs": [],
   "source": [
    "#Random interaction matrix\n",
    "\n",
    "A=np.random.rand(N,N)\n",
    "A= np.triu(A)\n",
    "np.fill_diagonal(A, 0)"
   ]
  },
  {
   "cell_type": "code",
   "execution_count": 567,
   "metadata": {},
   "outputs": [],
   "source": [
    "#Homogeneous interaction matrix\n",
    "\n",
    "Jef=1\n",
    "\n",
    "A=np.ones((N,N))\n",
    "A= np.triu(A)\n",
    "np.fill_diagonal(A, 0)\n",
    "A=Jef*A"
   ]
  },
  {
   "cell_type": "code",
   "execution_count": null,
   "metadata": {},
   "outputs": [],
   "source": []
  },
  {
   "cell_type": "code",
   "execution_count": 568,
   "metadata": {},
   "outputs": [],
   "source": [
    "def del_list(N):\n",
    "    \n",
    "    s=[]\n",
    "    count=0\n",
    "    for j in range (0,N):\n",
    "        s.append((count)%N)\n",
    "        count=count+1\n",
    "    \n",
    "    s_fin=s*(N) \n",
    "\n",
    "    count=0\n",
    "    while count<len(s_fin):\n",
    "        del(s_fin[count])\n",
    "        count=count+N\n",
    "    \n",
    "    sfin=np.array(s_fin)\n",
    "    \n",
    "    return sfin"
   ]
  },
  {
   "cell_type": "code",
   "execution_count": 569,
   "metadata": {},
   "outputs": [],
   "source": [
    "def new_indexer(N):\n",
    "    s=[]\n",
    "    for j in range(N):\n",
    "        s=s+[j]*(N-1)\n",
    "    return np.array(s)"
   ]
  },
  {
   "cell_type": "code",
   "execution_count": 570,
   "metadata": {},
   "outputs": [],
   "source": [
    "def up_triang(N):\n",
    "    ar = np.array(np.zeros((N,N)))\n",
    "    indices = np.triu_indices_from(ar)\n",
    "    indexer=[]\n",
    "    for j in range(len(indices[0])):\n",
    "        if indices[0][j]!=indices[1][j]:\n",
    "            indexer.append([indices[0][j],indices[1][j]])\n",
    "    return np.array(indexer)+N    "
   ]
  },
  {
   "cell_type": "code",
   "execution_count": 571,
   "metadata": {},
   "outputs": [],
   "source": [
    "def index_p(Arr,ind):\n",
    "    \n",
    "    return np.array([i for i, e in enumerate(Arr) if e == ind])+int(2*N+N*(N-1))   #return the indexes required for dpdt"
   ]
  },
  {
   "cell_type": "code",
   "execution_count": null,
   "metadata": {},
   "outputs": [],
   "source": []
  },
  {
   "cell_type": "code",
   "execution_count": null,
   "metadata": {},
   "outputs": [],
   "source": []
  },
  {
   "cell_type": "code",
   "execution_count": 572,
   "metadata": {},
   "outputs": [],
   "source": [
    "def computeIJ(N):\n",
    "    i = np.zeros((int(N*(5*N-1)/2),int(N*(5*N-1)/2)),dtype = 'complex_')\n",
    "    r0=[]\n",
    "    extern=np.zeros(int(N*(5*N-1)/2))\n",
    "    \n",
    "    \n",
    "    Indexer=del_list(N)\n",
    "    new_index=new_indexer(N)\n",
    "    \n",
    "    \n",
    "    for j in range (0,N):  #dpdt\n",
    "        i[j][j]=-(Gamma[0]+Gamma[1]+4*Gamma[2])\n",
    "        for w in index_p(del_list(N),j):\n",
    "            i[j][w]=2*1j*(A[j][new_index[w-int(2*N+N*(N-1))]]+A[new_index[w-int(2*N+N*(N-1))]][j])   #   \n",
    "        \n",
    "    for j in range (N,2*N): #dzdt\n",
    "        i[j][j]=-2*(Gamma[0]+Gamma[1])\n",
    "        extern[j]=2*(Gamma[0]-Gamma[1])\n",
    "\n",
    "    for j in range (2*N,int(2*N+N*(N-1)/2)):  #dpadpbdt\n",
    "        i[j][j]=-2*(Gamma[0]+Gamma[1]+4*Gamma[2])\n",
    "    for j in range (int(2*N+N*(N-1)/2),int(2*N+N*(N-1))):  #dpadmbdt\n",
    "        i[j][j]=-2*(Gamma[0]+Gamma[1]+4*Gamma[2])\n",
    "    \n",
    "    \n",
    "    count=0\n",
    "    for j in range (int(2*N+N*(N-1)),int(2*N+2*N*(N-1))):   #dzadpbdt\n",
    "        i[j][j]=-2*(3*(Gamma[0]+Gamma[1])+4*Gamma[2])\n",
    "        i[j][Indexer[count]]=2*(Gamma[0]-Gamma[1])+2*1j*(A[Indexer[count]][new_index[count]]+A[new_index[count]][Indexer[count]])   #I use Jef for now\n",
    "        count=count+1\n",
    "        \n",
    "    \n",
    "    count=0        \n",
    "    for j in range (int(2*N+2*N*(N-1)),int(2*N+5*N*(N-1)/2)):   #dzadzbdt\n",
    "        i[j][j]=-4*(Gamma[0]+Gamma[1]) \n",
    "        i[j][up_triang(N)[count][0]]=-2*(Gamma[1]-Gamma[0])\n",
    "        i[j][up_triang(N)[count][1]]=-2*(Gamma[1]-Gamma[0])\n",
    "        count=count+1\n",
    "        \n",
    "    return extern, i"
   ]
  },
  {
   "cell_type": "code",
   "execution_count": null,
   "metadata": {},
   "outputs": [],
   "source": []
  },
  {
   "cell_type": "code",
   "execution_count": null,
   "metadata": {},
   "outputs": [],
   "source": []
  },
  {
   "cell_type": "code",
   "execution_count": 573,
   "metadata": {},
   "outputs": [],
   "source": [
    "def vectors2(r, t, extern, i):\n",
    "    s = i @ r  #Vector multiplication\n",
    "    drdt = s+extern\n",
    "    \n",
    "    \n",
    "    \n",
    "    \n",
    "    \n",
    "    \n",
    "    \n",
    "    return drdt"
   ]
  },
  {
   "cell_type": "code",
   "execution_count": null,
   "metadata": {},
   "outputs": [],
   "source": []
  },
  {
   "cell_type": "code",
   "execution_count": 574,
   "metadata": {},
   "outputs": [
    {
     "name": "stdout",
     "output_type": "stream",
     "text": [
      "37.88185000419617\n"
     ]
    }
   ],
   "source": [
    "import time \n",
    "\n",
    "t0=time.time()\n",
    "extern, i = computeIJ(N)\n",
    "\n",
    "t = np.linspace(0, 20, 1000)\n",
    "\n",
    "r = odeintz(vectors2, r0, t, args=(extern, i))\n",
    "\n",
    "\n",
    "t1=time.time()\n",
    "\n",
    "print(t1-t0)"
   ]
  },
  {
   "cell_type": "code",
   "execution_count": 575,
   "metadata": {},
   "outputs": [
    {
     "name": "stderr",
     "output_type": "stream",
     "text": [
      "C:\\Users\\camil\\anaconda3\\lib\\site-packages\\numpy\\core\\_asarray.py:102: ComplexWarning: Casting complex values to real discards the imaginary part\n",
      "  return array(a, dtype, copy=False, order=order)\n"
     ]
    },
    {
     "data": {
      "text/plain": [
       "[<matplotlib.lines.Line2D at 0x24f70dec520>]"
      ]
     },
     "execution_count": 575,
     "metadata": {},
     "output_type": "execute_result"
    },
    {
     "data": {
      "image/png": "[encoded data removed]",
      "text/plain": [
       "<Figure size 432x288 with 1 Axes>"
      ]
     },
     "metadata": {
      "needs_background": "light"
     },
     "output_type": "display_data"
    }
   ],
   "source": [
    "plt.plot(t,r[:,0])"
   ]
  },
  {
   "cell_type": "code",
   "execution_count": null,
   "metadata": {},
   "outputs": [],
   "source": []
  },
  {
   "cell_type": "code",
   "execution_count": null,
   "metadata": {},
   "outputs": [],
   "source": []
  },
  {
   "cell_type": "code",
   "execution_count": null,
   "metadata": {},
   "outputs": [],
   "source": []
  },
  {
   "cell_type": "code",
   "execution_count": null,
   "metadata": {},
   "outputs": [],
   "source": []
  },
  {
   "cell_type": "code",
   "execution_count": null,
   "metadata": {},
   "outputs": [],
   "source": []
  },
  {
   "cell_type": "code",
   "execution_count": null,
   "metadata": {},
   "outputs": [],
   "source": []
  },
  {
   "cell_type": "code",
   "execution_count": null,
   "metadata": {},
   "outputs": [],
   "source": []
  },
  {
   "cell_type": "code",
   "execution_count": null,
   "metadata": {},
   "outputs": [],
   "source": []
  }
 ],
 "metadata": {
  "kernelspec": {
   "display_name": "Python 3",
   "language": "python",
   "name": "python3"
  },
  "language_info": {
   "codemirror_mode": {
    "name": "ipython",
    "version": 3
   },
   "file_extension": ".py",
   "mimetype": "text/x-python",
   "name": "python",
   "nbconvert_exporter": "python",
   "pygments_lexer": "ipython3",
   "version": "3.8.3"
  }
 },
 "nbformat": 4,
 "nbformat_minor": 4
}
