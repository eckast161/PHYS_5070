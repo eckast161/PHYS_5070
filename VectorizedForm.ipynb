{
 "cells": [
  {
   "cell_type": "code",
   "execution_count": 948,
   "metadata": {},
   "outputs": [],
   "source": [
    "import time\n",
    "import numpy as np\n",
    "from scipy.integrate import odeint\n",
    "\n",
    "\n",
    "def odeintz(func, z0, t, **kwargs):\n",
    "    \"\"\"An odeint-like function for complex valued differential equations.\"\"\"\n",
    "\n",
    "    # Disallow Jacobian-related arguments.\n",
    "    _unsupported_odeint_args = ['Dfun', 'col_deriv', 'ml', 'mu']\n",
    "    bad_args = [arg for arg in kwargs if arg in _unsupported_odeint_args]\n",
    "    if len(bad_args) > 0:\n",
    "        raise ValueError(\"The odeint argument %r is not supported by \"\n",
    "                         \"odeintz.\" % (bad_args[0],))\n",
    "\n",
    "    # Make sure z0 is a numpy array of type np.complex128.\n",
    "    z0 = np.array(z0, dtype=np.complex128, ndmin=1)\n",
    "\n",
    "    def realfunc(x, t, *args):\n",
    "        z = x.view(np.complex128)\n",
    "        dzdt = func(z, t, *args)\n",
    "        # func might return a python list, so convert its return\n",
    "        # value to an array with type np.complex128, and then return\n",
    "        # a np.float64 view of that array.\n",
    "        return np.asarray(dzdt, dtype=np.complex128).view(np.float64)\n",
    "\n",
    "    result = odeint(realfunc, z0.view(np.float64), t, **kwargs)\n",
    "\n",
    "    if kwargs.get('full_output', False):\n",
    "        z = result[0].view(np.complex128)\n",
    "        infodict = result[1]\n",
    "        return z, infodict\n",
    "    else:\n",
    "        z = result.view(np.complex128)\n",
    "        return z"
   ]
  },
  {
   "cell_type": "code",
   "execution_count": 949,
   "metadata": {},
   "outputs": [],
   "source": [
    "#print(t1-t0)"
   ]
  },
  {
   "cell_type": "code",
   "execution_count": 950,
   "metadata": {},
   "outputs": [],
   "source": [
    "#r = odeint(vectors2, r0, t, args=(I, J))\n",
    "#r = ode(f, jac).set_integrator('zvode', method='bdf').set_initial_value(r0, 0)"
   ]
  },
  {
   "cell_type": "code",
   "execution_count": 951,
   "metadata": {},
   "outputs": [],
   "source": [
    "#r.set_initial_value(r0, 0)#.set_f_params(2.0).set_jac_params(2.0)"
   ]
  },
  {
   "cell_type": "code",
   "execution_count": 952,
   "metadata": {},
   "outputs": [],
   "source": [
    "import matplotlib.pyplot as plt"
   ]
  },
  {
   "cell_type": "code",
   "execution_count": 985,
   "metadata": {},
   "outputs": [],
   "source": [
    "Gamma_ud=0.4\n",
    "Gamma_du=0.2\n",
    "Gamma_el=1.6\n",
    "\n",
    "\n",
    "gammaplus=Gamma_du/2\n",
    "gammaminus=Gamma_ud/2\n",
    "gammaz=Gamma_el/8\n",
    "\n",
    "\n",
    "Dissipation_factor=1\n",
    "\n",
    "\n",
    "Gamma=np.array(Dissipation_factor*[gammaplus,gammaminus,gammaz])  #[gamma+,gamma-,gammaz]\n",
    "\n",
    "rho_init0=np.array([[1/2,1/2],[1/2,1/2]])    #density matrix |+><+|\n",
    "\n",
    "\n",
    "def trace(A):\n",
    "    return np.trace(A)\n",
    "\n",
    "def matmu(A,B):\n",
    "    return np.matmul(A,B)\n",
    "\n",
    "#rho_init1=np.array([[1,0],[0,0]])    #By default\n",
    "#rho_init2=np.array([[1,0],[0,0]])    #By default\n",
    "\n",
    "\n",
    "\n",
    "\n",
    "N=7\n",
    "\n",
    "\n",
    "\n",
    "\n",
    "sigma_p= np.array([[0,1],[0,0]])\n",
    "sigma_m= np.array([[0,0],[1,0]])\n",
    "sigma_z= np.array([[1,0],[0,-1]])\n",
    "\n",
    "\n",
    "##Initial values one operator\n",
    "\n",
    "sp_init0=trace(matmu(rho_init0,sigma_p))\n",
    "sz_init0=trace(matmu(rho_init0,sigma_z))\n",
    "sm_init0=trace(matmu(rho_init0,sigma_m))\n",
    "\n",
    "Genit=[sp_init0,sz_init0,sm_init0]\n",
    "\n",
    "\n",
    "r0=[]\n",
    "fact=int(N*(N-1)/2)\n",
    "\n",
    "r0=[Genit[0]]*N+[Genit[1]]*N+[Genit[0]**2]*fact+[Genit[0]*Genit[2]]*fact+[Genit[0]*Genit[1]]*2*fact+[Genit[1]**2]*fact\n",
    "\n",
    "#Random interaction matrix\n",
    "\n",
    "A=np.random.rand(N,N)\n",
    "A= np.triu(A)\n",
    "np.fill_diagonal(A, 0)"
   ]
  },
  {
   "cell_type": "code",
   "execution_count": 986,
   "metadata": {},
   "outputs": [],
   "source": [
    "#Homogeneous interaction matrix\n",
    "\n",
    "#Jef=1\n",
    "\n",
    "#A=np.ones((N,N))\n",
    "#A= np.triu(A)\n",
    "#np.fill_diagonal(A, 0)\n",
    "#A=Jef*A"
   ]
  },
  {
   "cell_type": "code",
   "execution_count": null,
   "metadata": {},
   "outputs": [],
   "source": []
  },
  {
   "cell_type": "code",
   "execution_count": 987,
   "metadata": {},
   "outputs": [],
   "source": [
    "def del_list(N):\n",
    "    \n",
    "    s=[]\n",
    "    count=0\n",
    "    for j in range (0,N):\n",
    "        s.append((count)%N)\n",
    "        count=count+1\n",
    "    \n",
    "    s_fin=s*(N) \n",
    "\n",
    "    count=0\n",
    "    while count<len(s_fin):\n",
    "        del(s_fin[count])\n",
    "        count=count+N\n",
    "    \n",
    "    sfin=np.array(s_fin)\n",
    "    \n",
    "    return sfin\n",
    "\n",
    "def new_indexer(N):\n",
    "    s=[]\n",
    "    for j in range(N):\n",
    "        s=s+[j]*(N-1)\n",
    "    return np.array(s)\n",
    "\n",
    "def up_triang(N):\n",
    "    ar = np.array(np.zeros((N,N)))\n",
    "    indices = np.triu_indices_from(ar)\n",
    "    indexer=[]\n",
    "    for j in range(len(indices[0])):\n",
    "        if indices[0][j]!=indices[1][j]:\n",
    "            indexer.append([indices[0][j],indices[1][j]])\n",
    "    return np.array(indexer)+N    "
   ]
  },
  {
   "cell_type": "code",
   "execution_count": 988,
   "metadata": {},
   "outputs": [],
   "source": [
    "# If you want to get the index of the upper triangular matrix just do this up_triang(N)-N \n",
    "\n"
   ]
  },
  {
   "cell_type": "code",
   "execution_count": 989,
   "metadata": {},
   "outputs": [],
   "source": [
    "def index_p(Arr,ind):\n",
    "    return np.array([i for i, e in enumerate(Arr) if e == ind])+int(2*N+N*(N-1))   #return the indexes required for dpdt"
   ]
  },
  {
   "cell_type": "code",
   "execution_count": null,
   "metadata": {},
   "outputs": [],
   "source": []
  },
  {
   "cell_type": "code",
   "execution_count": 990,
   "metadata": {},
   "outputs": [],
   "source": [
    "def computeIJ(N):\n",
    "    i = np.zeros((int(N*(5*N-1)/2),int(N*(5*N-1)/2)),dtype = 'complex_')\n",
    "    r0=[]\n",
    "    extern=np.zeros(int(N*(5*N-1)/2))\n",
    "    \n",
    "    \n",
    "    Indexer=del_list(N)\n",
    "    new_index=new_indexer(N)\n",
    "    \n",
    "    \n",
    "    for j in range (0,N):  #dpdt\n",
    "        i[j][j]=-(Gamma[0]+Gamma[1]+4*Gamma[2])\n",
    "        for w in index_p(del_list(N),j):\n",
    "            i[j][w]=2*1j*(A[j][new_index[w-int(2*N+N*(N-1))]]+A[new_index[w-int(2*N+N*(N-1))]][j])   #   \n",
    "        \n",
    "    for j in range (N,2*N): #dzdt\n",
    "        i[j][j]=-2*(Gamma[0]+Gamma[1])\n",
    "        extern[j]=2*(Gamma[0]-Gamma[1])\n",
    "\n",
    "    for j in range (2*N,int(2*N+N*(N-1)/2)):  #dpadpbdt\n",
    "        i[j][j]=-2*(Gamma[0]+Gamma[1]+4*Gamma[2])\n",
    "    for j in range (int(2*N+N*(N-1)/2),int(2*N+N*(N-1))):  #dpadmbdt\n",
    "        i[j][j]=-2*(Gamma[0]+Gamma[1]+4*Gamma[2])\n",
    "    \n",
    "    \n",
    "    count=0\n",
    "    for j in range (int(2*N+N*(N-1)),int(2*N+2*N*(N-1))):   #dzadpbdt\n",
    "        i[j][j]=-2*(3*(Gamma[0]+Gamma[1])+4*Gamma[2])\n",
    "        i[j][Indexer[count]]=2*(Gamma[0]-Gamma[1])+2*1j*(A[Indexer[count]][new_index[count]]+A[new_index[count]][Indexer[count]])   #I use Jef for now\n",
    "        count=count+1\n",
    "        \n",
    "    \n",
    "    count=0        \n",
    "    for j in range (int(2*N+2*N*(N-1)),int(2*N+5*N*(N-1)/2)):   #dzadzbdt\n",
    "        i[j][j]=-4*(Gamma[0]+Gamma[1]) \n",
    "        i[j][up_triang(N)[count][0]]=-2*(Gamma[1]-Gamma[0])\n",
    "        i[j][up_triang(N)[count][1]]=-2*(Gamma[1]-Gamma[0])\n",
    "        count=count+1\n",
    "        \n",
    "    return extern, i"
   ]
  },
  {
   "cell_type": "code",
   "execution_count": null,
   "metadata": {},
   "outputs": [],
   "source": []
  },
  {
   "cell_type": "code",
   "execution_count": 991,
   "metadata": {},
   "outputs": [],
   "source": [
    "arr=del_list(N)\n",
    "def index_zp(a,b,arr):\n",
    "    return list(arr[a*(N-1):]).index(b)+a*(N-1)"
   ]
  },
  {
   "cell_type": "code",
   "execution_count": 992,
   "metadata": {},
   "outputs": [],
   "source": [
    "def indexzz(a,b,arry):\n",
    "    if a<b:\n",
    "        return arry.tolist().index([a,b])+2*(N**2)\n",
    "    elif a>b:\n",
    "        return arry.tolist().index([b,a])+2*(N**2)"
   ]
  },
  {
   "cell_type": "code",
   "execution_count": 993,
   "metadata": {},
   "outputs": [],
   "source": [
    "def vectors2(r, t, extern, i):\n",
    "    s = i @ r  #Vector multiplication\n",
    "    drdt = s+extern\n",
    "    \n",
    "    \n",
    "    arr_in = np.zeros((int(N*(5*N-1)/2),int(N*(5*N-1)/2)),dtype = 'complex_')\n",
    "    a_list = np.array(list(range( N)))\n",
    "    triang_ind=up_triang(N)-N\n",
    "    arr=del_list(N)\n",
    "    \n",
    "    \n",
    "    count=0\n",
    "    \n",
    "    init_in=N**2+N\n",
    "    \n",
    "    init1_in=2*(N**2)\n",
    "    \n",
    "    for j1 in range (2*N,int(2*N+N*(N-1)/2)):  #dpadpbdt\n",
    "        a0=triang_ind[count][0]\n",
    "        a1=triang_ind[count][1]\n",
    "        index_ab=index_zp( a0 ,a1,arr)\n",
    "        abz_ind=index_ab+init1_in\n",
    "        \n",
    "        j1pm=j1+int(N*(N-1)/2)\n",
    "        \n",
    "        for ju in np.array(list(set(a_list) - set(triang_ind[count]))): \n",
    "            \n",
    "            index_0=index_zp( ju ,a0,arr)\n",
    "            index_1=index_zp( ju ,a1,arr)\n",
    "            \n",
    "            index_0per=index_zp( a0,ju,arr)\n",
    "            index_1per=index_zp( a1 ,ju,arr)\n",
    "            \n",
    "            \n",
    "            \n",
    "            \n",
    "            arr_in[j1][j1]=arr_in[j1][j1]+r[ju]*2j* (A[ju][a0]+A[a0][ju]+A[ju][a1]+A[a1][ju])\n",
    "            arr_in[j1][a0]=arr_in[j1][a0]+ 2j* (r[init_in+index_0] -2*r[a1]*r[ju])  *(A[ju][a0]+A[a0][ju]+A[ju][a1]+A[a1][ju]  )\n",
    "            arr_in[j1][a1]=arr_in[j1][a1]+ 2j* r[init_in+index_1]  *(A[ju][a0]+A[a0][ju]+A[ju][a1]+A[a1][ju])\n",
    "        \n",
    "\n",
    "            \n",
    "            ab_ind=init_in+index_1per\n",
    "            \n",
    "            \n",
    "            \n",
    "            \n",
    "            arr_in[j1pm][j1pm]=arr_in[j1pm][j1pm]+r[ju]*(-2j)* (-A[ju][a0]-A[a0][ju]+A[ju][a1]+A[a1][ju])\n",
    "            #arr_in[j1pm][a0]=arr_in[j1pm][a0]+  (-2j)*r[N**2+N+index_0]  *(A[ju][a0]+A[a0][ju]+A[ju][a1]+A[a1][ju]   -2*r[a1]*r[ju])\n",
    "            arr_in[j1pm][ab_ind]=arr_in[j1pm][ab_ind]+(-2j)*(-A[ju][a0]-A[a0][ju]+A[ju][a1]+A[a1][ju])*np.conjugate(r[a1])\n",
    "            arr_in[j1pm][a0]=arr_in[j1pm][a0]+  (-2j)*(np.conjugate(r[ab_ind])   - 2*np.conjugate(r[a1])*r[ju] ) *(A[ju][a0]+A[a0][ju]+A[ju][a1]+A[a1][ju]  )\n",
    "            \n",
    "            \n",
    "            \n",
    "            #arr_in[abz_ind][abz_ind]=arr_in[abz_ind][abz_ind]+2j*(A[ju][a1]+A[a1][ju])*r[ju]\n",
    "            \n",
    "            \n",
    "        count=count+1        \n",
    "        \n",
    "        \n",
    "        goun=0\n",
    "        \n",
    "        \n",
    "        for j in range(int(N**2-N),N**2):          \n",
    "            \n",
    "            a0=triang_ind[goun][0]\n",
    "            a1=triang_ind[goun][1]\n",
    "            index_ab=index_zp( a0 ,a1,arr)\n",
    "            abz_ind=index_ab+init1_in\n",
    "        \n",
    "            j1pm=j1+int(N*(N-1)/2)\n",
    "            \n",
    "            z0ind=a0+N\n",
    "            \n",
    "            \n",
    "            \n",
    "            for ju in np.array(list(set(a_list) - set(triang_ind[goun]))):\n",
    "                \n",
    "                \n",
    "                index_0=index_zp( ju ,a0,arr)\n",
    "                index_1=index_zp( ju ,a1,arr)\n",
    "            \n",
    "                index_0per=index_zp( a0,ju,arr)\n",
    "                index_1per=index_zp( a1 ,ju,arr)\n",
    "                \n",
    "                zpindex0=init_in+index_0\n",
    "                \n",
    "                \n",
    "                \n",
    "                \n",
    "                arr_in[j][j]=arr_in[j][j]+r[ju]*2j* (A[ju][a1]+A[a1][ju])\n",
    "                \n",
    "                arr_in[j][z0ind]=arr_in[j][z0ind]+ 2j* (A[ju][a1]+A[a1][ju]) * (  r[zpindex0] -2* r[a1]*r[ju] )\n",
    "                \n",
    "                arr_in[j][a1]=arr_in[j][a1]+ 2j* (A[ju][a1]+A[a1][ju]) * (  r[indexzz(a0,ju,triang_ind)])\n",
    "                \n",
    "                \n",
    "        \n",
    "        goun=goun+1\n",
    "        \n",
    "        \n",
    "    \n",
    "    \n",
    "    \n",
    "    \n",
    "    \n",
    "    \n",
    "    s1=  arr_in @ r       \n",
    "    drdt=drdt+ s1   \n",
    "    \n",
    "    return drdt"
   ]
  },
  {
   "cell_type": "code",
   "execution_count": null,
   "metadata": {},
   "outputs": [],
   "source": []
  },
  {
   "cell_type": "code",
   "execution_count": 994,
   "metadata": {},
   "outputs": [
    {
     "name": "stdout",
     "output_type": "stream",
     "text": [
      "63.72397470474243  7  0.535495585754138\n"
     ]
    }
   ],
   "source": [
    "import time \n",
    "\n",
    "t0=time.time()\n",
    "extern, i = computeIJ(N)\n",
    "\n",
    "t = np.linspace(0, 20, 100)\n",
    "\n",
    "r = odeintz(vectors2, r0, t, args=(extern, i))\n",
    "\n",
    "\n",
    "t1=time.time()\n",
    "\n",
    "print(t1-t0,\" \"+str(N),\" \"+str((t1-t0)/(N*(5*N-1)/2)) )"
   ]
  },
  {
   "cell_type": "code",
   "execution_count": 1004,
   "metadata": {},
   "outputs": [
    {
     "name": "stderr",
     "output_type": "stream",
     "text": [
      "C:\\Users\\camil\\anaconda3\\lib\\site-packages\\numpy\\core\\_asarray.py:102: ComplexWarning: Casting complex values to real discards the imaginary part\n",
      "  return array(a, dtype, copy=False, order=order)\n",
      "C:\\Users\\camil\\anaconda3\\lib\\site-packages\\numpy\\core\\_asarray.py:102: ComplexWarning: Casting complex values to real discards the imaginary part\n",
      "  return array(a, dtype, copy=False, order=order)\n",
      "C:\\Users\\camil\\anaconda3\\lib\\site-packages\\numpy\\core\\_asarray.py:102: ComplexWarning: Casting complex values to real discards the imaginary part\n",
      "  return array(a, dtype, copy=False, order=order)\n"
     ]
    },
    {
     "data": {
      "image/png": "[encoded data removed]",
      "text/plain": [
       "<Figure size 432x288 with 1 Axes>"
      ]
     },
     "metadata": {
      "needs_background": "light"
     },
     "output_type": "display_data"
    }
   ],
   "source": [
    "plt.plot(t,r[:,0])\n",
    "plt.plot(t,r[:,1])\n",
    "plt.plot(t,r[:,2])\n",
    "\n",
    "\n",
    "for j in range(int(N*(5*N-1)/2)):\n",
    "    plt.plot(t,np.real(r[:,j]))\n",
    "    plt.plot(t,np.imag(r[:,j]))\n",
    "    \n"
   ]
  },
  {
   "cell_type": "code",
   "execution_count": null,
   "metadata": {},
   "outputs": [],
   "source": []
  },
  {
   "cell_type": "code",
   "execution_count": null,
   "metadata": {},
   "outputs": [],
   "source": []
  },
  {
   "cell_type": "code",
   "execution_count": null,
   "metadata": {},
   "outputs": [],
   "source": []
  },
  {
   "cell_type": "code",
   "execution_count": null,
   "metadata": {},
   "outputs": [],
   "source": []
  }
 ],
 "metadata": {
  "kernelspec": {
   "display_name": "Python 3",
   "language": "python",
   "name": "python3"
  },
  "language_info": {
   "codemirror_mode": {
    "name": "ipython",
    "version": 3
   },
   "file_extension": ".py",
   "mimetype": "text/x-python",
   "name": "python",
   "nbconvert_exporter": "python",
   "pygments_lexer": "ipython3",
   "version": "3.8.3"
  }
 },
 "nbformat": 4,
 "nbformat_minor": 4
}
