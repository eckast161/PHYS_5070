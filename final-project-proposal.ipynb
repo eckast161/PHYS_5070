{
 "cells": [
  {
   "cell_type": "markdown",
   "id": "three-programming",
   "metadata": {
    "deletable": false,
    "editable": false,
    "nbgrader": {
     "cell_type": "markdown",
     "checksum": "ab0b1e99daecdbccb180f0d9679696d2",
     "grade": false,
     "grade_id": "cell-334f5dfc37a21877",
     "locked": true,
     "schema_version": 3,
     "solution": false,
     "task": false
    }
   },
   "source": [
    "# Final project proposal form\n",
    "\n",
    "## PHYS 5070, Spring 2021\n",
    "\n",
    "This form is for description of your plans for the final project this semester.  The final projects have to be (obviously) Python-based coding projects that solve some physics-related problem.  This could be a simulation of an interesting system, programming a microcontroller for your lab, or detailed analysis of some physics data.  \n",
    "\n",
    "(_Note:_ if you work with data, I want to see more than pure data analysis - some kind of simulation, use of machine learning, etc.  The point is to make sure the project is a test of your overall programming ability; pure statistical analysis is a bit too narrow.)\n",
    "\n",
    "__Final projects will be submitted as GitHub repositories.__  For team projects in particular, it's important to work in the repository so that I can see individual commits to get an idea of who contributed what code.\n",
    "\n",
    "If you are working in a team, __only one proposal per team__ is necessary.\n",
    "\n",
    "\n",
    "## Rubric\n",
    "\n",
    "All final projects will be graded on the following criteria:\n",
    "\n",
    "- __Python coding: 40%__\n",
    "\n",
    "Does the code work as intended?  Are there bugs or edge cases that have not been dealt with?  Does the project demonstrate the ability to use Python to solve problems?\n",
    "\n",
    "- __Test suite: 20%__\n",
    "\n",
    "Is there a _clearly-labeled_ Python script or notebook containing tests for the main code base?  Do the tests all pass?  Are the tests non-trivial and comparing to known results (not just code to code?)\n",
    "\n",
    "- __Documentation: 10%__\n",
    "\n",
    "Is the code well-documented?  Documentation includes, but is not limited to: descriptive variable names, docstrings for functions, and a README file for the repository.\n",
    "\n",
    "- __Physics results and presentation: 30%__\n",
    "\n",
    "Does the project achieve the goals described in the proposal, or at least make significant progress towards them?  Is the presentation clear and understandable, with effective use of plots and descriptive text?"
   ]
  },
  {
   "cell_type": "markdown",
   "id": "working-african",
   "metadata": {
    "deletable": false,
    "editable": false,
    "nbgrader": {
     "cell_type": "markdown",
     "checksum": "bb3a2c2c33295bb5d8dd9a746f02a066",
     "grade": false,
     "grade_id": "cell-155edc5d2221b88a",
     "locked": true,
     "schema_version": 3,
     "solution": false,
     "task": false
    }
   },
   "source": [
    "## 1. Project overview\n",
    "\n",
    "Who are the members of your project team?  (__Maximum of 3__)"
   ]
  },
  {
   "cell_type": "markdown",
   "id": "duplicate-launch",
   "metadata": {
    "deletable": false,
    "nbgrader": {
     "cell_type": "markdown",
     "checksum": "7222d26b389fa35cecda1405433471c5",
     "grade": true,
     "grade_id": "cell-8fabf4873e13bff2",
     "locked": false,
     "points": 0,
     "schema_version": 3,
     "solution": true,
     "task": false
    }
   },
   "source": [
    "YOUR ANSWER HERE"
   ]
  },
  {
   "cell_type": "markdown",
   "id": "living-explanation",
   "metadata": {
    "deletable": false,
    "editable": false,
    "nbgrader": {
     "cell_type": "markdown",
     "checksum": "223aa7cb4a85f5cc76199bb333d93368",
     "grade": false,
     "grade_id": "cell-56739a7fb71b09c4",
     "locked": true,
     "schema_version": 3,
     "solution": false,
     "task": false
    }
   },
   "source": [
    "Give an overview of your proposed project in a few sentences.  What is the main goal or problem you are trying to solve?"
   ]
  },
  {
   "cell_type": "markdown",
   "id": "seven-parliament",
   "metadata": {
    "deletable": false,
    "nbgrader": {
     "cell_type": "markdown",
     "checksum": "a1c657086024a4ad9614422f02723842",
     "grade": true,
     "grade_id": "cell-1af028a33ee50594",
     "locked": false,
     "points": 0,
     "schema_version": 3,
     "solution": true,
     "task": false
    }
   },
   "source": [
    "YOUR ANSWER HERE"
   ]
  },
  {
   "cell_type": "markdown",
   "id": "prepared-inflation",
   "metadata": {
    "deletable": false,
    "editable": false,
    "nbgrader": {
     "cell_type": "markdown",
     "checksum": "6e51b1cb3b121d3052906e49499c358c",
     "grade": false,
     "grade_id": "cell-23f5305a6e20f07d",
     "locked": true,
     "schema_version": 3,
     "solution": false,
     "task": false
    }
   },
   "source": [
    "## 2. Project details\n",
    "\n",
    "Aside from standard Python modules (i.e. things that we've seen in this class or other extremely common and/or built-in modules), do you expect your project to have any external dependencies?\n",
    "\n",
    "(__If yes__, you will be asked to briefly describe these modules as part of your documentation.)"
   ]
  },
  {
   "cell_type": "markdown",
   "id": "settled-finnish",
   "metadata": {
    "deletable": false,
    "nbgrader": {
     "cell_type": "markdown",
     "checksum": "f8f3cf83121ec0eed3a82c92d20f163f",
     "grade": true,
     "grade_id": "cell-9630a09e4f2dbe40",
     "locked": false,
     "points": 0,
     "schema_version": 3,
     "solution": true,
     "task": false
    }
   },
   "source": [
    "YOUR ANSWER HERE"
   ]
  },
  {
   "cell_type": "markdown",
   "id": "boolean-merchandise",
   "metadata": {
    "deletable": false,
    "editable": false,
    "nbgrader": {
     "cell_type": "markdown",
     "checksum": "c3e956bb3144e61073e7d4f90aa3b62b",
     "grade": false,
     "grade_id": "cell-95e12e7e5fa092ae",
     "locked": true,
     "schema_version": 3,
     "solution": false,
     "task": false
    }
   },
   "source": [
    "Will your project require any external datasets?\n",
    "\n",
    "(__If yes__, what is your plan for accessing the data?  Is it public?  If not, are you allowed to share it with me for grading purposes?)"
   ]
  },
  {
   "cell_type": "markdown",
   "id": "formed-henry",
   "metadata": {
    "deletable": false,
    "nbgrader": {
     "cell_type": "markdown",
     "checksum": "37ef1ca52402b53fe99bcbba8c466611",
     "grade": true,
     "grade_id": "cell-bea2a5f9f65d00c2",
     "locked": false,
     "points": 0,
     "schema_version": 3,
     "solution": true,
     "task": false
    }
   },
   "source": [
    "YOUR ANSWER HERE"
   ]
  },
  {
   "cell_type": "markdown",
   "id": "ceramic-profession",
   "metadata": {
    "deletable": false,
    "editable": false,
    "nbgrader": {
     "cell_type": "markdown",
     "checksum": "5d9fe84bc3c6aa37f4bd173aea0890f7",
     "grade": false,
     "grade_id": "cell-ea5be85df322451f",
     "locked": true,
     "schema_version": 3,
     "solution": false,
     "task": false
    }
   },
   "source": [
    "## 3. Overall plan and scope\n",
    "\n",
    "Keeping in mind that you have until the end of the semester to finish, describe the _scope_ of your project: what are the major steps you plan to complete?  (It's fine to have a project that only finishes part of the overall goal you've laid out, as long as you're clear about what you what to complete.)"
   ]
  },
  {
   "cell_type": "markdown",
   "id": "medical-interview",
   "metadata": {
    "deletable": false,
    "nbgrader": {
     "cell_type": "markdown",
     "checksum": "58900489d9b995981f9c6051226303d0",
     "grade": true,
     "grade_id": "cell-96bf83c76cae1fff",
     "locked": false,
     "points": 0,
     "schema_version": 3,
     "solution": true,
     "task": false
    }
   },
   "source": [
    "YOUR ANSWER HERE"
   ]
  },
  {
   "cell_type": "markdown",
   "id": "unsigned-argument",
   "metadata": {
    "deletable": false,
    "editable": false,
    "nbgrader": {
     "cell_type": "markdown",
     "checksum": "3890ad92f5962b9b831ec73731092710",
     "grade": false,
     "grade_id": "cell-2728dfc14b1c8bef",
     "locked": true,
     "schema_version": 3,
     "solution": false,
     "task": false
    }
   },
   "source": [
    "__Only if you are working with a team__, give a rough plan for how you intend to divide up the work.  (You don't have to stick to this perfectly, but I want to make sure you think it through.)"
   ]
  },
  {
   "cell_type": "markdown",
   "id": "piano-heath",
   "metadata": {
    "deletable": false,
    "nbgrader": {
     "cell_type": "markdown",
     "checksum": "e8e8f7347274cd048e3890111014b38b",
     "grade": true,
     "grade_id": "cell-718ca2ea6049bee2",
     "locked": false,
     "points": 0,
     "schema_version": 3,
     "solution": true,
     "task": false
    }
   },
   "source": [
    "YOUR ANSWER HERE"
   ]
  },
  {
   "cell_type": "markdown",
   "id": "minute-promotion",
   "metadata": {
    "deletable": false,
    "editable": false,
    "nbgrader": {
     "cell_type": "markdown",
     "checksum": "0ea4fc4866a20a47b7eaa1f390b57136",
     "grade": false,
     "grade_id": "cell-48c33d81a2e089ac",
     "locked": true,
     "schema_version": 3,
     "solution": false,
     "task": false
    }
   },
   "source": [
    "All final projects will be submitted using GitHub.  Give a link to your GitHub repository for this project.  (You can change this later by e-mailing me if necessary.)"
   ]
  },
  {
   "cell_type": "markdown",
   "id": "intimate-milwaukee",
   "metadata": {
    "deletable": false,
    "nbgrader": {
     "cell_type": "markdown",
     "checksum": "25d9f758466542ec5f459c65d4385883",
     "grade": true,
     "grade_id": "cell-d1a50000ecc24e45",
     "locked": false,
     "points": 0,
     "schema_version": 3,
     "solution": true,
     "task": false
    }
   },
   "source": [
    "YOUR ANSWER HERE"
   ]
  }
 ],
 "metadata": {
  "kernelspec": {
   "display_name": "Python 3",
   "language": "python",
   "name": "python3"
  },
  "language_info": {
   "codemirror_mode": {
    "name": "ipython",
    "version": 3
   },
   "file_extension": ".py",
   "mimetype": "text/x-python",
   "name": "python",
   "nbconvert_exporter": "python",
   "pygments_lexer": "ipython3",
   "version": "3.8.6"
  }
 },
 "nbformat": 4,
 "nbformat_minor": 5
}
