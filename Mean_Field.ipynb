{
 "cells": [
  {
   "cell_type": "markdown",
   "metadata": {},
   "source": [
    "# Physical Model"
   ]
  },
  {
   "cell_type": "markdown",
   "metadata": {},
   "source": [
    "\\begin{align}\n",
    "\\partial_{t}\\left\\langle \\hat{\\sigma}_{1}^{+}\\right\\rangle  & =-\\frac{2{\\rm i}}{\\hbar}\\left(\\overrightarrow{h_{1}}\\cdot\\left(\\left\\langle \\hat{\\sigma}_{1}^{z}\\right\\rangle ,{\\rm i}\\left\\langle \\hat{\\sigma}_{1}^{z}\\right\\rangle ,-\\left\\langle \\hat{\\sigma}_{1}^{+}\\right\\rangle \\right)-2\\left(1+{\\rm i}\\right)\\left(A_{21}+A_{12}\\right)\\left\\langle \\hat{\\sigma}_{1}^{+}\\right\\rangle \\left({\\rm Re}\\left(\\left\\langle \\hat{\\sigma}_{2}^{+}\\right\\rangle \\right)+{\\rm Im}\\left(\\left\\langle \\hat{\\sigma}_{2}^{+}\\right\\rangle \\right)+\\left\\langle \\hat{\\sigma}_{2}^{z}\\right\\rangle \\right)\\right)\\\\\n",
    " & \\,\\,\\,\\,\\,-4\\left(\\gamma_{+}+\\gamma_{-}+\\gamma_{z}\\right)\\left\\langle \\hat{\\sigma}_{1}^{+}\\right\\rangle +8\\left(\\gamma_{+}-\\gamma_{-}\\right)\\left\\langle \\hat{\\sigma}_{1}^{+}\\right\\rangle \\left\\langle \\hat{\\sigma}_{2}^{z}\\right\\rangle ,\\\\\n",
    "\\partial_{t}\\left\\langle \\hat{\\sigma}_{1}^{z}\\right\\rangle  & =\\frac{1}{\\hbar}\\left(\\overrightarrow{h_{1}}\\cdot\\left({\\rm Im}\\left(\\left\\langle \\hat{\\sigma}_{1}^{+}\\right\\rangle \\right),-{\\rm Re}\\left(\\left\\langle \\hat{\\sigma}_{1}^{+}\\right\\rangle \\right),0\\right)+\\left({\\rm Im}\\left(\\left\\langle \\hat{\\sigma}_{1}^{+}\\right\\rangle \\right)-{\\rm Re}\\left(\\left\\langle \\hat{\\sigma}_{1}^{+}\\right\\rangle \\right)\\right)\\left(A_{21}+A_{12}\\right)\\left({\\rm Re}\\left(\\left\\langle \\hat{\\sigma}_{2}^{+}\\right\\rangle \\right)+{\\rm Im}\\left(\\left\\langle \\hat{\\sigma}_{2}^{+}\\right\\rangle \\right)+\\left\\langle \\hat{\\sigma}_{2}^{z}\\right\\rangle \\right)\\right)\\\\\n",
    " & \\,\\,\\,\\,\\,-8\\left(\\gamma_{+}+\\gamma_{-}\\right)\\left\\langle \\hat{\\sigma}_{1}^{z}\\right\\rangle +8\\left(\\gamma_{+}-\\gamma_{-}\\right)\\left\\langle \\hat{\\sigma}_{1}^{z}\\right\\rangle \\left\\langle \\hat{\\sigma}_{2}^{z}\\right\\rangle +6\\left(\\gamma_{+}-\\gamma_{-}\\right),\\\\\n",
    "\\partial_{t}\\left\\langle \\hat{\\sigma}_{2}^{+}\\right\\rangle  & =-\\frac{2{\\rm i}}{\\hbar}\\left(\\overrightarrow{h_{2}}\\cdot\\left(\\left\\langle \\hat{\\sigma}_{2}^{z}\\right\\rangle ,{\\rm i}\\left\\langle \\hat{\\sigma}_{2}^{z}\\right\\rangle ,-\\left\\langle \\hat{\\sigma}_{2}^{+}\\right\\rangle \\right)-2\\left(1+{\\rm i}\\right)\\left\\langle \\hat{\\sigma}_{2}^{+}\\right\\rangle \\left(A_{12}+A_{21}\\right)\\left({\\rm Re}\\left(\\left\\langle \\hat{\\sigma}_{1}^{+}\\right\\rangle \\right)+{\\rm Im}\\left(\\left\\langle \\hat{\\sigma}_{1}^{+}\\right\\rangle \\right)+\\left\\langle \\hat{\\sigma}_{1}^{z}\\right\\rangle \\right)\\right)\\\\\n",
    " & \\,\\,\\,\\,\\,-4\\left(\\gamma_{+}+\\gamma_{-}+\\gamma_{z}\\right)\\left\\langle \\hat{\\sigma}_{2}^{+}\\right\\rangle +8\\left(\\gamma_{+}-\\gamma_{-}\\right)\\left\\langle \\hat{\\sigma}_{2}^{+}\\right\\rangle \\left\\langle \\hat{\\sigma}_{1}^{z}\\right\\rangle ,\\\\\n",
    "\\partial_{t}\\left\\langle \\hat{\\sigma}_{2}^{z}\\right\\rangle  & =\\frac{1}{\\hbar}\\left(\\overrightarrow{h_{2}}\\cdot\\left({\\rm Im}\\left(\\left\\langle \\hat{\\sigma}_{2}^{+}\\right\\rangle \\right),-{\\rm Re}\\left(\\left\\langle \\hat{\\sigma}_{2}^{+}\\right\\rangle \\right),0\\right)+\\left({\\rm Im}\\left(\\left\\langle \\hat{\\sigma}_{2}^{+}\\right\\rangle \\right)-{\\rm Re}\\left(\\left\\langle \\hat{\\sigma}_{2}^{+}\\right\\rangle \\right)\\right)\\left(A_{21}+A_{12}\\right)\\left({\\rm Re}\\left(\\left\\langle \\hat{\\sigma}_{1}^{+}\\right\\rangle \\right)+{\\rm Im}\\left(\\left\\langle \\hat{\\sigma}_{1}^{+}\\right\\rangle \\right)+\\left\\langle \\hat{\\sigma}_{1}^{z}\\right\\rangle \\right)\\right)\\\\\n",
    " & \\,\\,\\,\\,\\,-8\\left(\\gamma_{+}+\\gamma_{-}\\right)\\left\\langle \\hat{\\sigma}_{2}^{z}\\right\\rangle +8\\left(\\gamma_{+}-\\gamma_{-}\\right)\\left\\langle \\hat{\\sigma}_{2}^{z}\\right\\rangle \\left\\langle \\hat{\\sigma}_{1}^{z}\\right\\rangle +6\\left(\\gamma_{+}-\\gamma_{-}\\right).\n",
    "\\end{align}"
   ]
  },
  {
   "cell_type": "markdown",
   "metadata": {},
   "source": [
    "# Complex ODEINT function"
   ]
  },
  {
   "cell_type": "code",
   "execution_count": 1,
   "metadata": {},
   "outputs": [],
   "source": [
    "import numpy as np\n",
    "from scipy.integrate import odeint\n",
    "\n",
    "\n",
    "def odeintz(func, z0, t, **kwargs):\n",
    "    \"\"\"An odeint-like function for complex valued differential equations.\"\"\"\n",
    "\n",
    "    # Disallow Jacobian-related arguments.\n",
    "    _unsupported_odeint_args = ['Dfun', 'col_deriv', 'ml', 'mu']\n",
    "    bad_args = [arg for arg in kwargs if arg in _unsupported_odeint_args]\n",
    "    if len(bad_args) > 0:\n",
    "        raise ValueError(\"The odeint argument %r is not supported by \"\n",
    "                         \"odeintz.\" % (bad_args[0],))\n",
    "\n",
    "    # Make sure z0 is a numpy array of type np.complex128.\n",
    "    z0 = np.array(z0, dtype=np.complex128, ndmin=1)\n",
    "\n",
    "    def realfunc(x, t, *args):\n",
    "        z = x.view(np.complex128)\n",
    "        dzdt = func(z, t, *args)\n",
    "        # func might return a python list, so convert its return\n",
    "        # value to an array with type np.complex128, and then return\n",
    "        # a np.float64 view of that array.\n",
    "        return np.asarray(dzdt, dtype=np.complex128).view(np.float64)\n",
    "\n",
    "    result = odeint(realfunc, z0.view(np.float64), t, **kwargs)\n",
    "\n",
    "    if kwargs.get('full_output', False):\n",
    "        z = result[0].view(np.complex128)\n",
    "        infodict = result[1]\n",
    "        return z, infodict\n",
    "    else:\n",
    "        z = result.view(np.complex128)\n",
    "        return z"
   ]
  },
  {
   "cell_type": "markdown",
   "metadata": {},
   "source": [
    "# Simulation"
   ]
  },
  {
   "cell_type": "markdown",
   "metadata": {},
   "source": [
    "### Parameters"
   ]
  },
  {
   "cell_type": "code",
   "execution_count": 23,
   "metadata": {},
   "outputs": [],
   "source": [
    "\"\"\"The user needs to set 2 parameters and the initial conditions of the system.\"\"\"\n",
    "\"\"\"In our case the parameters are the matrix h and the interaction matrix A.\"\"\"\n",
    "\n",
    "h=[[1,2,3],[-2,2,-3]]\n",
    "\n",
    "A=[[1,2],[3,4]]\n",
    "\n"
   ]
  },
  {
   "cell_type": "code",
   "execution_count": null,
   "metadata": {},
   "outputs": [],
   "source": []
  },
  {
   "cell_type": "code",
   "execution_count": null,
   "metadata": {},
   "outputs": [],
   "source": []
  },
  {
   "cell_type": "code",
   "execution_count": null,
   "metadata": {},
   "outputs": [],
   "source": []
  },
  {
   "cell_type": "code",
   "execution_count": 35,
   "metadata": {},
   "outputs": [],
   "source": [
    "def cj(z): \n",
    "    return z.conjugate()\n",
    "\n",
    "def real(z): \n",
    "    return z.real\n",
    "\n",
    "def imag(z): \n",
    "    return z.imag\n",
    "\n",
    "\n",
    "if __name__ == \"__main__\":\n",
    "\n",
    "    # Define the right-hand-side of the differential equation.\n",
    "    def zfunc(z, t, K, L):\n",
    "        p1, z1, p2, z2 = z\n",
    "        return [p1 * (K - p2), L - imag(z1) , real(z2),p2+z1] \n",
    "\n",
    "    # Set up the inputs and call odeintz to solve the system.\n",
    "    z0 = np.array([1+2j, 3+4j,1,0])\n",
    "    t = np.linspace(0, 4, 101)\n",
    "    K = 3\n",
    "    L = 1\n",
    "    z, infodict = odeintz(zfunc, z0, t, args=(K,L), full_output=True)"
   ]
  },
  {
   "cell_type": "markdown",
   "metadata": {},
   "source": [
    "\\begin{align}\n",
    "\\partial_{t}\\left\\langle \\hat{\\sigma}_{1}^{+}\\right\\rangle  & =-\\frac{2{\\rm i}}{\\hbar}\\left(\\overrightarrow{h_{1}}\\cdot\\left(\\left\\langle \\hat{\\sigma}_{1}^{z}\\right\\rangle ,{\\rm i}\\left\\langle \\hat{\\sigma}_{1}^{z}\\right\\rangle ,-\\left\\langle \\hat{\\sigma}_{1}^{+}\\right\\rangle \\right)-2\\left(1+{\\rm i}\\right)\\left(A_{21}+A_{12}\\right)\\left\\langle \\hat{\\sigma}_{1}^{+}\\right\\rangle \\left({\\rm Re}\\left(\\left\\langle \\hat{\\sigma}_{2}^{+}\\right\\rangle \\right)+{\\rm Im}\\left(\\left\\langle \\hat{\\sigma}_{2}^{+}\\right\\rangle \\right)+\\left\\langle \\hat{\\sigma}_{2}^{z}\\right\\rangle \\right)\\right)\\\\\n",
    " & \\,\\,\\,\\,\\,-4\\left(\\gamma_{+}+\\gamma_{-}+\\gamma_{z}\\right)\\left\\langle \\hat{\\sigma}_{1}^{+}\\right\\rangle +8\\left(\\gamma_{+}-\\gamma_{-}\\right)\\left\\langle \\hat{\\sigma}_{1}^{+}\\right\\rangle \\left\\langle \\hat{\\sigma}_{2}^{z}\\right\\rangle ,\\\\\n",
    "\\partial_{t}\\left\\langle \\hat{\\sigma}_{1}^{z}\\right\\rangle  & =\\frac{1}{\\hbar}\\left(\\overrightarrow{h_{1}}\\cdot\\left({\\rm Im}\\left(\\left\\langle \\hat{\\sigma}_{1}^{+}\\right\\rangle \\right),-{\\rm Re}\\left(\\left\\langle \\hat{\\sigma}_{1}^{+}\\right\\rangle \\right),0\\right)+\\left({\\rm Im}\\left(\\left\\langle \\hat{\\sigma}_{1}^{+}\\right\\rangle \\right)-{\\rm Re}\\left(\\left\\langle \\hat{\\sigma}_{1}^{+}\\right\\rangle \\right)\\right)\\left(A_{21}+A_{12}\\right)\\left({\\rm Re}\\left(\\left\\langle \\hat{\\sigma}_{2}^{+}\\right\\rangle \\right)+{\\rm Im}\\left(\\left\\langle \\hat{\\sigma}_{2}^{+}\\right\\rangle \\right)+\\left\\langle \\hat{\\sigma}_{2}^{z}\\right\\rangle \\right)\\right)\\\\\n",
    " & \\,\\,\\,\\,\\,-8\\left(\\gamma_{+}+\\gamma_{-}\\right)\\left\\langle \\hat{\\sigma}_{1}^{z}\\right\\rangle +8\\left(\\gamma_{+}-\\gamma_{-}\\right)\\left\\langle \\hat{\\sigma}_{1}^{z}\\right\\rangle \\left\\langle \\hat{\\sigma}_{2}^{z}\\right\\rangle +6\\left(\\gamma_{+}-\\gamma_{-}\\right),\\\\\n",
    "\\partial_{t}\\left\\langle \\hat{\\sigma}_{2}^{+}\\right\\rangle  & =-\\frac{2{\\rm i}}{\\hbar}\\left(\\overrightarrow{h_{2}}\\cdot\\left(\\left\\langle \\hat{\\sigma}_{2}^{z}\\right\\rangle ,{\\rm i}\\left\\langle \\hat{\\sigma}_{2}^{z}\\right\\rangle ,-\\left\\langle \\hat{\\sigma}_{2}^{+}\\right\\rangle \\right)-2\\left(1+{\\rm i}\\right)\\left\\langle \\hat{\\sigma}_{2}^{+}\\right\\rangle \\left(A_{12}+A_{21}\\right)\\left({\\rm Re}\\left(\\left\\langle \\hat{\\sigma}_{1}^{+}\\right\\rangle \\right)+{\\rm Im}\\left(\\left\\langle \\hat{\\sigma}_{1}^{+}\\right\\rangle \\right)+\\left\\langle \\hat{\\sigma}_{1}^{z}\\right\\rangle \\right)\\right)\\\\\n",
    " & \\,\\,\\,\\,\\,-4\\left(\\gamma_{+}+\\gamma_{-}+\\gamma_{z}\\right)\\left\\langle \\hat{\\sigma}_{2}^{+}\\right\\rangle +8\\left(\\gamma_{+}-\\gamma_{-}\\right)\\left\\langle \\hat{\\sigma}_{2}^{+}\\right\\rangle \\left\\langle \\hat{\\sigma}_{1}^{z}\\right\\rangle ,\\\\\n",
    "\\partial_{t}\\left\\langle \\hat{\\sigma}_{2}^{z}\\right\\rangle  & =\\frac{1}{\\hbar}\\left(\\overrightarrow{h_{2}}\\cdot\\left({\\rm Im}\\left(\\left\\langle \\hat{\\sigma}_{2}^{+}\\right\\rangle \\right),-{\\rm Re}\\left(\\left\\langle \\hat{\\sigma}_{2}^{+}\\right\\rangle \\right),0\\right)+\\left({\\rm Im}\\left(\\left\\langle \\hat{\\sigma}_{2}^{+}\\right\\rangle \\right)-{\\rm Re}\\left(\\left\\langle \\hat{\\sigma}_{2}^{+}\\right\\rangle \\right)\\right)\\left(A_{21}+A_{12}\\right)\\left({\\rm Re}\\left(\\left\\langle \\hat{\\sigma}_{1}^{+}\\right\\rangle \\right)+{\\rm Im}\\left(\\left\\langle \\hat{\\sigma}_{1}^{+}\\right\\rangle \\right)+\\left\\langle \\hat{\\sigma}_{1}^{z}\\right\\rangle \\right)\\right)\\\\\n",
    " & \\,\\,\\,\\,\\,-8\\left(\\gamma_{+}+\\gamma_{-}\\right)\\left\\langle \\hat{\\sigma}_{2}^{z}\\right\\rangle +8\\left(\\gamma_{+}-\\gamma_{-}\\right)\\left\\langle \\hat{\\sigma}_{2}^{z}\\right\\rangle \\left\\langle \\hat{\\sigma}_{1}^{z}\\right\\rangle +6\\left(\\gamma_{+}-\\gamma_{-}\\right).\n",
    "\\end{align}"
   ]
  },
  {
   "cell_type": "code",
   "execution_count": null,
   "metadata": {},
   "outputs": [],
   "source": []
  },
  {
   "cell_type": "code",
   "execution_count": null,
   "metadata": {},
   "outputs": [],
   "source": []
  }
 ],
 "metadata": {
  "kernelspec": {
   "display_name": "Python 3",
   "language": "python",
   "name": "python3"
  },
  "language_info": {
   "codemirror_mode": {
    "name": "ipython",
    "version": 3
   },
   "file_extension": ".py",
   "mimetype": "text/x-python",
   "name": "python",
   "nbconvert_exporter": "python",
   "pygments_lexer": "ipython3",
   "version": "3.8.3"
  }
 },
 "nbformat": 4,
 "nbformat_minor": 4
}
