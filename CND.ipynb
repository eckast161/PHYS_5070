{
 "cells": [
  {
   "cell_type": "markdown",
   "metadata": {},
   "source": [
    "# Computational Nonequilibrium Dynamics of General Interaction Hamiltonians under Local Decoherence."
   ]
  },
  {
   "cell_type": "markdown",
   "metadata": {},
   "source": [
    "## Introduction\n",
    "\n",
    "The study of the dynamics and evolution of quantum systems is fundamental for understanding the relationship between the interaction of the different parts of the system and the decoherence due to processes related with the interplay of the system and its environment. In particular we consider a system which undergoes to local decoherence processes which generates spontaneous excitation, deexcitation and elastic dephasing. Mathematically we can associate each of the mentioned decoherence channels to the matrices $\\hat{\\sigma} _+$ \n",
    "\n",
    "\n",
    "give rise to spontaneous deexcitation, spontaneous excitation,\n",
    "and elastic dephasing, respectively\n",
    "\n",
    "\n",
    "Additionally, this problem in the regime of many-body systems can lead to untractable situations from analitycal methods and even with computational methods that can become expensive, that is, \n",
    "    \n",
    "    \n",
    "\n",
    "<img src=\"DescriptiveFig.png\" style=\"width:500px;height:280px\"/>\n"
   ]
  },
  {
   "cell_type": "markdown",
   "metadata": {},
   "source": [
    "<i> Figure 1 **(Taken from [1])**.  </i> Illustration of the local decoherence processes over a spin lattice due to: a) $\\rm{du}$ and $\\rm{ud}$ processes shown in red abd blue respectively related with spin relaxation and b) $\\rm{el}$ dephasing due to Raman scattering \n"
   ]
  },
  {
   "cell_type": "markdown",
   "metadata": {},
   "source": [
    "## Model\n",
    "\n",
    "Consider the following generic system hamiltonian of N spins written in the form: \n",
    "\n",
    "\\begin{align}\n",
    "\\hat{H}_{{\\rm S}} & =\\sum_{i}\\overrightarrow{h_{i}}\\cdot\\overrightarrow{\\hat{\\sigma}_{i}}+\\sum_{jk,\\beta\\varepsilon}A_{jk}^{\\beta\\varepsilon}\\hat{\\sigma}_{j}^{\\beta}\\hat{\\sigma}_{k}^{\\varepsilon},\\\\\n",
    "\\overrightarrow{\\hat{\\sigma}_{i}} & =\\left(\\hat{\\sigma}_{i}^{x},\\hat{\\sigma}_{i}^{y},\\hat{\\sigma}_{i}^{z}\\right),\\\\\n",
    "\\beta,\\varepsilon & \\in\\left\\{ x,y,z\\right\\} ,\\\\\n",
    "\\hat{\\sigma}_{i}^{x} & =\\begin{pmatrix}0 & 1\\\\\n",
    "1 & 0\n",
    "\\end{pmatrix},\\\\\n",
    "\\hat{\\sigma}_{i}^{y} & =\\begin{pmatrix}0 & -{\\rm i}\\\\\n",
    "{\\rm i} & 0\n",
    "\\end{pmatrix},\\\\\n",
    "\\hat{\\sigma}_{i}^{z} & =\\begin{pmatrix}1 & 0\\\\\n",
    "0 & -1\n",
    "\\end{pmatrix}.\n",
    "\\end{align}\n",
    "\n",
    "\n",
    "here the set of $\\overrightarrow{h_{i}}$ can be seen as a $N\\times3$\n",
    "matrix and $A$ is a tensor of size $9N\\times N$, where 9 is related\n",
    "to all the possible combinations of $x,y,z$ taking 2 elements with repetition. We\n",
    "can interpret tthis in terms that each combination $\\beta\\varepsilon$\n",
    "has an interaction matrix associated which summarizes the interaction\n",
    "between sites. In order to introduce a dissipation term we write the\n",
    "Linblandian operators of the system as:\n",
    "\n",
    "\\begin{align}\n",
    "\\mathcal{L} & \\Rightarrow\\sqrt{\\gamma_{+}}\\hat{\\sigma}_{i}^{+},\\sqrt{\\gamma_{-}}\\hat{\\sigma}_{i}^{-},\\sqrt{\\gamma_{z}}\\hat{\\sigma}_{i}^{z},\\\\\n",
    "\\gamma_{+} & =\\frac{\\Gamma_{{\\rm du}}}{2},\\\\\n",
    "\\gamma_{-} & =\\frac{\\Gamma_{{\\rm ud}}}{2},\\\\\n",
    "\\gamma_{z} & =\\frac{\\Gamma_{{\\rm el}}}{8},\\\\\n",
    "\\hat{\\sigma}_{i}^{+} & =\\begin{pmatrix}0 & 1\\\\\n",
    "0 & 0\n",
    "\\end{pmatrix},\\\\\n",
    "\\hat{\\sigma}_{i}^{-} & =\\begin{pmatrix}0 & 0\\\\\n",
    "1 & 0\n",
    "\\end{pmatrix},\\\\\n",
    "\\hat{\\sigma}_{i}^{z} & =\\begin{pmatrix}1 & 0\\\\\n",
    "0 & -1\n",
    "\\end{pmatrix},\\\\\n",
    "\\mathcal{L}\\left[\\hat{\\rho}\\right] & =-\\sum_{i,\\eta}\\gamma_{\\eta}\\left(\\hat{\\rho}\\hat{A}_{i}^{\\dagger\\eta}\\hat{A}_{i}^{\\eta}+\\hat{A}_{i}^{\\dagger\\eta}\\hat{A}_{i}^{\\eta}\\hat{\\rho}-2\\hat{A}_{i}^{\\eta}\\hat{\\rho}\\hat{A}_{i}^{\\dagger\\eta}\\right),\\\\\n",
    "\\hat{A}_{i}^{\\eta} & =\\hat{\\sigma}_{i}^{\\eta},\\eta\\!\\in\\!\\left\\{ +,-,z\\right\\} .\n",
    "\\end{align}\n",
    "\n",
    "Further algebra process that can be found in the [LyX](https://www.lyx.org/Download) file attached in the repository helps us to find the reduced master equation:\n",
    "\n",
    "\n",
    "\\begin{equation}\n",
    "\\frac{\\partial\\hat{\\rho}}{\\partial t}=-\\frac{{\\rm i}}{\\hbar}\\left[\\hat{H}_{{\\rm S}},\\hat{\\rho}\\right]-2N\\left(\\frac{\\gamma_{+}}{2}+\\frac{\\gamma_{-}}{2}+\\gamma_{z}\\right)\\hat{\\rho}-\\frac{1}{2}\\left(\\gamma_{-}-\\gamma_{+}\\right)\\sum_{i}\\left\\{ \\hat{\\rho},\\hat{\\sigma}_{i}^{z}\\right\\} +\\sum_{i,\\eta}2\\gamma_{\\eta}\\hat{A}_{i}^{\\eta}\\hat{\\rho}\\hat{A}_{i}^{\\dagger\\eta}.\n",
    "\\end{equation}\n",
    "\n"
   ]
  },
  {
   "cell_type": "markdown",
   "metadata": {},
   "source": [
    "In particular, solving the previous equation will require to solve $4^N$ differential equations for a system of $N$ spins, this imply that determining the dynamics of $N=10$ spins, for example, will require to solve about $10^6$ differential equations and this amount of equations can be computationally expensive, also the information required to determine the dynamics of the correlation function of relevant operators under certain regimes is less than the obtained via the complete simultion under certain approximations. \n",
    "\n",
    "Recall that we define the expected value of an operator $\\hat{\\mathcal{O}}$ as:\n",
    "\n",
    "\\begin{equation}\n",
    "\\left\\langle \\hat{\\mathcal{O}}\\right\\rangle ={\\rm Tr}\\left(\\hat{\\mathcal{O}}\\hat{\\rho}\\right).\n",
    "\\end{equation}\n",
    "\n",
    "\n",
    "\n",
    "\n",
    "We consider the comulant approximation which just require to factorize the correlation functions in terms of elements of lower degree. In particular, for a 3-operator correlation function we can show that in cumulant approximation:\n",
    "\n",
    "\\begin{align}\n",
    "\\left\\langle \\hat{\\sigma}_{a}^{\\alpha}\\hat{\\sigma}_{b}^{\\beta}\\hat{\\sigma}_{c}^{\\gamma}\\right\\rangle  & \\approx\\left\\langle \\hat{\\sigma}_{a}^{\\alpha}\\right\\rangle \\left\\langle \\hat{\\sigma}_{b}^{\\beta}\\hat{\\sigma}_{c}^{\\gamma}\\right\\rangle +\\left\\langle \\hat{\\sigma}_{b}^{\\beta}\\right\\rangle \\left\\langle \\hat{\\sigma}_{c}^{\\gamma}\\hat{\\sigma}_{a}^{\\alpha}\\right\\rangle +\\left\\langle \\hat{\\sigma}_{c}^{\\gamma}\\right\\rangle \\left\\langle \\hat{\\sigma}_{a}^{\\alpha}\\hat{\\sigma}_{b}^{\\beta}\\right\\rangle -2\\left\\langle \\hat{\\sigma}_{a}^{\\alpha}\\right\\rangle \\left\\langle \\hat{\\sigma}_{b}^{\\beta}\\right\\rangle \\left\\langle \\hat{\\sigma}_{c}^{\\gamma}\\right\\rangle .\n",
    "\\end{align}\n",
    "\n",
    "\n",
    "Additionally, the time-evolution of the operators is given by the equation:\n",
    "\n",
    "\\begin{align}\n",
    "\\partial_{t}\\left\\langle \\hat{\\sigma}_{i}^{\\alpha}\\hat{\\sigma}_{j}^{\\beta}\\right\\rangle  & ={\\rm Tr}\\left(\\hat{\\sigma}_{i}^{\\alpha}\\hat{\\sigma}_{j}^{\\beta}\\partial_{t}\\hat{\\rho}\\right).\n",
    "\\end{align}\n",
    "\n",
    "\n",
    "\n",
    "\n",
    "\n",
    "Although the aim of this research is to describe the dynamics of the system under a generic interaction hamiltonian, for this project we plan to reproduce the results obtained in the analitical treatment to the same problem done in [1]. This represents a first comparison point respect to the full treatment which requires to solve the system of differential equations shown in the [git repository](https://github.com/eckast161)  related with this [document](https://github.com/eckast161/PHYS_5070/blob/main/SummaryPRA2013modified.lyx). An example of the full set of differential equations is:"
   ]
  },
  {
   "cell_type": "markdown",
   "metadata": {},
   "source": [
    "<img src=\"geneq.png\" style=\"width:800px;height:400px\"/>\n"
   ]
  },
  {
   "cell_type": "markdown",
   "metadata": {},
   "source": [
    "Following this description in [1], we consider that $\\overrightarrow{h_{i}}=0$ for all $i$. Also, if $\\beta\\epsilon\\neq zz $ then $A_{jk}^{\\beta\\epsilon}=0$. In this case we can show that the system of differential equations that govern this system under cumulant approximation of second order is:"
   ]
  },
  {
   "cell_type": "markdown",
   "metadata": {},
   "source": [
    "\\begin{align}\n",
    "\\partial_{t}\\!\\left\\langle \\hat{\\sigma}_{i}^{+}\\left(t\\right)\\right\\rangle  & =\\frac{2{\\rm i}}{\\hbar}\\sum_{j\\neq i}\\left(A_{ij}^{zz}+A_{ji}^{zz}\\right)\\left\\langle \\hat{\\sigma}_{j}^{z}\\hat{\\sigma}_{i}^{+}\\right\\rangle -\\left(\\gamma_{+}+\\gamma_{-}+4\\gamma_{z}\\right)\\left\\langle \\hat{\\sigma}_{i}^{+}\\right\\rangle ,\\\\\n",
    "\\partial_{t}\\left\\langle \\hat{\\sigma}_{i}^{z}\\left(t\\right)\\right\\rangle  & =2\\left(\\gamma_{+}-\\gamma_{-}\\right)-2\\left(\\gamma_{+}+\\gamma_{-}\\right)\\left\\langle \\hat{\\sigma}_{i}^{z}\\right\\rangle ,\\\\\n",
    "\\partial_{t}\\left\\langle \\hat{\\sigma}_{a}^{+}\\hat{\\sigma}_{b}^{+}\\right\\rangle  & \\approx\\frac{2{\\rm i}}{\\hbar}\\sum_{j\\neq ab}\\left(A_{bj}^{zz}+A_{ja}^{zz}+A_{jb}^{zz}+A_{aj}^{zz}\\right)\\left(\\left\\langle \\hat{\\sigma}_{a}^{+}\\hat{\\sigma}_{b}^{+}\\right\\rangle \\left\\langle \\hat{\\sigma}_{j}^{z}\\right\\rangle +\\left\\langle \\hat{\\sigma}_{j}^{z}\\hat{\\sigma}_{b}^{+}\\right\\rangle \\left\\langle \\hat{\\sigma}_{a}^{+}\\right\\rangle +\\left\\langle \\hat{\\sigma}_{j}^{z}\\hat{\\sigma}_{a}^{+}\\right\\rangle \\left\\langle \\hat{\\sigma}_{b}^{+}\\right\\rangle -2\\left\\langle \\hat{\\sigma}_{a}^{+}\\right\\rangle \\left\\langle \\hat{\\sigma}_{b}^{+}\\right\\rangle \\left\\langle \\hat{\\sigma}_{j}^{z}\\right\\rangle \\right)\\\\\n",
    " & \\,\\,\\,\\,\\,-2\\left(\\gamma_{+}+\\gamma_{-}+4\\gamma_{z}\\right)\\left\\langle \\hat{\\sigma}_{a}^{+}\\hat{\\sigma}_{b}^{+}\\right\\rangle ,\\\\\n",
    "\\partial_{t}\\left\\langle \\hat{\\sigma}_{a}^{+}\\hat{\\sigma}_{b}^{-}\\right\\rangle  & \\approx-\\frac{2{\\rm i}}{\\hbar}\\sum_{j\\neq a,b}\\left(A_{bj}^{zz}+A_{jb}^{zz}-A_{ja}^{zz}-A_{aj}^{zz}\\right)\\left(\\left\\langle \\hat{\\sigma}_{a}^{+}\\hat{\\sigma}_{b}^{-}\\right\\rangle \\left\\langle \\hat{\\sigma}_{j}^{z}\\right\\rangle +\\left\\langle \\hat{\\sigma}_{a}^{+}\\hat{\\sigma}_{j}^{z}\\right\\rangle \\left\\langle \\hat{\\sigma}_{b}^{+}\\right\\rangle ^{*}+\\left\\langle \\hat{\\sigma}_{b}^{+}\\hat{\\sigma}_{j}^{z}\\right\\rangle ^{*}\\left\\langle \\hat{\\sigma}_{a}^{+}\\right\\rangle -2\\left\\langle \\hat{\\sigma}_{a}^{+}\\right\\rangle \\left\\langle \\hat{\\sigma}_{b}^{+}\\right\\rangle ^{*}\\left\\langle \\hat{\\sigma}_{j}^{z}\\right\\rangle \\right)\\\\\n",
    " & \\,\\,\\,\\,\\,-2\\left(\\gamma_{+}+\\gamma_{-}+4\\gamma_{z}\\right)\\left\\langle \\hat{\\sigma}_{a}^{+}\\hat{\\sigma}_{b}^{-}\\right\\rangle ,\\\\\n",
    "\\partial_{t}\\left\\langle \\hat{\\sigma}_{a}^{z}\\hat{\\sigma}_{b}^{+}\\right\\rangle  & \\approx\\frac{2{\\rm i}}{\\hbar}\\left(\\left(A_{ba}^{zz}+A_{ab}^{zz}\\right)\\left\\langle \\hat{\\sigma}_{b}^{+}\\right\\rangle +\\sum_{j\\neq a,b}\\left(A_{bj}^{zz}+A_{jb}^{zz}\\right)\\left(\\left\\langle \\hat{\\sigma}_{a}^{z}\\hat{\\sigma}_{b}^{+}\\right\\rangle \\left\\langle \\hat{\\sigma}_{j}^{z}\\right\\rangle +\\left\\langle \\hat{\\sigma}_{j}^{z}\\hat{\\sigma}_{b}^{+}\\right\\rangle \\left\\langle \\hat{\\sigma}_{a}^{z}\\right\\rangle +\\left\\langle \\hat{\\sigma}_{a}^{z}\\hat{\\sigma}_{j}^{z}\\right\\rangle \\left\\langle \\hat{\\sigma}_{b}^{+}\\right\\rangle -2\\left\\langle \\hat{\\sigma}_{a}^{z}\\right\\rangle \\left\\langle \\hat{\\sigma}_{b}^{+}\\right\\rangle \\left\\langle \\hat{\\sigma}_{j}^{z}\\right\\rangle \\right)\\right)\\\\\n",
    " & \\,\\,\\,\\,\\,+2\\left(\\gamma_{+}-\\gamma_{-}\\right)\\left\\langle \\hat{\\sigma}_{b}^{+}\\right\\rangle -\\left(3\\left(\\gamma_{+}+\\gamma_{-}\\right)+4\\gamma_{z}\\right)\\left\\langle \\hat{\\sigma}_{a}^{z}\\hat{\\sigma}_{b}^{+}\\right\\rangle ,\\\\\n",
    "\\partial_{t}\\left\\langle \\hat{\\sigma}_{a}^{z}\\hat{\\sigma}_{b}^{z}\\right\\rangle  & =-2\\left(\\gamma_{-}-\\gamma_{+}\\right)\\left(\\left\\langle \\hat{\\sigma}_{b}^{z}\\right\\rangle +\\left\\langle \\hat{\\sigma}_{a}^{z}\\right\\rangle \\right)-4\\left(\\gamma_{+}+\\gamma_{-}\\right)\\left\\langle \\hat{\\sigma}_{a}^{z}\\hat{\\sigma}_{b}^{z}\\right\\rangle .\n",
    "\\end{align}"
   ]
  },
  {
   "cell_type": "markdown",
   "metadata": {},
   "source": [
    "## Computational analysis\n",
    "\n",
    "We can prove that the complete solution of the set of differential equations requires to solve $\\frac{N\\left(5N-1\\right)}{2}$ complex differential equations (in our case we separated the system in $N\\left(5N-1\\right)$ for using an [adaptation](https://stackoverflow.com/questions/19910189/scipy-odeint-with-complex-initial-values) of the [scipy.integrate.odeint](https://docs.scipy.org/doc/scipy/reference/generated/scipy.integrate.odeint.html) function, which separates each differential equation using the real and imaginary part), so at least at first sight we can see that we have reduced the exponential complexity of the number of differential equations to a polynomical complexity. The cost associated with the decremeant in the number of differential equations lies on the accuracy of the solutions associated to the dynamics of operators and the additonal number of arithmetic operations due to the additional information implicit in each differential equation."
   ]
  },
  {
   "cell_type": "code",
   "execution_count": 4,
   "metadata": {},
   "outputs": [
    {
     "data": {
      "image/png": "[encoded data removed]",
      "text/plain": [
       "<Figure size 576x432 with 2 Axes>"
      ]
     },
     "metadata": {
      "needs_background": "light"
     },
     "output_type": "display_data"
    }
   ],
   "source": [
    "import matplotlib.pyplot as plt\n",
    "import numpy as np\n",
    "\n",
    "\"\"\"In order to provide a better presentation of the graphs we use the rcParams options shown below.\"\"\"\n",
    "\n",
    "import matplotlib\n",
    "matplotlib.rcParams['text.usetex'] = False\n",
    "matplotlib.rcParams['mathtext.fontset'] = 'stix'\n",
    "matplotlib.rcParams['font.family'] = 'STIXGeneral'\n",
    "matplotlib.rcParams['font.size'] = 20\n",
    "matplotlib.rcParams['figure.figsize'] = (8.0, 6.0)\n",
    "\n",
    "\n",
    "spins=np.linspace(2,11,10)\n",
    "totalt=[0.0329993,0.2930367,1.88531,13.855892,60.6818635,195.637815,564.446964,1448.946284,3369.92411,15171.46318912]\n",
    "pereq_t=[0.003666,0.013954,0.049613,0.230932,0.697493,1.644015,3.618250,7.317910,13.754792,51.08236764]\n",
    "\n",
    "\"\"\"The previous information was collected running the program considering a homogeneous interaction matrix.\"\"\"\n",
    "\"\"\"This concept will be extended in detail during the documentation of the principal code.\"\"\"\n",
    "\n",
    "\n",
    "fig, (ax1, ax2) = plt.subplots(2,1)\n",
    "fig.suptitle('Time Complexity Analysis')\n",
    "\n",
    "ax1.plot(spins,totalt, 'o-')\n",
    "ax1.set_ylabel('Total time (s)')\n",
    "ax1.set_yscale('log')\n",
    "\n",
    "ax2.plot( spins,np.array(pereq_t)/2, 'o-')\n",
    "ax2.set_xlabel('Number of Spins (N)')\n",
    "ax2.set_ylabel('Time per diff. eq. (s)')\n",
    "ax2.set_yscale('log')\n",
    "\n",
    "plt.show()"
   ]
  },
  {
   "cell_type": "markdown",
   "metadata": {},
   "source": [
    "As we can see from the previous image, the time complexity grows exponentially, this can be deduced from the fact that the plots presented are in semilog scale and they show a tendency to linear growing in the domain studied. As reference, the computer used has a Core I7 10th Gen processor and a RAM of 16 GB. We can see that at least respect to time and number of operations, our approach could require similar amount of operations than the algorithms that describes the full evolution of the system, but the physical advantage of our approach relies on the fact that we can suppouse similar initial conditions of the system and same interaction hamiltonian (as we did producing the full approach), so we can reduce our $O(N^2)$ system to 6 differential equations for any value of $N$, this provides a significant reduction of the computation time to $7.996\\times 10^{-3}$ s with significant physical insight. This example as well will be discussed in the appendix section."
   ]
  },
  {
   "cell_type": "markdown",
   "metadata": {},
   "source": [
    "## Code Presentation"
   ]
  },
  {
   "cell_type": "markdown",
   "metadata": {},
   "source": [
    "### Complex integrator"
   ]
  },
  {
   "cell_type": "code",
   "execution_count": 17,
   "metadata": {},
   "outputs": [],
   "source": [
    "\"\"\"Our system of differential equations belongs to the complex space, that is why we implemented the code suggested in\"\"\"\n",
    "\"\"\"https://stackoverflow.com/questions/19910189/scipy-odeint-with-complex-initial-values.\"\"\"\n",
    "\n",
    "import time\n",
    "import numpy as np\n",
    "from scipy.integrate import odeint\n",
    "\n",
    "\n",
    "def odeintz(func, z0, t, **kwargs):\n",
    "    \"\"\"An odeint-like function for complex valued differential equations.\"\"\"\n",
    "\n",
    "    # Disallow Jacobian-related arguments.\n",
    "    _unsupported_odeint_args = ['Dfun', 'col_deriv', 'ml', 'mu']\n",
    "    bad_args = [arg for arg in kwargs if arg in _unsupported_odeint_args]\n",
    "    if len(bad_args) > 0:\n",
    "        raise ValueError(\"The odeint argument %r is not supported by \"\n",
    "                         \"odeintz.\" % (bad_args[0],))\n",
    "\n",
    "    # Make sure z0 is a numpy array of type np.complex128.\n",
    "    z0 = np.array(z0, dtype=np.complex128, ndmin=1)\n",
    "\n",
    "    def realfunc(x, t, *args):\n",
    "        z = x.view(np.complex128)\n",
    "        dzdt = func(z, t, *args)\n",
    "        # func might return a python list, so convert its return\n",
    "        # value to an array with type np.complex128, and then return\n",
    "        # a np.float64 view of that array.\n",
    "        return np.asarray(dzdt, dtype=np.complex128).view(np.float64)\n",
    "\n",
    "    result = odeint(realfunc, z0.view(np.float64), t, **kwargs)\n",
    "\n",
    "    if kwargs.get('full_output', False):\n",
    "        z = result[0].view(np.complex128)\n",
    "        infodict = result[1]\n",
    "        return z, infodict\n",
    "    else:\n",
    "        z = result.view(np.complex128)\n",
    "        return z"
   ]
  },
  {
   "cell_type": "markdown",
   "metadata": {},
   "source": [
    "### Determination of parameters"
   ]
  },
  {
   "cell_type": "code",
   "execution_count": 99,
   "metadata": {},
   "outputs": [],
   "source": [
    "\"\"\"There is a set of parameters that should be set by the user before starting to simulate the dynamics of the operators.\"\"\"\n",
    "\"\"\"The set of parameters to be determined by the user or by default appear in this cell. It is instructive to describe each\"\"\"\n",
    "\"\"\"parameter. take in account that we had assumed hbar=1 without loss of generalityT.\"\"\"\n",
    "\n",
    "\n",
    "Gamma_ud=0.4   # decaying rate associated with spontaneous excitation (ud) in natural units of energy.\n",
    "Gamma_du=0.2   # decaying rate associated with spontaneous deexcitation (du) in natural units of energy.\n",
    "Gamma_el=1.6   # decaying rate associated with elastic scattering (el) in natural units of energy.\n",
    "\n",
    "\n",
    "gammaplus=Gamma_du/2  #gamma factor + that appears in the master equation associated to du in natural units of energy.\n",
    "gammaminus=Gamma_ud/2 #gamma factor - that appears in the master equation associated to ud in natural units of energy.\n",
    "gammaz=Gamma_el/8  #gamma factor z that appears in the master equation associated to el in natural units of energy.  \n",
    "\n",
    "#--------------------------------------------------------------------------------------------------------------------------\n",
    "\"\"\"This array summarizes the decaying rates\"\"\"\n",
    "\n",
    "\n",
    "Gamma=np.array([gammaplus,gammaminus,gammaz])  #Ordered array of gamma factors in the order [gammaplus,gammaminus,gammaz]\n",
    "\n",
    "#---------------------------------------------------------------------------------------------------------------------------\n",
    "\n",
    "\"\"\"The initial state of the array can be set by the user as well. Given that we use our simulation for protocols of quantum\"\"\"\n",
    "\"\"\"information, quantum metrology, quantum computation, among others, we just need to set one initial state and all the spins\"\"\"\n",
    "\"\"\"will have the same state. This initial state is set via the density matrix, some well known density matrices are left \"\"\"\n",
    "\"\"\"to the user, further information about tdensity matrices can be found in https://en.wikipedia.org/wiki/Density_matrix\"\"\"\n",
    "\n",
    "\n",
    "\"\"\"Left uncommented the density matrix that you want to use in the simulation or edit your own density matrix as an array.\"\"\"\n",
    "\n",
    "rho_init0=np.array([[1/2,1/2],[1/2,1/2]])    #density matrix of the state |+><+|\n",
    "#rho_init0=np.array([[1/2,-1/2],[-1/2,1/2]])    #density matrix of the state |-><-|\n",
    "#rho_init0=np.array([[1,0],[0,0]])    #density matrix of the state |0><0|\n",
    "#rho_init0=np.array([[0,0],[0,1]])    #density matrix of the state |1><1|\n",
    "#rho_init0=np.array([[1/2,0],[0,1/2]])    #density matrix of the state I/2 (maximum mixed one-spin state), just for interest\n",
    "#but in general it is not an useful state due to the lack of coherence between the elements of the system.\n",
    "\n",
    "\n",
    "\n",
    "\n",
    "\n",
    "\"\"\"Here you set the number of spins to be simulated\"\"\"\n",
    "\n",
    "N=3\n",
    "\n",
    "\n",
    "\n",
    "#Interaction Matrix \n",
    "\n",
    "\"\"\"We have two options for setting the interaction matrix, one is to get a\"\"\"\n",
    "#Random interaction matrix\n",
    "\n",
    "#A=np.random.rand(N,N)\n",
    "#A= np.triu(A)\n",
    "#np.fill_diagonal(A, 0)\n",
    "\n",
    "\n",
    "\n",
    "#Homogeneous interaction matrix\n",
    "\n",
    "Jef=3\n",
    "\n",
    "A=np.ones((N,N))\n",
    "A= np.triu(A)\n",
    "np.fill_diagonal(A, 0)\n",
    "A=Jef*A/N\n",
    "\n",
    "\n",
    "\n",
    "\n",
    "\n",
    "\n",
    "\n",
    "\n",
    "\n",
    "\n",
    "\n",
    "\"\"\"Functions used for avoiding calling np\"\"\"\n",
    "\n",
    "def trace(A):\n",
    "    return np.trace(A)  #Returns the trace of a square matrix\n",
    "\n",
    "def matmu(A,B):\n",
    "    return np.matmul(A,B) #Returns the result of the multiplication of matrix A and B in the order A.B\n",
    "\n",
    "\n",
    "\n",
    "\n",
    "sigma_p= np.array([[0,1],[0,0]])\n",
    "sigma_m= np.array([[0,0],[1,0]])\n",
    "sigma_z= np.array([[1,0],[0,-1]])\n",
    "\n",
    "\n",
    "##Initial values one operator\n",
    "\n",
    "sp_init0=trace(matmu(rho_init0,sigma_p))\n",
    "sz_init0=trace(matmu(rho_init0,sigma_z))\n",
    "sm_init0=trace(matmu(rho_init0,sigma_m))\n",
    "\n",
    "Genit=[sp_init0,sz_init0,sm_init0]\n",
    "\n",
    "\n",
    "r0=[]\n",
    "fact=int(N*(N-1)/2)\n",
    "\n",
    "r0=[Genit[0]]*N+[Genit[1]]*N+[Genit[0]**2]*fact+[Genit[0]*Genit[2]]*fact+[Genit[0]*Genit[1]]*2*fact+[Genit[1]**2]*fact\n",
    "\n"
   ]
  },
  {
   "cell_type": "code",
   "execution_count": null,
   "metadata": {},
   "outputs": [],
   "source": []
  },
  {
   "cell_type": "code",
   "execution_count": null,
   "metadata": {},
   "outputs": [],
   "source": []
  },
  {
   "cell_type": "code",
   "execution_count": null,
   "metadata": {},
   "outputs": [],
   "source": []
  },
  {
   "cell_type": "code",
   "execution_count": 100,
   "metadata": {},
   "outputs": [],
   "source": []
  },
  {
   "cell_type": "code",
   "execution_count": null,
   "metadata": {},
   "outputs": [],
   "source": []
  },
  {
   "cell_type": "code",
   "execution_count": 101,
   "metadata": {},
   "outputs": [],
   "source": [
    "def del_list(N):\n",
    "    \n",
    "    s=[]\n",
    "    count=0\n",
    "    for j in range (0,N):\n",
    "        s.append((count)%N)\n",
    "        count=count+1\n",
    "    \n",
    "    s_fin=s*(N) \n",
    "\n",
    "    count=0\n",
    "    while count<len(s_fin):\n",
    "        del(s_fin[count])\n",
    "        count=count+N\n",
    "    \n",
    "    sfin=np.array(s_fin)\n",
    "    \n",
    "    return sfin\n",
    "\n",
    "def new_indexer(N):\n",
    "    s=[]\n",
    "    for j in range(N):\n",
    "        s=s+[j]*(N-1)\n",
    "    return np.array(s)\n",
    "\n",
    "def up_triang(N):\n",
    "    ar = np.array(np.zeros((N,N)))\n",
    "    indices = np.triu_indices_from(ar)\n",
    "    indexer=[]\n",
    "    for j in range(len(indices[0])):\n",
    "        if indices[0][j]!=indices[1][j]:\n",
    "            indexer.append([indices[0][j],indices[1][j]])\n",
    "    return np.array(indexer)+N    "
   ]
  },
  {
   "cell_type": "code",
   "execution_count": 102,
   "metadata": {},
   "outputs": [],
   "source": [
    "# If you want to get the index of the upper triangular matrix just do this up_triang(N)-N \n",
    "\n"
   ]
  },
  {
   "cell_type": "code",
   "execution_count": 103,
   "metadata": {},
   "outputs": [],
   "source": [
    "def index_p(Arr,ind):\n",
    "    return np.array([i for i, e in enumerate(Arr) if e == ind])+int(2*N+N*(N-1))   #return the indexes required for dpdt"
   ]
  },
  {
   "cell_type": "code",
   "execution_count": null,
   "metadata": {},
   "outputs": [],
   "source": []
  },
  {
   "cell_type": "code",
   "execution_count": 104,
   "metadata": {},
   "outputs": [],
   "source": [
    "def computeLM(N):\n",
    "    i = np.zeros((int(N*(5*N-1)/2),int(N*(5*N-1)/2)),dtype = 'complex_')\n",
    "    r0=[]\n",
    "    extern=np.zeros(int(N*(5*N-1)/2))\n",
    "    \n",
    "    \n",
    "    Indexer=del_list(N)\n",
    "    new_index=new_indexer(N)\n",
    "    \n",
    "    \n",
    "    for j in range (0,N):  #dpdt\n",
    "        i[j][j]=-(Gamma[0]+Gamma[1]+4*Gamma[2])\n",
    "        for w in index_p(del_list(N),j):\n",
    "            i[j][w]=2*1j*(A[j][new_index[w-int(2*N+N*(N-1))]]+A[new_index[w-int(2*N+N*(N-1))]][j])   #   \n",
    "        \n",
    "    for j in range (N,2*N): #dzdt\n",
    "        i[j][j]=-2*(Gamma[0]+Gamma[1])\n",
    "        extern[j]=2*(Gamma[0]-Gamma[1])\n",
    "\n",
    "    for j in range (2*N,int(2*N+N*(N-1)/2)):  #dpadpbdt\n",
    "        i[j][j]=-2*(Gamma[0]+Gamma[1]+4*Gamma[2])\n",
    "    for j in range (int(2*N+N*(N-1)/2),int(2*N+N*(N-1))):  #dpadmbdt\n",
    "        i[j][j]=-2*(Gamma[0]+Gamma[1]+4*Gamma[2])\n",
    "    \n",
    "    \n",
    "    count=0\n",
    "    for j in range (int(2*N+N*(N-1)),int(2*N+2*N*(N-1))):   #dzadpbdt\n",
    "        i[j][j]=-(3*(Gamma[0]+Gamma[1])+4*Gamma[2])\n",
    "        i[j][Indexer[count]]=2*(Gamma[0]-Gamma[1])+2*1j*(A[Indexer[count]][new_index[count]]+A[new_index[count]][Indexer[count]])   #I use Jef for now\n",
    "        count=count+1\n",
    "        \n",
    "    \n",
    "    count=0        \n",
    "    for j in range (int(2*N+2*N*(N-1)),int(2*N+5*N*(N-1)/2)):   #dzadzbdt\n",
    "        i[j][j]=-4*(Gamma[0]+Gamma[1]) \n",
    "        i[j][up_triang(N)[count][0]]=-2*(Gamma[1]-Gamma[0])\n",
    "        i[j][up_triang(N)[count][1]]=-2*(Gamma[1]-Gamma[0])\n",
    "        count=count+1\n",
    "        \n",
    "    return extern, i"
   ]
  },
  {
   "cell_type": "code",
   "execution_count": null,
   "metadata": {},
   "outputs": [],
   "source": []
  },
  {
   "cell_type": "code",
   "execution_count": 105,
   "metadata": {},
   "outputs": [
    {
     "data": {
      "image/png": "[encoded data removed]",
      "text/plain": [
       "<Figure size 576x432 with 2 Axes>"
      ]
     },
     "metadata": {
      "needs_background": "light"
     },
     "output_type": "display_data"
    }
   ],
   "source": [
    "import numpy as np\n",
    "import matplotlib.pyplot as plt\n",
    "\n",
    "plt.imshow(np.real(computeLM(N)[1]))\n",
    "plt.colorbar()\n",
    "plt.show()\n",
    "\n",
    "\n"
   ]
  },
  {
   "cell_type": "code",
   "execution_count": 106,
   "metadata": {},
   "outputs": [
    {
     "data": {
      "image/png": "[encoded data removed]",
      "text/plain": [
       "<Figure size 576x432 with 2 Axes>"
      ]
     },
     "metadata": {
      "needs_background": "light"
     },
     "output_type": "display_data"
    }
   ],
   "source": [
    "import numpy as np\n",
    "import matplotlib.pyplot as plt\n",
    "\n",
    "plt.imshow(np.imag(computeLM(N)[1]))\n",
    "plt.colorbar()\n",
    "plt.show()\n"
   ]
  },
  {
   "cell_type": "code",
   "execution_count": null,
   "metadata": {},
   "outputs": [],
   "source": []
  },
  {
   "cell_type": "code",
   "execution_count": null,
   "metadata": {},
   "outputs": [],
   "source": []
  },
  {
   "cell_type": "code",
   "execution_count": null,
   "metadata": {},
   "outputs": [],
   "source": []
  },
  {
   "cell_type": "code",
   "execution_count": 107,
   "metadata": {},
   "outputs": [],
   "source": [
    "arr=del_list(N)\n",
    "def index_zp(a,b,arr):\n",
    "    return list(arr[a*(N-1):]).index(b)+a*(N-1)"
   ]
  },
  {
   "cell_type": "code",
   "execution_count": 108,
   "metadata": {},
   "outputs": [],
   "source": [
    "def indexzz(a,b,arry):\n",
    "    if a<b:\n",
    "        return arry.tolist().index([a,b])+2*(N**2)\n",
    "    elif a>b:\n",
    "        return arry.tolist().index([b,a])+2*(N**2)"
   ]
  },
  {
   "cell_type": "code",
   "execution_count": 109,
   "metadata": {},
   "outputs": [],
   "source": [
    "def vectors2(r, t, extern, i):\n",
    "    s = i @ r  #Vector multiplication\n",
    "    drdt = s+extern\n",
    "    \n",
    "    restr=N**2+N\n",
    "    arr_in = np.zeros((int(N*(5*N-1)/2),int(N*(5*N-1)/2)),dtype = 'complex_')\n",
    "    a_list = np.array(list(range( N)))\n",
    "    triang_ind=up_triang(N)-N\n",
    "    arr=del_list(N)\n",
    "    \n",
    "    \n",
    "    count=0\n",
    "    \n",
    "    init_in=N**2+N\n",
    "    \n",
    "    init1_in=2*(N**2)\n",
    "    \n",
    "    for j1 in range (2*N,int(2*N+N*(N-1)/2)):  #dpadpbdt\n",
    "        a0=triang_ind[count][0]\n",
    "        a1=triang_ind[count][1]\n",
    "        index_ab=index_zp( a0 ,a1,arr)\n",
    "        abz_ind=index_ab+init1_in\n",
    "        \n",
    "        j1pm=j1+int(N*(N-1)/2)\n",
    "        \n",
    "        \n",
    "        \n",
    "        \n",
    "        for ju in np.array(list(set(a_list) - set(triang_ind[count]))): \n",
    "            \n",
    "            index_0=index_zp( ju ,a0,arr)\n",
    "            index_1=index_zp( ju ,a1,arr)\n",
    "            \n",
    "            index_0per=index_zp( a0,ju,arr)\n",
    "            index_1per=index_zp( a1 ,ju,arr)\n",
    "            \n",
    "            \n",
    "            coef0=A[ju][a0]+A[a0][ju]+A[ju][a1]+A[a1][ju]\n",
    "            \n",
    "            \n",
    "            arr_in[j1][j1]=arr_in[j1][j1]+r[ju+N]*2j* coef0\n",
    "            #print(j1,j1,\".\",ju+N,\".\",\"|\",ju,a0,a0,ju,ju,a1,a1,ju)\n",
    "            \n",
    "            arr_in[j1][a0]=arr_in[j1][a0]+ 2j* (r[init_in+index_1] -2*r[a1]*r[ju+N])  *coef0\n",
    "            #print(j1,a0,\".\",init_in+index_1,\".andMinus2\",a1,ju+N,\"|\",ju,a0,a0,ju,ju,a1,a1,ju)\n",
    "            \n",
    "            \n",
    "            arr_in[j1][a1]=arr_in[j1][a1]+ 2j* r[init_in+index_0]  *coef0\n",
    "            #print(j1,a1,\".\",init_in+index_0,\"|\",ju,a0,a0,ju,ju,a1,a1,ju)\n",
    "        \n",
    "\n",
    "            \n",
    "            ab_ind=init_in+index_0\n",
    "            \n",
    "            \n",
    "            coef1=(-A[ju][a0]-A[a0][ju]+A[ju][a1]+A[a1][ju])\n",
    "            \n",
    "            arr_in[j1pm][j1pm]=arr_in[j1pm][j1pm]+r[ju+N]*(-2j)* coef1\n",
    "            #print(j1pm,j1pm,\".\",ju+N,\"|-\",ju,a0,\"-\",a0,ju,ju,a1,a1,ju)\n",
    "            \n",
    "            arr_in[j1pm][ab_ind]=arr_in[j1pm][ab_ind]+(-2j)*np.conjugate(r[a1])*coef1\n",
    "            #print(j1pm,ab_ind,\".conj\",a1,\"|-\",ju,a0,\"-\",a0,ju,ju,a1,a1,ju)\n",
    "            \n",
    "            arr_in[j1pm][a0]=arr_in[j1pm][a0]+  (-2j)*(np.conjugate(r[init_in+index_1])   - 2*np.conjugate(r[a1])*r[ju+N] ) *coef1\n",
    "            #print(j1pm,a0,\".conj\",init_in+index_1,\"-\",\"conj\",a1,ju+N,\"|-\",ju,a0,\"-\",a0,ju,ju,a1,a1,ju)\n",
    "            \n",
    "            \n",
    "        count=count+1        \n",
    "        \n",
    "\n",
    "        \n",
    "        \n",
    "        \n",
    "        \n",
    "        \n",
    "        for j in range(int(N**2+N),2*N**2):\n",
    "        \n",
    "            a=new_indexer(N)[j-restr]\n",
    "            b=del_list(N)[j-restr]\n",
    "        \n",
    "        \n",
    "\n",
    "            \n",
    "            \n",
    "            for ru in np.array(list(set(a_list) - set([a,b]))):\n",
    "                \n",
    "                \n",
    "                \n",
    "                inzp=index_zp(ru,b,arr)+N**2+N\n",
    "                inzz=indexzz(a,ru,triang_ind) \n",
    "                coefb=(A[ru][b]+A[b][ru])\n",
    "                \n",
    "                \n",
    "\n",
    "                arr_in[j][j]=arr_in[j][j]+r[ru+N]*2j* coefb\n",
    "\n",
    "\n",
    "                arr_in[j][inzp]=arr_in[j][inzp]+ 2j* coefb *  r[a+N] \n",
    "                \n",
    "\n",
    "                \n",
    "                arr_in[j][inzz]=arr_in[j][inzz]+ 2j* coefb*  r[b] \n",
    "                \n",
    "                \n",
    "                arr_in[j][ru+N]=arr_in[j][ru+N]+ 2j* coefb*(-2* r[a+N]* r[b])\n",
    "            \n",
    "    \n",
    "    \n",
    "    \n",
    "    \n",
    "    s1=  arr_in @ r       \n",
    "    drdt=drdt+ s1   \n",
    "    \n",
    "    return drdt"
   ]
  },
  {
   "cell_type": "code",
   "execution_count": 110,
   "metadata": {},
   "outputs": [
    {
     "data": {
      "text/plain": [
       "8e-08"
      ]
     },
     "execution_count": 110,
     "metadata": {},
     "output_type": "execute_result"
    }
   ],
   "source": [
    "8e-8"
   ]
  },
  {
   "cell_type": "code",
   "execution_count": 111,
   "metadata": {},
   "outputs": [
    {
     "name": "stdout",
     "output_type": "stream",
     "text": [
      "0.29599690437316895  3  0.014095090684436616\n"
     ]
    }
   ],
   "source": [
    "import time \n",
    "\n",
    "t0=time.time()\n",
    "extern, i = computeLM(N)\n",
    "\n",
    "t = np.linspace(0, 8, 100)\n",
    "\n",
    "r = odeintz(vectors2, r0, t, args=(extern, i))\n",
    "\n",
    "\n",
    "t1=time.time()\n",
    "\n",
    "print(t1-t0,\" \"+str(N),\" \"+str((t1-t0)/(N*(5*N-1)/2)) )"
   ]
  },
  {
   "cell_type": "code",
   "execution_count": null,
   "metadata": {},
   "outputs": [],
   "source": []
  },
  {
   "cell_type": "code",
   "execution_count": 112,
   "metadata": {},
   "outputs": [
    {
     "data": {
      "image/png": "[encoded data removed]",
      "text/plain": [
       "<Figure size 576x432 with 1 Axes>"
      ]
     },
     "metadata": {
      "needs_background": "light"
     },
     "output_type": "display_data"
    }
   ],
   "source": [
    "for j in range(int(N*(5*N-1)/2)):\n",
    "    plt.plot(t,np.real(r[:,j]))\n",
    "    #plt.plot(t,np.imag(r[:,j]))\n",
    "\n"
   ]
  },
  {
   "cell_type": "code",
   "execution_count": 113,
   "metadata": {},
   "outputs": [
    {
     "data": {
      "image/png": "[encoded data removed]",
      "text/plain": [
       "<Figure size 576x432 with 1 Axes>"
      ]
     },
     "metadata": {
      "needs_background": "light"
     },
     "output_type": "display_data"
    }
   ],
   "source": [
    "for j in range(int(N*(5*N-1)/2)):\n",
    "    #plt.plot(t,np.real(r[:,j]))\n",
    "    plt.plot(t,np.imag(r[:,j]))\n"
   ]
  },
  {
   "cell_type": "code",
   "execution_count": null,
   "metadata": {},
   "outputs": [],
   "source": []
  },
  {
   "cell_type": "code",
   "execution_count": null,
   "metadata": {},
   "outputs": [],
   "source": []
  },
  {
   "cell_type": "code",
   "execution_count": null,
   "metadata": {},
   "outputs": [],
   "source": [
    "0.032999277114868164  2  0.0036665863460964626\n",
    "0.29303669929504395  3  0.013954128537859236\n",
    "1.8853113651275635  4  0.04961345697704114\n",
    "13.855892181396484  5  0.23093153635660807\n",
    "60.68186354637146  6  0.6974926844410513\n",
    "195.63781547546387  7  1.644015256096335\n",
    "564.446964263916  8  3.6182497709225387\n",
    "1448.946284532547  9  7.317910527942156\n",
    "3369.9241189956665  10  13.754792322431292\n",
    "15171.463189125061  11  51.08236764015172\n"
   ]
  },
  {
   "cell_type": "code",
   "execution_count": null,
   "metadata": {},
   "outputs": [],
   "source": [
    "spins=[2,3,4,5,6,7,8,9]\n",
    "\n",
    "\n",
    "\n",
    "\n",
    "\n",
    "import pylab\n",
    "import matplotlib.pyplot as plt\n",
    "a = [pow(10, i) for i in range(10)]\n",
    "fig = plt.figure()\n",
    "ax = fig.add_subplot(2,1,1)\n",
    "\n",
    "line, = ax.plot(a, color='blue', lw=2)\n",
    "\n",
    "ax.set_yscale('log')\n",
    "\n",
    "pylab.show()"
   ]
  },
  {
   "cell_type": "code",
   "execution_count": null,
   "metadata": {},
   "outputs": [],
   "source": [
    "spins=np.linspace(2,11,10)\n",
    "totalt=[0.0329993,0.2930367,1.88531,13.855892,60.6818635,195.637815,564.446964,1448.946284,3369.92411,15171.46318912]\n",
    "pereq_t=[0.003666,0.013954,0.049613,0.230932,0.697493,1.644015,3.618250,7.317910,13.754792,51.08236764]\n",
    "\n",
    "\n",
    "plt.scatter(spins,totalt)\n",
    "plt.title('Total Computation Time')\n",
    "plt.xlabel('Number of Spins (N)')\n",
    "plt.ylabel('Time (s)')\n",
    "\n",
    "plt.yscale(\"log\")\n",
    "\n",
    "#plt.plot(spins,np.log(totalt))"
   ]
  },
  {
   "cell_type": "code",
   "execution_count": null,
   "metadata": {},
   "outputs": [],
   "source": []
  },
  {
   "cell_type": "code",
   "execution_count": null,
   "metadata": {},
   "outputs": [],
   "source": [
    "plt.scatter(spins,np.array(pereq_t)/2)\n",
    "plt.title('Computation Time per Differential Equation')\n",
    "plt.xlabel('Number of Spins (N)')\n",
    "plt.ylabel('Time (s)')\n",
    "\n",
    "plt.yscale(\"log\")"
   ]
  },
  {
   "cell_type": "code",
   "execution_count": null,
   "metadata": {},
   "outputs": [],
   "source": []
  },
  {
   "cell_type": "code",
   "execution_count": null,
   "metadata": {},
   "outputs": [],
   "source": [
    "fig, (ax1, ax2) = plt.subplots(2,1)\n",
    "fig.suptitle('Time complexity analysis')\n",
    "\n",
    "ax1.plot(spins,totalt, 'o-')\n",
    "ax1.set_ylabel('Total time (s)')\n",
    "ax1.set_yscale('log')\n",
    "\n",
    "ax2.plot( spins,np.array(pereq_t)/2, 'o-')\n",
    "ax2.set_xlabel('Number of Spins (N)')\n",
    "ax2.set_ylabel('Time per diff. eq. (s)')\n",
    "ax2.set_yscale('log')\n",
    "\n",
    "plt.show()"
   ]
  },
  {
   "cell_type": "code",
   "execution_count": null,
   "metadata": {},
   "outputs": [],
   "source": []
  },
  {
   "cell_type": "code",
   "execution_count": null,
   "metadata": {},
   "outputs": [],
   "source": []
  },
  {
   "cell_type": "code",
   "execution_count": null,
   "metadata": {},
   "outputs": [],
   "source": []
  },
  {
   "cell_type": "code",
   "execution_count": null,
   "metadata": {},
   "outputs": [],
   "source": []
  },
  {
   "cell_type": "code",
   "execution_count": null,
   "metadata": {},
   "outputs": [],
   "source": []
  },
  {
   "cell_type": "code",
   "execution_count": null,
   "metadata": {},
   "outputs": [],
   "source": []
  },
  {
   "cell_type": "code",
   "execution_count": null,
   "metadata": {},
   "outputs": [],
   "source": [
    "spins"
   ]
  },
  {
   "cell_type": "code",
   "execution_count": null,
   "metadata": {},
   "outputs": [],
   "source": [
    "def tin(a):\n",
    "            if a==\"xx\":\n",
    "                return 0\n",
    "            elif a==\"xy\":\n",
    "                return 1\n",
    "            elif a==\"xz\" :\n",
    "                return 2\n",
    "            elif a==\"yx\":\n",
    "                return 3\n",
    "            elif a==\"yy\":\n",
    "                return 4\n",
    "            elif a==\"yz\":\n",
    "                return 5\n",
    "            elif a==\"zx\":\n",
    "                return 6\n",
    "            elif a==\"zy\":\n",
    "                return 7\n",
    "            elif a==\"zz\":\n",
    "                return 8"
   ]
  },
  {
   "cell_type": "code",
   "execution_count": null,
   "metadata": {},
   "outputs": [],
   "source": []
  },
  {
   "cell_type": "code",
   "execution_count": null,
   "metadata": {},
   "outputs": [],
   "source": []
  },
  {
   "cell_type": "code",
   "execution_count": null,
   "metadata": {},
   "outputs": [],
   "source": []
  },
  {
   "cell_type": "code",
   "execution_count": null,
   "metadata": {},
   "outputs": [],
   "source": []
  },
  {
   "cell_type": "code",
   "execution_count": null,
   "metadata": {},
   "outputs": [],
   "source": []
  },
  {
   "cell_type": "code",
   "execution_count": null,
   "metadata": {},
   "outputs": [],
   "source": []
  },
  {
   "cell_type": "code",
   "execution_count": null,
   "metadata": {},
   "outputs": [],
   "source": []
  },
  {
   "cell_type": "code",
   "execution_count": null,
   "metadata": {},
   "outputs": [],
   "source": []
  },
  {
   "cell_type": "code",
   "execution_count": null,
   "metadata": {},
   "outputs": [],
   "source": [
    "def vectors2(t,N):       \n",
    "    \n",
    "    \n",
    "    arr_in = np.zeros((int(N*(5*N-1)/2),int(N*(5*N-1)/2)))\n",
    "    a_list = np.array(list(range( N)))\n",
    "    triang_ind=up_triang(N)-N\n",
    "    arr=del_list(N)\n",
    "    \n",
    "    \n",
    "    count=0\n",
    "    \n",
    "    init_in=N**2+N\n",
    "    \n",
    "    init1_in=2*(N**2)\n",
    "    \n",
    "    \n",
    "    \n",
    "    \n",
    "        \n",
    "    goun=0\n",
    "    \n",
    "    print(\"here\")\n",
    "        \n",
    "    \n",
    "    \n",
    "    \n",
    "    restr=N**2+N\n",
    "\n",
    "    \n",
    "    \n",
    "    \n",
    "    \n",
    "    \n",
    "        \n",
    "        \n",
    "        \n",
    "    for j in range(int(N**2+N),2*N**2):  \n",
    "        \n",
    "        a=new_indexer(N)[j-restr]\n",
    "        b=del_list(N)[j-restr]\n",
    "        princ= j   \n",
    "            \n",
    "            \n",
    "        for ru in np.array(list(set(a_list) - set([a,b]))):\n",
    "                \n",
    "                \n",
    "                \n",
    "            inzp=index_zp(ru,b,arr)+N**2+N\n",
    "            inzz=indexzz(a,ru,triang_ind)    \n",
    "                \n",
    "            #arr_in[princ][princ]=arr_in[princ][princ]+r[ru+N]*2j* (A[ru][b]+A[b][ru])\n",
    "                \n",
    "            print(princ,princ,ru+N,\"|\",ru,b,b,ru)\n",
    "            \n",
    "\n",
    "            \n",
    "            #arr_in[princ][inzp]=arr_in[princ][inzp]+ 2j* (A[ru][b]+A[b][ru]) * (  r[a+N] -2* r[b]*r[ru+N] )\n",
    "            \n",
    "            print(princ,inzp,a+N,\"|\",ru,b,b,ru)\n",
    "            \n",
    "            print(princ,inzz,b,\"|\",ru,b,b,ru)\n",
    "            \n",
    "            print(princ,ru+N,\"|-2\",a+N,b,\"coef\",ru,b,b,ru)\n",
    "            \n",
    "            \n",
    "            \n",
    "            \n",
    "            #arr_in[princ][inzz]arr_in[princ][inzz]+ 2j* (A[ru][b]+A[b][ru])  *r[b]\n",
    "            \n",
    "            #print(princ,inzz,b,\"|\",ru,b,b,ru)\n",
    "            \n",
    "            \n",
    "            \n",
    "                \n",
    "            #arr_in[j][z0ind]=arr_in[j][z0ind]+ 2j* (A[ju][a1]+A[a1][ju]) * (  r[zpindex0] -2* r[a1]*r[ju] )\n",
    "                \n",
    "            #print(index_ab+N**2+N,z0ind,zpindex0,\".andMinus2\",a1,ru,\"|\",ru,a1,a1,ru)\n",
    "            \n",
    "                \n",
    "            #arr_in[j][a1]=arr_in[j][a1]+ 2j* (A[ju][a1]+A[a1][ju]) * (  r[indexzz(a0,ju,triang_ind)])\n",
    "                \n",
    "            #print(index_ab+N**2+N,a1,indexzz(a0,ru,triang_ind),ru,a1,a1,ru)\n",
    "                \n",
    "                \n",
    "        \n",
    "        goun=goun+1\n",
    "        \n",
    "        \n",
    "\n",
    "    \n",
    "    return \"nothing\""
   ]
  },
  {
   "cell_type": "code",
   "execution_count": null,
   "metadata": {},
   "outputs": [],
   "source": [
    "vectors2(8,8)"
   ]
  },
  {
   "cell_type": "code",
   "execution_count": null,
   "metadata": {},
   "outputs": [],
   "source": [
    "N"
   ]
  },
  {
   "cell_type": "code",
   "execution_count": null,
   "metadata": {},
   "outputs": [],
   "source": [
    "index_ab=index_zp( 1 ,0,arr)\n",
    "\n",
    "index_ab"
   ]
  },
  {
   "cell_type": "code",
   "execution_count": null,
   "metadata": {},
   "outputs": [],
   "source": [
    "a_list = np.array(list(range( N)))\n",
    "triang_ind=up_triang(N)-N\n",
    "arr=del_list(N)"
   ]
  },
  {
   "cell_type": "code",
   "execution_count": null,
   "metadata": {},
   "outputs": [],
   "source": [
    "a_list"
   ]
  },
  {
   "cell_type": "code",
   "execution_count": null,
   "metadata": {},
   "outputs": [],
   "source": [
    "triang_ind"
   ]
  },
  {
   "cell_type": "code",
   "execution_count": null,
   "metadata": {},
   "outputs": [],
   "source": [
    "arr"
   ]
  },
  {
   "cell_type": "code",
   "execution_count": null,
   "metadata": {},
   "outputs": [],
   "source": []
  },
  {
   "cell_type": "code",
   "execution_count": null,
   "metadata": {},
   "outputs": [],
   "source": []
  },
  {
   "cell_type": "code",
   "execution_count": null,
   "metadata": {},
   "outputs": [],
   "source": []
  },
  {
   "cell_type": "code",
   "execution_count": null,
   "metadata": {},
   "outputs": [],
   "source": [
    "index_zp(a,b,arr)"
   ]
  },
  {
   "cell_type": "code",
   "execution_count": null,
   "metadata": {},
   "outputs": [],
   "source": [
    "list(set(a_list) - set(triang_ind[0]))"
   ]
  },
  {
   "cell_type": "code",
   "execution_count": null,
   "metadata": {},
   "outputs": [],
   "source": [
    "triang_ind"
   ]
  },
  {
   "cell_type": "code",
   "execution_count": null,
   "metadata": {},
   "outputs": [],
   "source": [
    "index_0per=index_zp(2,0,arr)\n",
    "index_1per=index_zp( 1,2,arr)"
   ]
  },
  {
   "cell_type": "code",
   "execution_count": null,
   "metadata": {},
   "outputs": [],
   "source": [
    "index_0per"
   ]
  },
  {
   "cell_type": "code",
   "execution_count": null,
   "metadata": {},
   "outputs": [],
   "source": [
    "count=0\n",
    "np.array(list(set(a_list) - set(triang_ind[count])))"
   ]
  },
  {
   "cell_type": "code",
   "execution_count": null,
   "metadata": {},
   "outputs": [],
   "source": [
    "index_zp(2,0,arr)"
   ]
  },
  {
   "cell_type": "code",
   "execution_count": null,
   "metadata": {},
   "outputs": [],
   "source": [
    "triang_ind"
   ]
  },
  {
   "cell_type": "code",
   "execution_count": null,
   "metadata": {},
   "outputs": [],
   "source": [
    "N=3\n",
    "arr=del_list(N)\n",
    "a=1\n",
    "b=0\n",
    "\n",
    "index_zp(a,b,arr)"
   ]
  },
  {
   "cell_type": "code",
   "execution_count": null,
   "metadata": {},
   "outputs": [],
   "source": [
    "arr=del_list(N)\n",
    "def index_zp(a,b,arr):\n",
    "    return list(arr[a*(N-1):]).index(b)+a*(N-1)"
   ]
  },
  {
   "cell_type": "code",
   "execution_count": null,
   "metadata": {},
   "outputs": [],
   "source": [
    "a=1\n",
    "b=0\n",
    "\n",
    "index_zp(a,b,arr)"
   ]
  },
  {
   "cell_type": "code",
   "execution_count": null,
   "metadata": {},
   "outputs": [],
   "source": [
    "indexzz(0,1,triang_ind)"
   ]
  },
  {
   "cell_type": "code",
   "execution_count": null,
   "metadata": {},
   "outputs": [],
   "source": [
    "index_zp(1,0,arr)"
   ]
  },
  {
   "cell_type": "code",
   "execution_count": null,
   "metadata": {},
   "outputs": [],
   "source": []
  },
  {
   "cell_type": "code",
   "execution_count": null,
   "metadata": {},
   "outputs": [],
   "source": []
  },
  {
   "cell_type": "code",
   "execution_count": null,
   "metadata": {},
   "outputs": [],
   "source": []
  },
  {
   "cell_type": "code",
   "execution_count": null,
   "metadata": {},
   "outputs": [],
   "source": [
    "goun=0\n",
    "restr=N**2+N\n",
    "for j in range(int(N**2-N),2*(N**2-N)):\n",
    "    a=new_indexer(N)[j+2*N-restr]\n",
    "    b=del_list(N)[j+2*N-restr]         \n",
    "            \n",
    "    a0=triang_ind[goun][0]\n",
    "    a1=triang_ind[goun][1]\n",
    "    index_ab=index_zp( a0 ,a1,arr)\n",
    "    abz_ind=index_ab+init1_in\n",
    "            \n",
    "    z0ind=a0+N\n",
    "            \n",
    "            \n",
    "            \n",
    "    for ru in np.array(list(set(a_list) - set(triang_ind[goun]))):\n",
    "                \n",
    "                \n",
    "        index_0=index_zp( ru ,a0,arr)\n",
    "        index_1=index_zp( ru ,a1,arr)\n",
    "            \n",
    "        index_0per=index_zp( a0,ru,arr)\n",
    "        index_1per=index_zp( a1 ,ru,arr)\n",
    "                \n",
    "        zpindex0=init_in+index_0\n",
    "                \n",
    "                \n",
    "                \n",
    "                \n",
    "        #arr_in[j][j]=arr_in[j][j]+r[ju]*2j* (A[ju][a1]+A[a1][ju])\n",
    "                \n",
    "        print(index_ab+N**2+N,index_ab+N**2+N,ru+N,\"|\",ru,a1,a1,ru)\n",
    "                \n",
    "        #arr_in[j][z0ind]=arr_in[j][z0ind]+ 2j* (A[ju][a1]+A[a1][ju]) * (  r[zpindex0] -2* r[a1]*r[ju] )\n",
    "                \n",
    "        print(index_ab+N**2+N,z0ind,zpindex0,\".andMinus2\",a1,ru,\"|\",ru,a1,a1,ru)\n",
    "            \n",
    "                \n",
    "        #arr_in[j][a1]=arr_in[j][a1]+ 2j* (A[ju][a1]+A[a1][ju]) * (  r[indexzz(a0,ju,triang_ind)])\n",
    "                \n",
    "        print(index_ab+N**2+N,a1,indexzz(a0,ru,triang_ind),ru,a1,a1,ru)"
   ]
  },
  {
   "cell_type": "code",
   "execution_count": null,
   "metadata": {},
   "outputs": [],
   "source": []
  },
  {
   "cell_type": "code",
   "execution_count": null,
   "metadata": {},
   "outputs": [],
   "source": [
    "Indexer=del_list(N)\n",
    "new_index=new_indexer(N)"
   ]
  },
  {
   "cell_type": "code",
   "execution_count": null,
   "metadata": {},
   "outputs": [],
   "source": []
  },
  {
   "cell_type": "code",
   "execution_count": null,
   "metadata": {},
   "outputs": [],
   "source": [
    "del_list(N)\n",
    "new_indexer(N)"
   ]
  },
  {
   "cell_type": "code",
   "execution_count": null,
   "metadata": {},
   "outputs": [],
   "source": [
    "restr=N**2+N\n",
    "\n",
    "a=new_indexer(N)[j-restr]"
   ]
  },
  {
   "cell_type": "code",
   "execution_count": null,
   "metadata": {},
   "outputs": [],
   "source": [
    "restr=N**2+N\n",
    "for j in range(int(N**2-N),2*(N**2-N)):\n",
    "    a=new_indexer(N)[j+2*N-restr]\n",
    "    b=del_list(N)[j+2*N-restr]\n",
    "    print(a,b)"
   ]
  },
  {
   "cell_type": "code",
   "execution_count": null,
   "metadata": {},
   "outputs": [],
   "source": [
    "goun=0\n",
    "\n",
    "set(triang_ind[goun])"
   ]
  },
  {
   "cell_type": "code",
   "execution_count": null,
   "metadata": {},
   "outputs": [],
   "source": []
  },
  {
   "cell_type": "code",
   "execution_count": null,
   "metadata": {},
   "outputs": [],
   "source": []
  },
  {
   "cell_type": "code",
   "execution_count": null,
   "metadata": {},
   "outputs": [],
   "source": [
    "restr=N**2+N\n",
    "    \n",
    "for j in range(int(N**2-N),2*(N**2-N)):  \n",
    "        \n",
    "    a=new_indexer(N)[j+2*N-restr]\n",
    "    b=del_list(N)[j+2*N-restr]"
   ]
  },
  {
   "cell_type": "code",
   "execution_count": null,
   "metadata": {},
   "outputs": [],
   "source": []
  },
  {
   "cell_type": "code",
   "execution_count": null,
   "metadata": {},
   "outputs": [],
   "source": [
    "j=2*(N**2-N)-1\n",
    "\n",
    "restr=N**2+N\n",
    "\n",
    "a=new_indexer(N)[j+2*N-restr]\n",
    "b=del_list(N)[j+2*N-restr]\n",
    "\n",
    "\n",
    "print(a,b)"
   ]
  },
  {
   "cell_type": "code",
   "execution_count": null,
   "metadata": {},
   "outputs": [],
   "source": [
    "new_indexer(N)"
   ]
  },
  {
   "cell_type": "code",
   "execution_count": null,
   "metadata": {},
   "outputs": [],
   "source": [
    "set([a,b])"
   ]
  },
  {
   "cell_type": "code",
   "execution_count": null,
   "metadata": {},
   "outputs": [],
   "source": [
    "arr=del_list(N)\n",
    "def index_zp(a,b,arr):\n",
    "    return list(arr[a*(N-1):]).index(b)+a*(N-1)"
   ]
  },
  {
   "cell_type": "code",
   "execution_count": null,
   "metadata": {},
   "outputs": [],
   "source": []
  },
  {
   "cell_type": "code",
   "execution_count": null,
   "metadata": {},
   "outputs": [],
   "source": [
    "index_zp(7,1,arr)+"
   ]
  },
  {
   "cell_type": "code",
   "execution_count": null,
   "metadata": {},
   "outputs": [],
   "source": []
  }
 ],
 "metadata": {
  "kernelspec": {
   "display_name": "Python 3",
   "language": "python",
   "name": "python3"
  },
  "language_info": {
   "codemirror_mode": {
    "name": "ipython",
    "version": 3
   },
   "file_extension": ".py",
   "mimetype": "text/x-python",
   "name": "python",
   "nbconvert_exporter": "python",
   "pygments_lexer": "ipython3",
   "version": "3.8.3"
  }
 },
 "nbformat": 4,
 "nbformat_minor": 4
}
