{
 "cells": [
  {
   "cell_type": "code",
   "execution_count": 22,
   "metadata": {},
   "outputs": [
    {
     "data": {
      "image/png": "[encoded data removed]",
      "text/plain": [
       "<Figure size 432x288 with 1 Axes>"
      ]
     },
     "metadata": {
      "needs_background": "light"
     },
     "output_type": "display_data"
    },
    {
     "name": "stdout",
     "output_type": "stream",
     "text": [
      "2.7958760261535645\n"
     ]
    }
   ],
   "source": [
    "import qutip\n",
    "from qutip.piqs import *\n",
    "\n",
    "import numpy as np\n",
    "from qutip import sigmax, sigmay, sigmaz,tensor, qeye, Qobj\n",
    "from qutip import basis\n",
    "from qutip import sesolve\n",
    "\n",
    "import matplotlib.pyplot as plt\n",
    "\n",
    "\n",
    "\n",
    "n=5\n",
    "\n",
    "def arraygen(n,A):\n",
    "    Arr=[]\n",
    "    for j in range(n):\n",
    "        Arr.append(A)\n",
    "    return Arr\n",
    "    \n",
    "\n",
    "\n",
    "def S_k(k,n=n):\n",
    "    \n",
    "    h=0*qeye(2**n)\n",
    "    if k==0:\n",
    "            \n",
    "        for i in range(n):\n",
    "            Arr=arraygen(n,qeye(2))\n",
    "            Arr[i]=sigmax()\n",
    "            h=np.add(h,tensor(Arr))\n",
    "    if k==1:\n",
    "        for i in range(n):\n",
    "            Arr=arraygen(n,qeye(2))\n",
    "            Arr[i]=sigmay()\n",
    "            h=np.add(h,tensor(Arr))\n",
    "    if k==2:\n",
    "        for i in range(n):\n",
    "            Arr=arraygen(n,qeye(2))\n",
    "            Arr[i]=sigmaz()\n",
    "            h=np.add(h,tensor(Arr))\n",
    "        \n",
    "    \n",
    "    return h/2\n",
    "    \n",
    "\n",
    "    \n",
    "import matplotlib.pyplot as plt\n",
    "import time\n",
    "\n",
    "t0=time.time()\n",
    "\n",
    "\n",
    "J=1\n",
    "Omega=0\n",
    "n=10\n",
    "\n",
    "psi_init=np.cos(np.pi/4)*(basis(2,0)+basis(2,1))\n",
    "psi0=Qobj(tensor(arraygen(n,psi_init)))\n",
    "\n",
    "H=Qobj( (2*(J/n)*S_k(2,n)*S_k(2,n)+Omega*S_k(0,n))  )\n",
    "\n",
    "times = np.linspace(0.0, 4, 1000)\n",
    "\n",
    "\n",
    "def result():\n",
    "    return sesolve(H, psi0, times, [Qobj(S_k(0,n)),Qobj(S_k(1,n)),Qobj(S_k(2,n))])\n",
    "\n",
    "fig, ax = plt.subplots()\n",
    "ax.plot(times, result().expect[0])\n",
    "ax.plot(times, result().expect[1])\n",
    "ax.plot(times, result().expect[2])\n",
    "ax.set_xlabel('Time')\n",
    "ax.set_ylabel('Expectation values')\n",
    "ax.legend((\"Sigma-X\", \"Sigma-Y\",\"Sigma-Z\",))\n",
    "plt.show()\n",
    "\n",
    "\n",
    "t1=time.time()\n",
    "\n",
    "\n",
    "print(t1-t0)"
   ]
  },
  {
   "cell_type": "code",
   "execution_count": null,
   "metadata": {},
   "outputs": [],
   "source": []
  },
  {
   "cell_type": "code",
   "execution_count": null,
   "metadata": {},
   "outputs": [],
   "source": []
  },
  {
   "cell_type": "code",
   "execution_count": null,
   "metadata": {},
   "outputs": [],
   "source": []
  },
  {
   "cell_type": "code",
   "execution_count": null,
   "metadata": {},
   "outputs": [],
   "source": []
  },
  {
   "cell_type": "code",
   "execution_count": null,
   "metadata": {},
   "outputs": [],
   "source": []
  },
  {
   "cell_type": "code",
   "execution_count": null,
   "metadata": {},
   "outputs": [],
   "source": []
  },
  {
   "cell_type": "code",
   "execution_count": null,
   "metadata": {},
   "outputs": [],
   "source": []
  }
 ],
 "metadata": {
  "kernelspec": {
   "display_name": "Python 3",
   "language": "python",
   "name": "python3"
  },
  "language_info": {
   "codemirror_mode": {
    "name": "ipython",
    "version": 3
   },
   "file_extension": ".py",
   "mimetype": "text/x-python",
   "name": "python",
   "nbconvert_exporter": "python",
   "pygments_lexer": "ipython3",
   "version": "3.8.3"
  }
 },
 "nbformat": 4,
 "nbformat_minor": 4
}
