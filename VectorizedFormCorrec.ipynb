{
 "cells": [
  {
   "cell_type": "code",
   "execution_count": 226,
   "metadata": {},
   "outputs": [],
   "source": [
    "import time\n",
    "import numpy as np\n",
    "from scipy.integrate import odeint\n",
    "\n",
    "\n",
    "def odeintz(func, z0, t, **kwargs):\n",
    "    \"\"\"An odeint-like function for complex valued differential equations.\"\"\"\n",
    "\n",
    "    # Disallow Jacobian-related arguments.\n",
    "    _unsupported_odeint_args = ['Dfun', 'col_deriv', 'ml', 'mu']\n",
    "    bad_args = [arg for arg in kwargs if arg in _unsupported_odeint_args]\n",
    "    if len(bad_args) > 0:\n",
    "        raise ValueError(\"The odeint argument %r is not supported by \"\n",
    "                         \"odeintz.\" % (bad_args[0],))\n",
    "\n",
    "    # Make sure z0 is a numpy array of type np.complex128.\n",
    "    z0 = np.array(z0, dtype=np.complex128, ndmin=1)\n",
    "\n",
    "    def realfunc(x, t, *args):\n",
    "        z = x.view(np.complex128)\n",
    "        dzdt = func(z, t, *args)\n",
    "        # func might return a python list, so convert its return\n",
    "        # value to an array with type np.complex128, and then return\n",
    "        # a np.float64 view of that array.\n",
    "        return np.asarray(dzdt, dtype=np.complex128).view(np.float64)\n",
    "\n",
    "    result = odeint(realfunc, z0.view(np.float64), t, **kwargs)\n",
    "\n",
    "    if kwargs.get('full_output', False):\n",
    "        z = result[0].view(np.complex128)\n",
    "        infodict = result[1]\n",
    "        return z, infodict\n",
    "    else:\n",
    "        z = result.view(np.complex128)\n",
    "        return z"
   ]
  },
  {
   "cell_type": "code",
   "execution_count": 227,
   "metadata": {},
   "outputs": [],
   "source": [
    "import matplotlib.pyplot as plt\n",
    "\n",
    "\n",
    "import matplotlib\n",
    "matplotlib.rcParams['text.usetex'] = False\n",
    "matplotlib.rcParams['mathtext.fontset'] = 'stix'\n",
    "matplotlib.rcParams['font.family'] = 'STIXGeneral'\n",
    "matplotlib.rcParams['font.size'] = 20\n",
    "matplotlib.rcParams['figure.figsize'] = (8.0, 6.0)"
   ]
  },
  {
   "cell_type": "code",
   "execution_count": 228,
   "metadata": {},
   "outputs": [],
   "source": [
    "#r = odeint(vectors2, r0, t, args=(I, J))\n",
    "#r = ode(f, jac).set_integrator('zvode', method='bdf').set_initial_value(r0, 0)"
   ]
  },
  {
   "cell_type": "code",
   "execution_count": 229,
   "metadata": {},
   "outputs": [],
   "source": [
    "#r.set_initial_value(r0, 0)#.set_f_params(2.0).set_jac_params(2.0)"
   ]
  },
  {
   "cell_type": "code",
   "execution_count": 230,
   "metadata": {},
   "outputs": [],
   "source": [
    "import matplotlib.pyplot as plt"
   ]
  },
  {
   "cell_type": "code",
   "execution_count": 231,
   "metadata": {},
   "outputs": [],
   "source": [
    "Gamma_ud=0.4\n",
    "Gamma_du=0.2\n",
    "Gamma_el=1.6\n",
    "\n",
    "\n",
    "gammaplus=Gamma_du/2\n",
    "gammaminus=Gamma_ud/2\n",
    "gammaz=Gamma_el/8\n",
    "\n",
    "\n",
    "Dissipation_factor=1\n",
    "\n",
    "\n",
    "Gamma=np.array(Dissipation_factor*[gammaplus,gammaminus,gammaz])  #[gamma+,gamma-,gammaz]\n",
    "\n",
    "rho_init0=np.array([[1/2,1/2],[1/2,1/2]])    #density matrix |+><+|\n",
    "\n",
    "\n",
    "def trace(A):\n",
    "    return np.trace(A)\n",
    "\n",
    "def matmu(A,B):\n",
    "    return np.matmul(A,B)\n",
    "\n",
    "#rho_init1=np.array([[1,0],[0,0]])    #By default\n",
    "#rho_init2=np.array([[1,0],[0,0]])    #By default\n",
    "\n",
    "\n",
    "\n",
    "\n",
    "N=10\n",
    "\n",
    "\n",
    "\n",
    "\n",
    "sigma_p= np.array([[0,1],[0,0]])\n",
    "sigma_m= np.array([[0,0],[1,0]])\n",
    "sigma_z= np.array([[1,0],[0,-1]])\n",
    "\n",
    "\n",
    "##Initial values one operator\n",
    "\n",
    "sp_init0=trace(matmu(rho_init0,sigma_p))\n",
    "sz_init0=trace(matmu(rho_init0,sigma_z))\n",
    "sm_init0=trace(matmu(rho_init0,sigma_m))\n",
    "\n",
    "Genit=[sp_init0,sz_init0,sm_init0]\n",
    "\n",
    "\n",
    "r0=[]\n",
    "fact=int(N*(N-1)/2)\n",
    "\n",
    "r0=[Genit[0]]*N+[Genit[1]]*N+[Genit[0]**2]*fact+[Genit[0]*Genit[2]]*fact+[Genit[0]*Genit[1]]*2*fact+[Genit[1]**2]*fact\n",
    "\n",
    "#Random interaction matrix\n",
    "\n",
    "A=np.random.rand(N,N)\n",
    "A= np.triu(A)\n",
    "np.fill_diagonal(A, 0)"
   ]
  },
  {
   "cell_type": "code",
   "execution_count": 232,
   "metadata": {},
   "outputs": [],
   "source": [
    "#Homogeneous interaction matrix\n",
    "\n",
    "#Jef=3\n",
    "\n",
    "#A=np.ones((N,N))\n",
    "#A= np.triu(A)\n",
    "#np.fill_diagonal(A, 0)\n",
    "#A=Jef*A/N"
   ]
  },
  {
   "cell_type": "code",
   "execution_count": null,
   "metadata": {},
   "outputs": [],
   "source": []
  },
  {
   "cell_type": "code",
   "execution_count": 233,
   "metadata": {},
   "outputs": [],
   "source": [
    "def del_list(N):\n",
    "    \n",
    "    s=[]\n",
    "    count=0\n",
    "    for j in range (0,N):\n",
    "        s.append((count)%N)\n",
    "        count=count+1\n",
    "    \n",
    "    s_fin=s*(N) \n",
    "\n",
    "    count=0\n",
    "    while count<len(s_fin):\n",
    "        del(s_fin[count])\n",
    "        count=count+N\n",
    "    \n",
    "    sfin=np.array(s_fin)\n",
    "    \n",
    "    return sfin\n",
    "\n",
    "def new_indexer(N):\n",
    "    s=[]\n",
    "    for j in range(N):\n",
    "        s=s+[j]*(N-1)\n",
    "    return np.array(s)\n",
    "\n",
    "def up_triang(N):\n",
    "    ar = np.array(np.zeros((N,N)))\n",
    "    indices = np.triu_indices_from(ar)\n",
    "    indexer=[]\n",
    "    for j in range(len(indices[0])):\n",
    "        if indices[0][j]!=indices[1][j]:\n",
    "            indexer.append([indices[0][j],indices[1][j]])\n",
    "    return np.array(indexer)+N    "
   ]
  },
  {
   "cell_type": "code",
   "execution_count": 234,
   "metadata": {},
   "outputs": [],
   "source": [
    "# If you want to get the index of the upper triangular matrix just do this up_triang(N)-N \n",
    "\n"
   ]
  },
  {
   "cell_type": "code",
   "execution_count": 235,
   "metadata": {},
   "outputs": [],
   "source": [
    "def index_p(Arr,ind):\n",
    "    return np.array([i for i, e in enumerate(Arr) if e == ind])+int(2*N+N*(N-1))   #return the indexes required for dpdt"
   ]
  },
  {
   "cell_type": "code",
   "execution_count": null,
   "metadata": {},
   "outputs": [],
   "source": []
  },
  {
   "cell_type": "code",
   "execution_count": 236,
   "metadata": {},
   "outputs": [],
   "source": [
    "def computeLM(N):\n",
    "    i = np.zeros((int(N*(5*N-1)/2),int(N*(5*N-1)/2)),dtype = 'complex_')\n",
    "    r0=[]\n",
    "    extern=np.zeros(int(N*(5*N-1)/2))\n",
    "    \n",
    "    \n",
    "    Indexer=del_list(N)\n",
    "    new_index=new_indexer(N)\n",
    "    \n",
    "    \n",
    "    for j in range (0,N):  #dpdt\n",
    "        i[j][j]=-(Gamma[0]+Gamma[1]+4*Gamma[2])\n",
    "        for w in index_p(del_list(N),j):\n",
    "            i[j][w]=2*1j*(A[j][new_index[w-int(2*N+N*(N-1))]]+A[new_index[w-int(2*N+N*(N-1))]][j])   #   \n",
    "        \n",
    "    for j in range (N,2*N): #dzdt\n",
    "        i[j][j]=-2*(Gamma[0]+Gamma[1])\n",
    "        extern[j]=2*(Gamma[0]-Gamma[1])\n",
    "\n",
    "    for j in range (2*N,int(2*N+N*(N-1)/2)):  #dpadpbdt\n",
    "        i[j][j]=-2*(Gamma[0]+Gamma[1]+4*Gamma[2])\n",
    "    for j in range (int(2*N+N*(N-1)/2),int(2*N+N*(N-1))):  #dpadmbdt\n",
    "        i[j][j]=-2*(Gamma[0]+Gamma[1]+4*Gamma[2])\n",
    "    \n",
    "    \n",
    "    count=0\n",
    "    for j in range (int(2*N+N*(N-1)),int(2*N+2*N*(N-1))):   #dzadpbdt\n",
    "        i[j][j]=-(3*(Gamma[0]+Gamma[1])+4*Gamma[2])\n",
    "        i[j][Indexer[count]]=2*(Gamma[0]-Gamma[1])+2*1j*(A[Indexer[count]][new_index[count]]+A[new_index[count]][Indexer[count]])   #I use Jef for now\n",
    "        count=count+1\n",
    "        \n",
    "    \n",
    "    count=0        \n",
    "    for j in range (int(2*N+2*N*(N-1)),int(2*N+5*N*(N-1)/2)):   #dzadzbdt\n",
    "        i[j][j]=-4*(Gamma[0]+Gamma[1]) \n",
    "        i[j][up_triang(N)[count][0]]=-2*(Gamma[1]-Gamma[0])\n",
    "        i[j][up_triang(N)[count][1]]=-2*(Gamma[1]-Gamma[0])\n",
    "        count=count+1\n",
    "        \n",
    "    return extern, i"
   ]
  },
  {
   "cell_type": "code",
   "execution_count": null,
   "metadata": {},
   "outputs": [],
   "source": []
  },
  {
   "cell_type": "code",
   "execution_count": 237,
   "metadata": {},
   "outputs": [
    {
     "data": {
      "image/png": "[encoded data removed]",
      "text/plain": [
       "<Figure size 576x432 with 2 Axes>"
      ]
     },
     "metadata": {
      "needs_background": "light"
     },
     "output_type": "display_data"
    }
   ],
   "source": [
    "import numpy as np\n",
    "import matplotlib.pyplot as plt\n",
    "\n",
    "plt.imshow(np.real(computeLM(N)[1]))\n",
    "plt.colorbar()\n",
    "plt.show()\n",
    "\n",
    "\n"
   ]
  },
  {
   "cell_type": "code",
   "execution_count": 238,
   "metadata": {},
   "outputs": [
    {
     "data": {
      "image/png": "[encoded data removed]",
      "text/plain": [
       "<Figure size 576x432 with 2 Axes>"
      ]
     },
     "metadata": {
      "needs_background": "light"
     },
     "output_type": "display_data"
    }
   ],
   "source": [
    "import numpy as np\n",
    "import matplotlib.pyplot as plt\n",
    "\n",
    "plt.imshow(np.imag(computeLM(N)[1]))\n",
    "plt.colorbar()\n",
    "plt.show()\n"
   ]
  },
  {
   "cell_type": "code",
   "execution_count": null,
   "metadata": {},
   "outputs": [],
   "source": []
  },
  {
   "cell_type": "code",
   "execution_count": null,
   "metadata": {},
   "outputs": [],
   "source": []
  },
  {
   "cell_type": "code",
   "execution_count": null,
   "metadata": {},
   "outputs": [],
   "source": []
  },
  {
   "cell_type": "code",
   "execution_count": 239,
   "metadata": {},
   "outputs": [],
   "source": [
    "arr=del_list(N)\n",
    "def index_zp(a,b,arr):\n",
    "    return list(arr[a*(N-1):]).index(b)+a*(N-1)"
   ]
  },
  {
   "cell_type": "code",
   "execution_count": 240,
   "metadata": {},
   "outputs": [],
   "source": [
    "def indexzz(a,b,arry):\n",
    "    if a<b:\n",
    "        return arry.tolist().index([a,b])+2*(N**2)\n",
    "    elif a>b:\n",
    "        return arry.tolist().index([b,a])+2*(N**2)"
   ]
  },
  {
   "cell_type": "code",
   "execution_count": 241,
   "metadata": {},
   "outputs": [],
   "source": [
    "def vectors2(r, t, extern, i):\n",
    "    s = i @ r  #Vector multiplication\n",
    "    drdt = s+extern\n",
    "    \n",
    "    \n",
    "    arr_in = np.zeros((int(N*(5*N-1)/2),int(N*(5*N-1)/2)),dtype = 'complex_')\n",
    "    a_list = np.array(list(range( N)))\n",
    "    triang_ind=up_triang(N)-N\n",
    "    arr=del_list(N)\n",
    "    \n",
    "    \n",
    "    count=0\n",
    "    \n",
    "    init_in=N**2+N\n",
    "    \n",
    "    init1_in=2*(N**2)\n",
    "    \n",
    "    for j1 in range (2*N,int(2*N+N*(N-1)/2)):  #dpadpbdt\n",
    "        a0=triang_ind[count][0]\n",
    "        a1=triang_ind[count][1]\n",
    "        index_ab=index_zp( a0 ,a1,arr)\n",
    "        abz_ind=index_ab+init1_in\n",
    "        \n",
    "        j1pm=j1+int(N*(N-1)/2)\n",
    "        \n",
    "        \n",
    "        for ju in np.array(list(set(a_list) - set(triang_ind[count]))): \n",
    "            \n",
    "            index_0=index_zp( ju ,a0,arr)\n",
    "            index_1=index_zp( ju ,a1,arr)\n",
    "            \n",
    "            index_0per=index_zp( a0,ju,arr)\n",
    "            index_1per=index_zp( a1 ,ju,arr)\n",
    "            \n",
    "            \n",
    "            \n",
    "            \n",
    "            \n",
    "            arr_in[j1][j1]=arr_in[j1][j1]+r[ju+N]*2j* (A[ju][a0]+A[a0][ju]+A[ju][a1]+A[a1][ju])\n",
    "            #print(j1,j1,\".\",ju+N,\".\",\"|\",ju,a0,a0,ju,ju,a1,a1,ju)\n",
    "            \n",
    "            arr_in[j1][a0]=arr_in[j1][a0]+ 2j* (r[init_in+index_1] -2*r[a1]*r[ju+N])  *(A[ju][a0]+A[a0][ju]+A[ju][a1]+A[a1][ju]  )\n",
    "            #print(j1,a0,\".\",init_in+index_1,\".andMinus2\",a1,ju+N,\"|\",ju,a0,a0,ju,ju,a1,a1,ju)\n",
    "            \n",
    "            \n",
    "            arr_in[j1][a1]=arr_in[j1][a1]+ 2j* r[init_in+index_0]  *(A[ju][a0]+A[a0][ju]+A[ju][a1]+A[a1][ju])\n",
    "            #print(j1,a1,\".\",init_in+index_0,\"|\",ju,a0,a0,ju,ju,a1,a1,ju)\n",
    "        \n",
    "\n",
    "            \n",
    "            ab_ind=init_in+index_0\n",
    "            \n",
    "            \n",
    "            \n",
    "            \n",
    "            arr_in[j1pm][j1pm]=arr_in[j1pm][j1pm]+r[ju+N]*(-2j)* (-A[ju][a0]-A[a0][ju]+A[ju][a1]+A[a1][ju])\n",
    "            #print(j1pm,j1pm,\".\",ju+N,\"|-\",ju,a0,\"-\",a0,ju,ju,a1,a1,ju)\n",
    "            \n",
    "            arr_in[j1pm][ab_ind]=arr_in[j1pm][ab_ind]+(-2j)*np.conjugate(r[a1])*(-A[ju][a0]-A[a0][ju]+A[ju][a1]+A[a1][ju])\n",
    "            #print(j1pm,ab_ind,\".conj\",a1,\"|-\",ju,a0,\"-\",a0,ju,ju,a1,a1,ju)\n",
    "            \n",
    "            arr_in[j1pm][a0]=arr_in[j1pm][a0]+  (-2j)*(np.conjugate(r[init_in+index_1])   - 2*np.conjugate(r[a1])*r[ju+N] ) *(-A[ju][a0]-A[a0][ju]+A[ju][a1]+A[a1][ju] )\n",
    "            #print(j1pm,a0,\".conj\",init_in+index_1,\"-\",\"conj\",a1,ju+N,\"|-\",ju,a0,\"-\",a0,ju,ju,a1,a1,ju)\n",
    "            \n",
    "            \n",
    "        count=count+1        \n",
    "        \n",
    "        \n",
    "        goun=0\n",
    "        \n",
    "        \n",
    "        for j in range(int(N**2-N),N**2):          \n",
    "            \n",
    "            a0=triang_ind[goun][0]\n",
    "            a1=triang_ind[goun][1]\n",
    "            index_ab=index_zp( a0 ,a1,arr)\n",
    "            abz_ind=index_ab+init1_in\n",
    "        \n",
    "            j1pm=j1+int(N*(N-1)/2)\n",
    "            \n",
    "            z0ind=a0+N\n",
    "            \n",
    "            \n",
    "            \n",
    "            for ju in np.array(list(set(a_list) - set(triang_ind[goun]))):\n",
    "                \n",
    "                \n",
    "                index_0=index_zp( ju ,a0,arr)\n",
    "                index_1=index_zp( ju ,a1,arr)\n",
    "            \n",
    "                index_0per=index_zp( a0,ju,arr)\n",
    "                index_1per=index_zp( a1 ,ju,arr)\n",
    "                \n",
    "                zpindex0=init_in+index_0\n",
    "                \n",
    "                \n",
    "                \n",
    "                \n",
    "                arr_in[j][j]=arr_in[j][j]+r[ju]*2j* (A[ju][a1]+A[a1][ju])\n",
    "                \n",
    "                arr_in[j][z0ind]=arr_in[j][z0ind]+ 2j* (A[ju][a1]+A[a1][ju]) * (  r[zpindex0] -2* r[a1]*r[ju] )\n",
    "                \n",
    "                arr_in[j][a1]=arr_in[j][a1]+ 2j* (A[ju][a1]+A[a1][ju]) * (  r[indexzz(a0,ju,triang_ind)])\n",
    "                \n",
    "                \n",
    "        \n",
    "        goun=goun+1\n",
    "        \n",
    "        \n",
    "    \n",
    "    \n",
    "    \n",
    "    \n",
    "    \n",
    "    \n",
    "    s1=  arr_in @ r       \n",
    "    drdt=drdt+ s1   \n",
    "    \n",
    "    return drdt"
   ]
  },
  {
   "cell_type": "code",
   "execution_count": null,
   "metadata": {},
   "outputs": [],
   "source": []
  },
  {
   "cell_type": "code",
   "execution_count": null,
   "metadata": {},
   "outputs": [],
   "source": [
    "import time \n",
    "\n",
    "t0=time.time()\n",
    "extern, i = computeLM(N)\n",
    "\n",
    "t = np.linspace(0, 8, 5000)\n",
    "\n",
    "r = odeintz(vectors2, r0, t, args=(extern, i))\n",
    "\n",
    "\n",
    "t1=time.time()\n",
    "\n",
    "print(t1-t0,\" \"+str(N),\" \"+str((t1-t0)/(N*(5*N-1)/2)) )"
   ]
  },
  {
   "cell_type": "code",
   "execution_count": null,
   "metadata": {},
   "outputs": [],
   "source": []
  },
  {
   "cell_type": "code",
   "execution_count": null,
   "metadata": {},
   "outputs": [],
   "source": [
    "for j in range(int(N*(5*N-1)/2)):\n",
    "    plt.plot(t,np.real(r[:,j]))\n",
    "    plt.plot(t,np.imag(r[:,j]))\n"
   ]
  },
  {
   "cell_type": "code",
   "execution_count": null,
   "metadata": {},
   "outputs": [],
   "source": []
  },
  {
   "cell_type": "code",
   "execution_count": null,
   "metadata": {},
   "outputs": [],
   "source": []
  },
  {
   "cell_type": "code",
   "execution_count": null,
   "metadata": {},
   "outputs": [],
   "source": []
  },
  {
   "cell_type": "code",
   "execution_count": null,
   "metadata": {},
   "outputs": [],
   "source": []
  },
  {
   "cell_type": "code",
   "execution_count": null,
   "metadata": {},
   "outputs": [],
   "source": []
  },
  {
   "cell_type": "code",
   "execution_count": null,
   "metadata": {},
   "outputs": [],
   "source": []
  },
  {
   "cell_type": "code",
   "execution_count": null,
   "metadata": {},
   "outputs": [],
   "source": []
  },
  {
   "cell_type": "code",
   "execution_count": 84,
   "metadata": {},
   "outputs": [],
   "source": [
    "def tin(a):\n",
    "            if a==\"xx\":\n",
    "                return 0\n",
    "            elif a==\"xy\":\n",
    "                return 1\n",
    "            elif a==\"xz\" :\n",
    "                return 2\n",
    "            elif a==\"yx\":\n",
    "                return 3\n",
    "            elif a==\"yy\":\n",
    "                return 4\n",
    "            elif a==\"yz\":\n",
    "                return 5\n",
    "            elif a==\"zx\":\n",
    "                return 6\n",
    "            elif a==\"zy\":\n",
    "                return 7\n",
    "            elif a==\"zz\":\n",
    "                return 8"
   ]
  },
  {
   "cell_type": "code",
   "execution_count": null,
   "metadata": {},
   "outputs": [],
   "source": []
  },
  {
   "cell_type": "code",
   "execution_count": null,
   "metadata": {},
   "outputs": [],
   "source": []
  },
  {
   "cell_type": "code",
   "execution_count": null,
   "metadata": {},
   "outputs": [],
   "source": []
  },
  {
   "cell_type": "code",
   "execution_count": null,
   "metadata": {},
   "outputs": [],
   "source": []
  },
  {
   "cell_type": "code",
   "execution_count": null,
   "metadata": {},
   "outputs": [],
   "source": []
  },
  {
   "cell_type": "code",
   "execution_count": null,
   "metadata": {},
   "outputs": [],
   "source": []
  },
  {
   "cell_type": "code",
   "execution_count": null,
   "metadata": {},
   "outputs": [],
   "source": []
  },
  {
   "cell_type": "code",
   "execution_count": null,
   "metadata": {},
   "outputs": [],
   "source": []
  },
  {
   "cell_type": "code",
   "execution_count": 184,
   "metadata": {},
   "outputs": [],
   "source": [
    "def vectors2(t,N):\n",
    "    \n",
    "    arr_in = np.zeros((int(N*(5*N-1)/2),int(N*(5*N-1)/2)))\n",
    "    a_list = np.array(list(range( N)))\n",
    "    triang_ind=up_triang(N)-N\n",
    "    arr=del_list(N)\n",
    "    \n",
    "    \n",
    "    count=0\n",
    "    \n",
    "    init_in=N**2+N\n",
    "    \n",
    "    init1_in=2*(N**2)\n",
    "    \n",
    "    for j1 in range (2*N,int(2*N+N*(N-1)/2)):  #dpadpbdt\n",
    "        a0=triang_ind[count][0]\n",
    "        a1=triang_ind[count][1]\n",
    "        index_ab=index_zp( a0 ,a1,arr)\n",
    "        abz_ind=index_ab+init1_in\n",
    "        \n",
    "        j1pm=j1+int(N*(N-1)/2)\n",
    "        \n",
    "        for ju in np.array(list(set(a_list) - set(triang_ind[count]))): \n",
    "            \n",
    "            index_0=index_zp( ju ,a0,arr)\n",
    "            index_1=index_zp( ju ,a1,arr)\n",
    "            \n",
    "            index_0per=index_zp( a0,ju,arr)\n",
    "            index_1per=index_zp( a1 ,ju,arr)\n",
    "            \n",
    "            \n",
    "            \n",
    "            \n",
    "            #arr_in[j1][j1]=arr_in[j1][j1]+r[ju]*2j* (A[ju][a0]+A[a0][ju]+A[ju][a1]+A[a1][ju])\n",
    "            print(j1,j1,\".\",ju+N,\".\",\"|\",ju,a0,a0,ju,ju,a1,a1,ju)\n",
    "            \n",
    "            #arr_in[j1][a0]=arr_in[j1][a0]+ 2j* (r[init_in+index_0] -2*r[a1]*r[ju])  *(A[ju][a0]+A[a0][ju]+A[ju][a1]+A[a1][ju]  )\n",
    "            print(j1,a0,\".\",init_in+index_1,\".andMinus2\",a1,ju+N,\"|\",ju,a0,a0,ju,ju,a1,a1,ju)\n",
    "            \n",
    "            \n",
    "            #arr_in[j1][a1]=arr_in[j1][a1]+ 2j* r[init_in+index_1]  *(A[ju][a0]+A[a0][ju]+A[ju][a1]+A[a1][ju])\n",
    "            print(j1,a1,\".\",init_in+index_0,\"|\",ju,a0,a0,ju,ju,a1,a1,ju)\n",
    "        \n",
    "\n",
    "            \n",
    "            ab_ind=init_in+index_0\n",
    "            \n",
    "            \n",
    "            \n",
    "            \n",
    "            #arr_in[j1pm][j1pm]=arr_in[j1pm][j1pm]+r[ju]*(-2j)* (-A[ju][a0]-A[a0][ju]+A[ju][a1]+A[a1][ju])\n",
    "            \n",
    "            print(j1pm,j1pm,\".\",ju+N,\"|-\",ju,a0,\"-\",a0,ju,ju,a1,a1,ju)\n",
    "            \n",
    "            #arr_in[j1pm][ab_ind]=arr_in[j1pm][ab_ind]+(-2j)*np.conjugate(r[a1])*(-A[ju][a0]-A[a0][ju]+A[ju][a1]+A[a1][ju])\n",
    "            \n",
    "            print(j1pm,ab_ind,\".conj\",a1,\"|-\",ju,a0,\"-\",a0,ju,ju,a1,a1,ju)\n",
    "            \n",
    "            #arr_in[j1pm][a0]=arr_in[j1pm][a0]+  (-2j)*(np.conjugate(r[ab_ind])   - 2*np.conjugate(r[a1])*r[ju] ) *(-A[ju][a0]-A[a0][ju]+A[ju][a1]+A[a1][ju] )\n",
    "            \n",
    "            print(j1pm,a0,\".conj\",init_in+index_1,\"-\",\"conj\",a1,ju+N,\"|-\",ju,a0,\"-\",a0,ju,ju,a1,a1,ju)\n",
    "            \n",
    "            \n",
    "            \n",
    "        count=count+1        \n",
    "        \n",
    "        \n",
    "    goun=0\n",
    "    \n",
    "    print(\"here\")\n",
    "        \n",
    "        \n",
    "    for j in range(int(N**2-N),(N**2)):          \n",
    "            \n",
    "        a0=triang_ind[goun][0]\n",
    "        a1=triang_ind[goun][1]\n",
    "        index_ab=index_zp( a0 ,a1,arr)\n",
    "        abz_ind=index_ab+init1_in\n",
    "            \n",
    "        z0ind=a0+N\n",
    "            \n",
    "            \n",
    "            \n",
    "        for ru in np.array(list(set(a_list) - set(triang_ind[goun]))):\n",
    "                \n",
    "                \n",
    "            index_0=index_zp( ru ,a0,arr)\n",
    "            index_1=index_zp( ru ,a1,arr)\n",
    "            \n",
    "            index_0per=index_zp( a0,ru,arr)\n",
    "            index_1per=index_zp( a1 ,ru,arr)\n",
    "                \n",
    "            zpindex0=init_in+index_0\n",
    "                \n",
    "                \n",
    "                \n",
    "                \n",
    "            #arr_in[j][j]=arr_in[j][j]+r[ju]*2j* (A[ju][a1]+A[a1][ju])\n",
    "                \n",
    "            print(index_ab+N**2+N,index_ab+N**2+N,ru+N,\"|\",ru,a1,a1,ru)\n",
    "                \n",
    "            #arr_in[j][z0ind]=arr_in[j][z0ind]+ 2j* (A[ju][a1]+A[a1][ju]) * (  r[zpindex0] -2* r[a1]*r[ju] )\n",
    "                \n",
    "            print(index_ab+N**2+N,z0ind,zpindex0,\".andMinus2\",a1,ru,\"|\",ru,a1,a1,ru)\n",
    "            \n",
    "                \n",
    "            #arr_in[j][a1]=arr_in[j][a1]+ 2j* (A[ju][a1]+A[a1][ju]) * (  r[indexzz(a0,ju,triang_ind)])\n",
    "                \n",
    "            print(index_ab+N**2+N,a1,indexzz(a0,ru,triang_ind),ru,a1,a1,ru)\n",
    "                \n",
    "                \n",
    "        \n",
    "        goun=goun+1\n",
    "        \n",
    "        \n",
    "\n",
    "    \n",
    "    return 89"
   ]
  },
  {
   "cell_type": "code",
   "execution_count": 185,
   "metadata": {},
   "outputs": [
    {
     "name": "stdout",
     "output_type": "stream",
     "text": [
      "6 6 . 5 . | 2 0 0 2 2 1 1 2\n",
      "6 0 . 17 .andMinus2 1 5 | 2 0 0 2 2 1 1 2\n",
      "6 1 . 16 | 2 0 0 2 2 1 1 2\n",
      "9 9 . 5 |- 2 0 - 0 2 2 1 1 2\n",
      "9 16 .conj 1 |- 2 0 - 0 2 2 1 1 2\n",
      "9 0 .conj 17 - conj 1 5 |- 2 0 - 0 2 2 1 1 2\n",
      "7 7 . 4 . | 1 0 0 1 1 2 2 1\n",
      "7 0 . 15 .andMinus2 2 4 | 1 0 0 1 1 2 2 1\n",
      "7 2 . 14 | 1 0 0 1 1 2 2 1\n",
      "10 10 . 4 |- 1 0 - 0 1 1 2 2 1\n",
      "10 14 .conj 2 |- 1 0 - 0 1 1 2 2 1\n",
      "10 0 .conj 15 - conj 2 4 |- 1 0 - 0 1 1 2 2 1\n",
      "8 8 . 3 . | 0 1 1 0 0 2 2 0\n",
      "8 1 . 13 .andMinus2 2 3 | 0 1 1 0 0 2 2 0\n",
      "8 2 . 12 | 0 1 1 0 0 2 2 0\n",
      "11 11 . 3 |- 0 1 - 1 0 0 2 2 0\n",
      "11 12 .conj 2 |- 0 1 - 1 0 0 2 2 0\n",
      "11 1 .conj 13 - conj 2 3 |- 0 1 - 1 0 0 2 2 0\n",
      "here\n",
      "12 12 5 | 2 1 1 2\n",
      "12 3 16 .andMinus2 1 2 | 2 1 1 2\n",
      "12 1 19 2 1 1 2\n",
      "13 13 4 | 1 2 2 1\n",
      "13 3 14 .andMinus2 2 1 | 1 2 2 1\n",
      "13 2 18 1 2 2 1\n",
      "15 15 3 | 0 2 2 0\n",
      "15 4 12 .andMinus2 2 0 | 0 2 2 0\n",
      "15 2 18 0 2 2 0\n"
     ]
    },
    {
     "data": {
      "text/plain": [
       "89"
      ]
     },
     "execution_count": 185,
     "metadata": {},
     "output_type": "execute_result"
    }
   ],
   "source": [
    "vectors2(8,3)"
   ]
  },
  {
   "cell_type": "code",
   "execution_count": null,
   "metadata": {},
   "outputs": [],
   "source": []
  },
  {
   "cell_type": "code",
   "execution_count": 96,
   "metadata": {},
   "outputs": [
    {
     "data": {
      "text/plain": [
       "2"
      ]
     },
     "execution_count": 96,
     "metadata": {},
     "output_type": "execute_result"
    }
   ],
   "source": [
    "index_ab=index_zp( 1 ,0,arr)\n",
    "\n",
    "index_ab"
   ]
  },
  {
   "cell_type": "code",
   "execution_count": 145,
   "metadata": {},
   "outputs": [
    {
     "data": {
      "text/plain": [
       "19"
      ]
     },
     "execution_count": 145,
     "metadata": {},
     "output_type": "execute_result"
    }
   ],
   "source": [
    "arr=del_list(N)\n",
    "count=0\n",
    "init_in=N**2+N\n",
    "a0=triang_ind[count][0]\n",
    "a1=triang_ind[count][1]\n",
    "index_1per=index_zp( a0 ,2,arr)\n",
    "\n",
    "index_zp(2,0,arr)+init1_in\n"
   ]
  },
  {
   "cell_type": "code",
   "execution_count": 109,
   "metadata": {},
   "outputs": [
    {
     "data": {
      "text/plain": [
       "5"
      ]
     },
     "execution_count": 109,
     "metadata": {},
     "output_type": "execute_result"
    }
   ],
   "source": [
    "index_zp(a,b,arr)"
   ]
  },
  {
   "cell_type": "code",
   "execution_count": 113,
   "metadata": {},
   "outputs": [
    {
     "data": {
      "text/plain": [
       "[2]"
      ]
     },
     "execution_count": 113,
     "metadata": {},
     "output_type": "execute_result"
    }
   ],
   "source": [
    "list(set(a_list) - set(triang_ind[0]))"
   ]
  },
  {
   "cell_type": "code",
   "execution_count": 126,
   "metadata": {},
   "outputs": [
    {
     "data": {
      "text/plain": [
       "array([[0, 1],\n",
       "       [0, 2],\n",
       "       [1, 2]], dtype=int64)"
      ]
     },
     "execution_count": 126,
     "metadata": {},
     "output_type": "execute_result"
    }
   ],
   "source": [
    "triang_ind"
   ]
  },
  {
   "cell_type": "code",
   "execution_count": 132,
   "metadata": {},
   "outputs": [],
   "source": [
    "index_0per=index_zp(2,0,arr)\n",
    "index_1per=index_zp( 1,2,arr)"
   ]
  },
  {
   "cell_type": "code",
   "execution_count": 134,
   "metadata": {},
   "outputs": [
    {
     "data": {
      "text/plain": [
       "4"
      ]
     },
     "execution_count": 134,
     "metadata": {},
     "output_type": "execute_result"
    }
   ],
   "source": [
    "index_0per"
   ]
  },
  {
   "cell_type": "code",
   "execution_count": 141,
   "metadata": {},
   "outputs": [
    {
     "data": {
      "text/plain": [
       "array([2])"
      ]
     },
     "execution_count": 141,
     "metadata": {},
     "output_type": "execute_result"
    }
   ],
   "source": [
    "count=0\n",
    "np.array(list(set(a_list) - set(triang_ind[count])))"
   ]
  },
  {
   "cell_type": "code",
   "execution_count": 148,
   "metadata": {},
   "outputs": [
    {
     "data": {
      "text/plain": [
       "4"
      ]
     },
     "execution_count": 148,
     "metadata": {},
     "output_type": "execute_result"
    }
   ],
   "source": [
    "index_zp(2,0,arr)"
   ]
  },
  {
   "cell_type": "code",
   "execution_count": 175,
   "metadata": {},
   "outputs": [
    {
     "data": {
      "text/plain": [
       "array([[0, 1],\n",
       "       [0, 2],\n",
       "       [1, 2]], dtype=int64)"
      ]
     },
     "execution_count": 175,
     "metadata": {},
     "output_type": "execute_result"
    }
   ],
   "source": [
    "triang_ind"
   ]
  },
  {
   "cell_type": "code",
   "execution_count": 225,
   "metadata": {},
   "outputs": [
    {
     "data": {
      "text/plain": [
       "2"
      ]
     },
     "execution_count": 225,
     "metadata": {},
     "output_type": "execute_result"
    }
   ],
   "source": [
    "N=3\n",
    "arr=del_list(N)\n",
    "a=1\n",
    "b=0\n",
    "\n",
    "index_zp(a,b,arr)"
   ]
  },
  {
   "cell_type": "code",
   "execution_count": null,
   "metadata": {},
   "outputs": [],
   "source": []
  }
 ],
 "metadata": {
  "kernelspec": {
   "display_name": "Python 3",
   "language": "python",
   "name": "python3"
  },
  "language_info": {
   "codemirror_mode": {
    "name": "ipython",
    "version": 3
   },
   "file_extension": ".py",
   "mimetype": "text/x-python",
   "name": "python",
   "nbconvert_exporter": "python",
   "pygments_lexer": "ipython3",
   "version": "3.8.3"
  }
 },
 "nbformat": 4,
 "nbformat_minor": 4
}
