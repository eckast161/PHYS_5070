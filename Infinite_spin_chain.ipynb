{
 "cells": [
  {
   "cell_type": "code",
   "execution_count": 967,
   "metadata": {},
   "outputs": [],
   "source": [
    "import matplotlib.pyplot as plt\n",
    "import numpy as np\n",
    "\n",
    "\"\"\"In order to provide a better presentation of the graphs we use the rcParams options shown below.\"\"\"\n",
    "\n",
    "import matplotlib\n",
    "matplotlib.rcParams['text.usetex'] = False\n",
    "matplotlib.rcParams['mathtext.fontset'] = 'stix'\n",
    "matplotlib.rcParams['font.family'] = 'STIXGeneral'\n",
    "matplotlib.rcParams['font.size'] = 15\n",
    "matplotlib.rcParams['figure.figsize'] = (8.0, 6.0)"
   ]
  },
  {
   "cell_type": "code",
   "execution_count": 968,
   "metadata": {},
   "outputs": [],
   "source": [
    "\"\"\"Our system of differential equations belongs to the complex space, that is why we implemented the code suggested in\"\"\"\n",
    "\"\"\"https://stackoverflow.com/questions/19910189/scipy-odeint-with-complex-initial-values.\"\"\"\n",
    "\n",
    "import time\n",
    "import numpy as np\n",
    "from scipy.integrate import odeint\n",
    "from scipy.special import zeta\n",
    "\n",
    "def odeintz(func, z0, t, **kwargs):\n",
    "   \n",
    "    \n",
    "    \"\"\"An odeint-like function for complex valued differential equations.\n",
    "\n",
    "    Inputs:\n",
    "    ----------\n",
    "      -func: function associated to dr/dt=f(x;t), where x is the set of parameters and variables to be determined\n",
    "      -z0: 1d array with length N*(5N-1)/2\n",
    "      -t: 1d array from t=0 to t=tf (parameter set by the user)\n",
    "      - **kwargs: keyword arguments related with external functions to be used in odeint\n",
    "    \n",
    "    Return:\n",
    "      -z: multivariable array with the solution of the differential equation associated with each variable\"\"\"\n",
    "\n",
    "    # Disallow Jacobian-related arguments.\n",
    "    _unsupported_odeint_args = ['Dfun', 'col_deriv', 'ml', 'mu']\n",
    "    bad_args = [arg for arg in kwargs if arg in _unsupported_odeint_args]\n",
    "    if len(bad_args) > 0:\n",
    "        raise ValueError(\"The odeint argument %r is not supported by \"\n",
    "                         \"odeintz.\" % (bad_args[0],))\n",
    "\n",
    "    # Make sure z0 is a numpy array of type np.complex128.\n",
    "    z0 = np.array(z0, dtype=np.complex128, ndmin=1)\n",
    "\n",
    "    def realfunc(x, t, *args):\n",
    "        z = x.view(np.complex128)\n",
    "        dzdt = func(z, t, *args)\n",
    "        # func might return a python list, so convert its return\n",
    "        # value to an array with type np.complex128, and then return\n",
    "        # a np.float64 view of that array.\n",
    "        return np.asarray(dzdt, dtype=np.complex128).view(np.float64)\n",
    "\n",
    "    result = odeint(realfunc, z0.view(np.float64), t, **kwargs)\n",
    "\n",
    "    if kwargs.get('full_output', False):\n",
    "        z = result[0].view(np.complex128)\n",
    "        infodict = result[1]\n",
    "        return z, infodict\n",
    "    else:\n",
    "        z = result.view(np.complex128)\n",
    "        return z"
   ]
  },
  {
   "cell_type": "code",
   "execution_count": 969,
   "metadata": {},
   "outputs": [],
   "source": [
    "#Set of parameters\n",
    "\n",
    "#J\n",
    "#d\n",
    "#epsilon\n",
    "#a_cut\n",
    "#gamma_du\n",
    "#gamma_ud\n",
    "#gamma_el"
   ]
  },
  {
   "cell_type": "code",
   "execution_count": 996,
   "metadata": {},
   "outputs": [],
   "source": [
    "def g_trun(epsilon,a_cut,index_a,partial_terms):\n",
    "    \n",
    "    \"\"\"Compute the function g explained in the main text Infinite_spin_chain.\n",
    "    \n",
    "    Input:\n",
    "    epsilon: exponent in the inverse power law for the potential interaction.\n",
    "    a_cut: cutoff value of the index a to be considered.\n",
    "    index_a: first index of the two correlation operators.\n",
    "    partial_terms: partial terms intended to find a better approximation.\n",
    "    \n",
    "    Return: value of g function with the given parameters.    \"\"\"\n",
    "    \n",
    "    terms = [1/abs(n-index_a)**epsilon+1/abs(n+index_a)**epsilon for n in range(a_cut+1,a_cut+partial_terms+1)]\n",
    "    partial_sum = sum(terms)\n",
    "    \n",
    "    if partial_sum<=1e-3:\n",
    "        return 0\n",
    "    else:\n",
    "        return partial_sum\n"
   ]
  },
  {
   "cell_type": "code",
   "execution_count": null,
   "metadata": {},
   "outputs": [],
   "source": []
  },
  {
   "cell_type": "code",
   "execution_count": null,
   "metadata": {},
   "outputs": [],
   "source": []
  },
  {
   "cell_type": "code",
   "execution_count": 998,
   "metadata": {},
   "outputs": [],
   "source": [
    "#J\n",
    "#d\n",
    "#epsilon\n",
    "#a_cut\n",
    "gamma_du=0.4\n",
    "gamma_ud=0.2\n",
    "gamma_el=1.6\n",
    "\n",
    "gamma_plus=gamma_du/2   #gamma factor + that appears in the master equation associated to du in natural units of energy.\n",
    "gamma_minus=gamma_ud/2  #gamma factor - that appears in the master equation associated to ud in natural units of energy.\n",
    "gamma_z=gamma_el/8      #gamma factor z that appears in the master equation associated to el in natural units of energy.  \n"
   ]
  },
  {
   "cell_type": "code",
   "execution_count": 999,
   "metadata": {},
   "outputs": [],
   "source": [
    "def trace(A):\n",
    "    \n",
    "    \"\"\"Returns the trace of a square matrix\n",
    "    \n",
    "    Inputs:\n",
    "    ----------\n",
    "      -array: array associated to the matrix that we want to determine the trace\n",
    "    \n",
    "    Return:\n",
    "      -complex: return a complex number which is the trace of the matrix of the input\"\"\" \n",
    "    \n",
    "    \n",
    "    return np.trace(A)  #Returns the trace of a square matrix\n",
    "\n",
    "\n",
    "def matmu(A,B):\n",
    "    \"\"\"Perform the matrix multiplication of the matrices A and B of the form A.B\n",
    "    \n",
    "    Inputs:\n",
    "    ----------\n",
    "      -arrays: two array associated to the matrices A and B respectively\n",
    "    \n",
    "    Return:\n",
    "      -array: array with the result of A.B or raises an error otherwise\"\"\" \n",
    "    \n",
    "    return np.matmul(A,B) #Returns the result of the multiplication of matrix A and B in the order A.B"
   ]
  },
  {
   "cell_type": "code",
   "execution_count": 1000,
   "metadata": {},
   "outputs": [],
   "source": [
    "rho_init0=np.array([[1/2,1/2],[1/2,1/2]])\n",
    "\n",
    "sigma_p= np.array([[0,1],[0,0]])  #Matrix sigma+\n",
    "sigma_m= np.array([[0,0],[1,0]])  #Matrix sigma-\n",
    "sigma_z= np.array([[1,0],[0,-1]]) #Matrix sigmaz\n",
    "\n",
    "\n",
    "##Initial values per operator\n",
    "\n",
    "sp_init0=trace(matmu(rho_init0,sigma_p))  #initial value for sigma+\n",
    "sz_init0=trace(matmu(rho_init0,sigma_z))  #initial value for sigma-\n",
    "sm_init0=trace(matmu(rho_init0,sigma_m))  #initial value for sigmaz"
   ]
  },
  {
   "cell_type": "code",
   "execution_count": 1001,
   "metadata": {},
   "outputs": [],
   "source": [
    "def init_vect(a_cut):\n",
    "    r0=[]    \n",
    "    r0.append(sz_init0)  #z initial value\n",
    "    r0.append(sp_init0)\n",
    "    r0.append(sz_init0**2)\n",
    "    \n",
    "\n",
    "    zp=sz_init0*sp_init0\n",
    "    pp=sp_init0*sp_init0\n",
    "    pm=sp_init0*sm_init0\n",
    "\n",
    "    zp_list=[]\n",
    "    pp_list=[]\n",
    "    pm_list=[]\n",
    "\n",
    "    for j in range(a_cut):\n",
    "        zp_list.append(zp)\n",
    "        pp_list.append(pp)\n",
    "        pm_list.append(pm)\n",
    "\n",
    "    return r0+zp_list+pp_list+pm_list    "
   ]
  },
  {
   "cell_type": "code",
   "execution_count": null,
   "metadata": {},
   "outputs": [],
   "source": []
  },
  {
   "cell_type": "code",
   "execution_count": null,
   "metadata": {},
   "outputs": [],
   "source": []
  },
  {
   "cell_type": "code",
   "execution_count": 1068,
   "metadata": {},
   "outputs": [],
   "source": [
    "a_cut=1000\n",
    "J=3\n",
    "epsilon=6\n",
    "d=1\n",
    "partial_terms=100\n",
    "\n",
    "\n",
    "#J\n",
    "#d\n",
    "#epsilon\n",
    "#a_cut\n",
    "gamma_du=0.4\n",
    "gamma_ud=0.2\n",
    "gamma_el=1.6\n",
    "\n",
    "gamma_plus=gamma_du/2   #gamma factor + that appears in the master equation associated to du in natural units of energy.\n",
    "gamma_minus=gamma_ud/2  #gamma factor - that appears in the master equation associated to ud in natural units of energy.\n",
    "gamma_z=gamma_el/8      #gamma factor z that appears in the master equation associated to el in natural units of energy.  \n",
    "\n",
    "\n",
    "def vectorsR(r, t,a_cut=a_cut,J=J,epsilon=epsilon,dist=dist):\n",
    "    \n",
    "    \n",
    "    \"\"\"Obtains the vector which summarizes the linear and non-linear elements of the differential matrix wrriten of the form\n",
    "    dr/dt=G(r,t).r, where the matrix G depends of the vector that we want to simulate\n",
    "    \n",
    "    Inputs:\n",
    "    \n",
    "    Returns:\n",
    "      -drdt: vector function with the different contributions from linear and non-linear terms that we require to initialize\n",
    "      odeintz\"\"\"\n",
    "    \n",
    "    acut_list=list(range(1,a_cut+1))\n",
    "    \n",
    "    \n",
    "    matrix_zero=np.zeros((int(3+3*a_cut),int(3+3*a_cut)),dtype = 'complex_')\n",
    "    \n",
    "    drdt = matrix_zero @ r   #sum of the linear and the constant part\n",
    "    \n",
    "    gamps=gamma_plus+gamma_minus+4*gamma_z\n",
    "    gam1=3*(gamma_plus+gamma_minus)+4*gamma_z\n",
    "    \n",
    "    drdt[0]=2*(gamma_plus-gamma_minus)-2*(gamma_plus+gamma_minus)*r[0]  #decay\n",
    "    drdt[1]= 2j*(J/(d**epsilon))*r[0]*r[1]*g_trun(epsilon,a_cut,0,partial_terms)  -gamps*r[1]\n",
    "    drdt[2]= 4*(gamma_plus-gamma_minus)*r[0]-4*(gamma_plus+gamma_minus)*r[2]  #decay\n",
    "    \n",
    "    \n",
    "    for j in range(0,a_cut):\n",
    "        \n",
    "        index1=int(3+a_cut+j)\n",
    "        index2=int(3+2*a_cut+j)\n",
    "        \n",
    "        drdt[1]= drdt[1]+4j*(J/(d**epsilon))*r[3+j]/((j+1)**epsilon)\n",
    "        \n",
    "        \n",
    "        \n",
    "        drdt[3+j]= drdt[3+j]+2*(gamma_plus-gamma_minus)*r[1]-gam1*r[3+j]  #decay\n",
    "        \n",
    "        drdt[3+j]= drdt[3+j]+2j*(J/(d**epsilon))*( r[1]/(j+1)**epsilon +(2*zeta(epsilon)-1/(j+1)**epsilon)*(r[3+j]*r[0]+r[2]*r[1]-2*r[0]**2*r[1]   )  )\n",
    "        drdt[3+j]= drdt[3+j]+2j*(J/(d**epsilon))*r[0]*( r[0]*r[1]*g_trun(epsilon,a_cut,0,partial_terms)-r[3+j]/(j+1)**epsilon )\n",
    "        \n",
    "        \n",
    "\n",
    "        \n",
    "        \n",
    "        drdt[index1]=drdt[index1]-2*gamps*r[index1] #decay\n",
    "        \n",
    "        drdt[index1]=drdt[index1]+4j*(J/(d)**epsilon)*r[1]*(1+1/2**epsilon)*r[3+j]/(j+1)**epsilon\n",
    "        drdt[index1]=drdt[index1]+4j*(J/(d)**epsilon)*r[1]**2*r[0]*(g_trun(epsilon,a_cut,0,partial_terms)+g_trun(epsilon,a_cut,j+1,partial_terms))\n",
    "        drdt[index1]=drdt[index1]+4j*(J/(d)**epsilon)*(2*zeta(epsilon)-1/(j+1)**epsilon)*r[0]*(r[index1]-2*r[1]**2)\n",
    "        \n",
    "\n",
    "        \n",
    "        \n",
    "\n",
    "        \n",
    "        \n",
    "        drdt[index2]=drdt[index2]-2*gamps*r[index2] #decay\n",
    "        \n",
    "        drdt[index2]=drdt[index2]-4j*(J/(d)**epsilon)*(1/2**epsilon-1)*np.real(np.conjugate(r[1])*r[3+j]/(j+1)**epsilon)\n",
    "        drdt[index2]=drdt[index2]-4j*(J/(d)**epsilon)*(abs(r[1]))**2*np.real(r[0])*(g_trun(epsilon,a_cut,j+1,partial_terms)-g_trun(epsilon,a_cut,0,partial_terms))\n",
    "        \n",
    "        \n",
    "        for w in range(1,a_cut+1):\n",
    "            \n",
    "            drdt[3+j]=drdt[3+j]+4j*(J/(d)**epsilon)*r[0]*r[2+w]/((w)**epsilon)\n",
    "            \n",
    "            if w!=j+1:\n",
    "                drdt[index1]=drdt[index1]+4j*(J/(d)**epsilon)*r[1]*r[2+w]*( 1/abs(w+j+1)**epsilon+1/abs(w-(j+1))**epsilon+2/w**epsilon )\n",
    "                drdt[index2]=drdt[index2]-4j*(J/(d)**epsilon)*np.real(np.conjugate(r[1])*r[2+w]*(1/abs(w+j+1)**epsilon+1/abs(w-(j+1))**epsilon-2/w**epsilon)   )   \n",
    "                \n",
    "        \n",
    "        \n",
    "        \n",
    "        \n",
    "\n",
    "   \n",
    "                   \n",
    "    return drdt\n",
    "\n",
    "\n",
    "r0=init_vect(a_cut)\n",
    "\n"
   ]
  },
  {
   "cell_type": "code",
   "execution_count": 1069,
   "metadata": {},
   "outputs": [],
   "source": [
    "init_time=0\n",
    "final_time=6\n",
    "steps=200\n",
    "\n",
    "\n",
    "t = np.linspace(init_time, final_time, steps)"
   ]
  },
  {
   "cell_type": "code",
   "execution_count": null,
   "metadata": {},
   "outputs": [],
   "source": [
    "import time\n",
    "\n",
    "t0=time.time()\n",
    "\n",
    "z=odeintz(vectorsR, r0, t)#, args=(N,L))\n",
    "\n",
    "\n",
    "t1=time.time()\n",
    "\n",
    "print(t1-t0)"
   ]
  },
  {
   "cell_type": "code",
   "execution_count": null,
   "metadata": {},
   "outputs": [],
   "source": []
  },
  {
   "cell_type": "code",
   "execution_count": null,
   "metadata": {},
   "outputs": [],
   "source": [
    "for j in range(3+int(3*a_cut)):\n",
    "    plt.plot(t,np.real(z[:,j]),label=\"Re\"+str(j))\n",
    "    plt.plot(t,np.imag(z[:,j]),label=\"Im\"+str(j))"
   ]
  },
  {
   "cell_type": "code",
   "execution_count": null,
   "metadata": {},
   "outputs": [],
   "source": []
  },
  {
   "cell_type": "code",
   "execution_count": null,
   "metadata": {},
   "outputs": [],
   "source": []
  },
  {
   "cell_type": "code",
   "execution_count": null,
   "metadata": {},
   "outputs": [],
   "source": []
  },
  {
   "cell_type": "code",
   "execution_count": null,
   "metadata": {},
   "outputs": [],
   "source": []
  },
  {
   "cell_type": "code",
   "execution_count": null,
   "metadata": {},
   "outputs": [],
   "source": []
  },
  {
   "cell_type": "code",
   "execution_count": null,
   "metadata": {},
   "outputs": [],
   "source": []
  },
  {
   "cell_type": "code",
   "execution_count": null,
   "metadata": {},
   "outputs": [],
   "source": []
  },
  {
   "cell_type": "code",
   "execution_count": 1031,
   "metadata": {},
   "outputs": [
    {
     "data": {
      "text/plain": [
       "0.16464582990855328"
      ]
     },
     "execution_count": 1031,
     "metadata": {},
     "output_type": "execute_result"
    }
   ],
   "source": [
    "epsilon=4\n",
    "a_cut=1\n",
    "a1=0\n",
    "partial_terms=100\n",
    "\n",
    "g_trun(epsilon,a_cut,a1,partial_terms)"
   ]
  },
  {
   "cell_type": "code",
   "execution_count": null,
   "metadata": {},
   "outputs": [],
   "source": []
  },
  {
   "cell_type": "code",
   "execution_count": null,
   "metadata": {},
   "outputs": [],
   "source": []
  },
  {
   "cell_type": "code",
   "execution_count": null,
   "metadata": {},
   "outputs": [],
   "source": []
  },
  {
   "cell_type": "code",
   "execution_count": null,
   "metadata": {},
   "outputs": [],
   "source": []
  },
  {
   "cell_type": "code",
   "execution_count": 898,
   "metadata": {},
   "outputs": [
    {
     "data": {
      "text/plain": [
       "<matplotlib.legend.Legend at 0x13e6f83ce80>"
      ]
     },
     "execution_count": 898,
     "metadata": {},
     "output_type": "execute_result"
    },
    {
     "data": {
      "image/png": "[encoded data removed]",
      "text/plain": [
       "<Figure size 576x432 with 1 Axes>"
      ]
     },
     "metadata": {
      "needs_background": "light"
     },
     "output_type": "display_data"
    }
   ],
   "source": [
    "## Use this cell to check pure decay\n",
    "\n",
    "\n",
    "for j in range(3+int(3*a_cut)):\n",
    "    plt.plot(t,np.real(z[:,j]),label=\"Re\"+str(j))\n",
    "    #plt.plot(t,np.imag(z[:,j]),label=\"Im\"+str(j))\n",
    "\n",
    "    \n",
    "def f1(t):\n",
    "    return  (gamma_plus-gamma_minus)*(1-np.exp(-2*(gamma_plus+gamma_minus)*t))/(gamma_plus+gamma_minus)    \n",
    "\n",
    "\n",
    "def f2(t):\n",
    "    return ( (gamma_plus-gamma_minus)*(1-np.exp(-2*(gamma_plus+gamma_minus)*t))/(gamma_plus+gamma_minus) )**2\n",
    "    \n",
    "def f3(t):\n",
    "    return  (1/2)*np.exp(-(gamma_plus+gamma_minus+4*gamma_z)*t)   \n",
    "\n",
    "def f4(t):\n",
    "    return  (1/2)*np.exp(-(gamma_plus+gamma_minus+4*gamma_z)*t) * (gamma_plus-gamma_minus)*(1-np.exp(-2*(gamma_plus+gamma_minus)*t))/(gamma_plus+gamma_minus) \n",
    "\n",
    "def f5(t):\n",
    "    return  f3(t)*f3(t)\n",
    "\n",
    "def f6(t):\n",
    "    return  f3(t)*f3(t)\n",
    "\n",
    "plt.scatter(t,f1(t),marker='.', label=\"z\")   \n",
    "plt.scatter(t,f2(t),marker='.', label=\"zz\") \n",
    "plt.scatter(t,f3(t),marker='.', label=\"p\") \n",
    "plt.scatter(t,f4(t),marker='.', label=\"zp\")\n",
    "plt.scatter(t,f5(t),marker='.', label=\"pp\")\n",
    "plt.scatter(t,f6(t),marker='+', label=\"pm\")\n",
    "      \n",
    "\n",
    "plt.legend()"
   ]
  },
  {
   "cell_type": "code",
   "execution_count": null,
   "metadata": {},
   "outputs": [],
   "source": []
  },
  {
   "cell_type": "code",
   "execution_count": null,
   "metadata": {},
   "outputs": [],
   "source": []
  },
  {
   "cell_type": "code",
   "execution_count": null,
   "metadata": {},
   "outputs": [],
   "source": []
  },
  {
   "cell_type": "code",
   "execution_count": null,
   "metadata": {},
   "outputs": [],
   "source": []
  },
  {
   "cell_type": "code",
   "execution_count": null,
   "metadata": {},
   "outputs": [],
   "source": []
  },
  {
   "cell_type": "code",
   "execution_count": null,
   "metadata": {},
   "outputs": [],
   "source": []
  },
  {
   "cell_type": "code",
   "execution_count": null,
   "metadata": {},
   "outputs": [],
   "source": []
  }
 ],
 "metadata": {
  "kernelspec": {
   "display_name": "Python 3",
   "language": "python",
   "name": "python3"
  },
  "language_info": {
   "codemirror_mode": {
    "name": "ipython",
    "version": 3
   },
   "file_extension": ".py",
   "mimetype": "text/x-python",
   "name": "python",
   "nbconvert_exporter": "python",
   "pygments_lexer": "ipython3",
   "version": "3.8.3"
  }
 },
 "nbformat": 4,
 "nbformat_minor": 4
}
